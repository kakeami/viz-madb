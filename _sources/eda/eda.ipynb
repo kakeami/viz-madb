{
 "cells": [
  {
   "cell_type": "markdown",
   "id": "36294d51-961c-4f57-be0f-68e93ad9d167",
   "metadata": {},
   "source": [
    "# そもそもどんなデータを扱うの？"
   ]
  },
  {
   "cell_type": "markdown",
   "id": "d0695fd6-59da-414c-82a0-391078d0adaf",
   "metadata": {},
   "source": [
    "本サイトで扱うデータについてまとめます．"
   ]
  },
  {
   "cell_type": "markdown",
   "id": "6b2e4be7-ea49-4787-b9a4-7084b78bb22a",
   "metadata": {},
   "source": [
    "## 環境構築"
   ]
  },
  {
   "cell_type": "code",
   "execution_count": 6,
   "id": "e955b970-70b7-49e1-9c38-2632dc0fa1ca",
   "metadata": {},
   "outputs": [],
   "source": [
    "import pandas as pd\n",
    "\n",
    "import warnings\n",
    "warnings.filterwarnings('ignore')"
   ]
  },
  {
   "cell_type": "code",
   "execution_count": 7,
   "id": "08a02d68-06bc-4dca-b64a-1458427de230",
   "metadata": {},
   "outputs": [],
   "source": [
    "PATH_DATA = '../../data/preprocess/out/magazines.csv'"
   ]
  },
  {
   "cell_type": "code",
   "execution_count": 8,
   "id": "e1494856-7fb4-4d74-b0df-0d9928bbb541",
   "metadata": {},
   "outputs": [],
   "source": [
    "df = pd.read_csv(PATH_DATA)"
   ]
  },
  {
   "cell_type": "markdown",
   "id": "0a6f1b60-277f-4a3e-99b7-a5a9eaa7d9c4",
   "metadata": {},
   "source": [
    "## 概要"
   ]
  },
  {
   "cell_type": "markdown",
   "id": "85b440b1-632a-4ec0-aaaf-784e01345312",
   "metadata": {},
   "source": [
    "まず，データサイズを見てみます．"
   ]
  },
  {
   "cell_type": "code",
   "execution_count": 9,
   "id": "cec53068-d43f-4039-97f7-9b5a02712c4e",
   "metadata": {},
   "outputs": [
    {
     "data": {
      "text/plain": [
       "(135896, 12)"
      ]
     },
     "execution_count": 9,
     "metadata": {},
     "output_type": "execute_result"
    }
   ],
   "source": [
    "df.shape"
   ]
  },
  {
   "cell_type": "markdown",
   "id": "5242a2a8-3b91-44ab-88c9-c8dad4cb2cf7",
   "metadata": {},
   "source": [
    "カラムは次のようなものです．"
   ]
  },
  {
   "cell_type": "code",
   "execution_count": 10,
   "id": "bca29095-8cb7-4509-8970-761650ebda9e",
   "metadata": {},
   "outputs": [
    {
     "data": {
      "text/plain": [
       "Index(['mcname', 'miname', 'cname', 'epname', 'creator', 'pageStart',\n",
       "       'pageEnd', 'numberOfPages', 'datePublished', 'price', 'publisher',\n",
       "       'editor'],\n",
       "      dtype='object')"
      ]
     },
     "execution_count": 10,
     "metadata": {},
     "output_type": "execute_result"
    }
   ],
   "source": [
    "df.columns"
   ]
  },
  {
   "cell_type": "markdown",
   "id": "b92de7f1-ff11-4ee8-9b4b-bcc46fce8c2c",
   "metadata": {},
   "source": [
    "- `mcname`: 雑誌名\n",
    "- `miname`: 雑誌巻号名\n",
    "- `cname`: マンガ作品名\n",
    "- `epname`: 各話タイトル\n",
    "- `creator`: 作者名\n",
    "- `pageStart`: 開始ページ\n",
    "- `pageEnd`: 終了ページ\n",
    "- `numberOfPages`: 雑誌の合計ページ数\n",
    "- `datePublished`: 雑誌の発行日\n",
    "- `price`: 雑誌の価格\n",
    "- `publisher`: 雑誌の発行元\n",
    "- `editor`: 雑誌の編集者（編集長）"
   ]
  },
  {
   "cell_type": "markdown",
   "id": "1641f38a-5089-4934-9c2a-2256ee846187",
   "metadata": {},
   "source": [
    "冒頭数行を見てみます．"
   ]
  },
  {
   "cell_type": "code",
   "execution_count": 12,
   "id": "7c061cde-b52e-4492-8202-3c17afa5b39e",
   "metadata": {},
   "outputs": [
    {
     "data": {
      "text/html": [
       "<div>\n",
       "<style scoped>\n",
       "    .dataframe tbody tr th:only-of-type {\n",
       "        vertical-align: middle;\n",
       "    }\n",
       "\n",
       "    .dataframe tbody tr th {\n",
       "        vertical-align: top;\n",
       "    }\n",
       "\n",
       "    .dataframe thead th {\n",
       "        text-align: right;\n",
       "    }\n",
       "</style>\n",
       "<table border=\"1\" class=\"dataframe\">\n",
       "  <thead>\n",
       "    <tr style=\"text-align: right;\">\n",
       "      <th></th>\n",
       "      <th>0</th>\n",
       "      <th>1</th>\n",
       "      <th>2</th>\n",
       "    </tr>\n",
       "  </thead>\n",
       "  <tbody>\n",
       "    <tr>\n",
       "      <th>mcname</th>\n",
       "      <td>週刊少年ジャンプ</td>\n",
       "      <td>週刊少年ジャンプ</td>\n",
       "      <td>週刊少年ジャンプ</td>\n",
       "    </tr>\n",
       "    <tr>\n",
       "      <th>miname</th>\n",
       "      <td>週刊少年ジャンプ 1969年 表示号数20</td>\n",
       "      <td>週刊少年ジャンプ 1969年 表示号数20</td>\n",
       "      <td>週刊少年ジャンプ 1969年 表示号数20</td>\n",
       "    </tr>\n",
       "    <tr>\n",
       "      <th>cname</th>\n",
       "      <td>ハレンチ学園</td>\n",
       "      <td>モサ</td>\n",
       "      <td>漫画コント55号</td>\n",
       "    </tr>\n",
       "    <tr>\n",
       "      <th>epname</th>\n",
       "      <td>赤い嵐の巻</td>\n",
       "      <td>盗まれた金の巻</td>\n",
       "      <td>ゆうかい魔の巻</td>\n",
       "    </tr>\n",
       "    <tr>\n",
       "      <th>creator</th>\n",
       "      <td>永井豪とダイナミックプロ</td>\n",
       "      <td>ちばてつや</td>\n",
       "      <td>榎本有也</td>\n",
       "    </tr>\n",
       "    <tr>\n",
       "      <th>pageStart</th>\n",
       "      <td>7.0</td>\n",
       "      <td>39.0</td>\n",
       "      <td>54.0</td>\n",
       "    </tr>\n",
       "    <tr>\n",
       "      <th>pageEnd</th>\n",
       "      <td>37.0</td>\n",
       "      <td>53.0</td>\n",
       "      <td>55.0</td>\n",
       "    </tr>\n",
       "    <tr>\n",
       "      <th>numberOfPages</th>\n",
       "      <td>296.0</td>\n",
       "      <td>296.0</td>\n",
       "      <td>296.0</td>\n",
       "    </tr>\n",
       "    <tr>\n",
       "      <th>datePublished</th>\n",
       "      <td>1969-11-03</td>\n",
       "      <td>1969-11-03</td>\n",
       "      <td>1969-11-03</td>\n",
       "    </tr>\n",
       "    <tr>\n",
       "      <th>price</th>\n",
       "      <td>90.0</td>\n",
       "      <td>90.0</td>\n",
       "      <td>90.0</td>\n",
       "    </tr>\n",
       "    <tr>\n",
       "      <th>publisher</th>\n",
       "      <td>集英社</td>\n",
       "      <td>集英社</td>\n",
       "      <td>集英社</td>\n",
       "    </tr>\n",
       "    <tr>\n",
       "      <th>editor</th>\n",
       "      <td>長野規</td>\n",
       "      <td>長野規</td>\n",
       "      <td>長野規</td>\n",
       "    </tr>\n",
       "  </tbody>\n",
       "</table>\n",
       "</div>"
      ],
      "text/plain": [
       "                                   0                      1  \\\n",
       "mcname                      週刊少年ジャンプ               週刊少年ジャンプ   \n",
       "miname         週刊少年ジャンプ 1969年 表示号数20  週刊少年ジャンプ 1969年 表示号数20   \n",
       "cname                         ハレンチ学園                     モサ   \n",
       "epname                         赤い嵐の巻                盗まれた金の巻   \n",
       "creator                 永井豪とダイナミックプロ                  ちばてつや   \n",
       "pageStart                        7.0                   39.0   \n",
       "pageEnd                         37.0                   53.0   \n",
       "numberOfPages                  296.0                  296.0   \n",
       "datePublished             1969-11-03             1969-11-03   \n",
       "price                           90.0                   90.0   \n",
       "publisher                        集英社                    集英社   \n",
       "editor                           長野規                    長野規   \n",
       "\n",
       "                                   2  \n",
       "mcname                      週刊少年ジャンプ  \n",
       "miname         週刊少年ジャンプ 1969年 表示号数20  \n",
       "cname                       漫画コント55号  \n",
       "epname                       ゆうかい魔の巻  \n",
       "creator                         榎本有也  \n",
       "pageStart                       54.0  \n",
       "pageEnd                         55.0  \n",
       "numberOfPages                  296.0  \n",
       "datePublished             1969-11-03  \n",
       "price                           90.0  \n",
       "publisher                        集英社  \n",
       "editor                           長野規  "
      ]
     },
     "execution_count": 12,
     "metadata": {},
     "output_type": "execute_result"
    }
   ],
   "source": [
    "df.head(3).T"
   ]
  }
 ],
 "metadata": {
  "kernelspec": {
   "display_name": "Python 3 (ipykernel)",
   "language": "python",
   "name": "python3"
  },
  "language_info": {
   "codemirror_mode": {
    "name": "ipython",
    "version": 3
   },
   "file_extension": ".py",
   "mimetype": "text/x-python",
   "name": "python",
   "nbconvert_exporter": "python",
   "pygments_lexer": "ipython3",
   "version": "3.9.7"
  }
 },
 "nbformat": 4,
 "nbformat_minor": 5
}
