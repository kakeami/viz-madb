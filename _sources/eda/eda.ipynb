{
 "cells": [
  {
   "cell_type": "markdown",
   "id": "36294d51-961c-4f57-be0f-68e93ad9d167",
   "metadata": {},
   "source": [
    "# そもそもどんなデータを扱うの？"
   ]
  },
  {
   "cell_type": "markdown",
   "id": "d0695fd6-59da-414c-82a0-391078d0adaf",
   "metadata": {},
   "source": [
    "ここでは，本サイトで分析対象とするデータについて簡単に紹介します．\n",
    "なお，このデータは，[MADB Lab v1.0](https://github.com/mediaarts-db/dataset/tree/1.0)を[こちら](https://kakeami.github.io/viz-madb/appendix/preprocess.html)の手順で前処理したものです．"
   ]
  },
  {
   "cell_type": "markdown",
   "id": "6b2e4be7-ea49-4787-b9a4-7084b78bb22a",
   "metadata": {},
   "source": [
    "## 環境構築"
   ]
  },
  {
   "cell_type": "code",
   "execution_count": 6,
   "id": "e955b970-70b7-49e1-9c38-2632dc0fa1ca",
   "metadata": {},
   "outputs": [],
   "source": [
    "import pandas as pd\n",
    "\n",
    "import warnings\n",
    "warnings.filterwarnings('ignore')"
   ]
  },
  {
   "cell_type": "code",
   "execution_count": 34,
   "id": "08a02d68-06bc-4dca-b64a-1458427de230",
   "metadata": {},
   "outputs": [],
   "source": [
    "# 前処理の結果，以下に分析対象ファイルが格納されていることを想定\n",
    "PATH_DATA = '../../data/preprocess/out/magazines.csv'"
   ]
  },
  {
   "cell_type": "code",
   "execution_count": 8,
   "id": "e1494856-7fb4-4d74-b0df-0d9928bbb541",
   "metadata": {},
   "outputs": [],
   "source": [
    "df = pd.read_csv(PATH_DATA)"
   ]
  },
  {
   "cell_type": "markdown",
   "id": "0a6f1b60-277f-4a3e-99b7-a5a9eaa7d9c4",
   "metadata": {},
   "source": [
    "## 概要"
   ]
  },
  {
   "cell_type": "markdown",
   "id": "85b440b1-632a-4ec0-aaaf-784e01345312",
   "metadata": {},
   "source": [
    "`df`は\n",
    "\n",
    "- 週刊少年ジャンプ\n",
    "- 週刊少年サンデー\n",
    "- 週刊少年マガジン\n",
    "\n",
    "の`1969-11-03`から`2017-07-12`までのすべてのマンガ作品のデータを格納した`DataFrame`です．サイズを見てみます．"
   ]
  },
  {
   "cell_type": "code",
   "execution_count": 24,
   "id": "cec53068-d43f-4039-97f7-9b5a02712c4e",
   "metadata": {},
   "outputs": [
    {
     "data": {
      "text/plain": [
       "(135896, 12)"
      ]
     },
     "execution_count": 24,
     "metadata": {},
     "output_type": "execute_result"
    }
   ],
   "source": [
    "df.shape"
   ]
  },
  {
   "cell_type": "markdown",
   "id": "bd6e0ac4-06e7-4bad-ac72-69d3192f070e",
   "metadata": {},
   "source": [
    "マンガ作品x週を1行に格納するため，約14万行のデータとなっています．列は下記です．"
   ]
  },
  {
   "cell_type": "code",
   "execution_count": 10,
   "id": "bca29095-8cb7-4509-8970-761650ebda9e",
   "metadata": {},
   "outputs": [
    {
     "data": {
      "text/plain": [
       "Index(['mcname', 'miname', 'cname', 'epname', 'creator', 'pageStart',\n",
       "       'pageEnd', 'numberOfPages', 'datePublished', 'price', 'publisher',\n",
       "       'editor'],\n",
       "      dtype='object')"
      ]
     },
     "execution_count": 10,
     "metadata": {},
     "output_type": "execute_result"
    }
   ],
   "source": [
    "df.columns"
   ]
  },
  {
   "cell_type": "markdown",
   "id": "b92de7f1-ff11-4ee8-9b4b-bcc46fce8c2c",
   "metadata": {},
   "source": [
    "- `mcname`: 雑誌名\n",
    "- `miname`: 雑誌巻号名\n",
    "- `cname`: マンガ作品名\n",
    "- `epname`: 各話タイトル\n",
    "- `creator`: 作者名\n",
    "- `pageStart`: 開始ページ\n",
    "- `pageEnd`: 終了ページ\n",
    "- `numberOfPages`: 雑誌の合計ページ数\n",
    "- `datePublished`: 雑誌の発行日\n",
    "- `price`: 雑誌の価格\n",
    "- `publisher`: 雑誌の発行元\n",
    "- `editor`: 雑誌の編集者（編集長）"
   ]
  },
  {
   "cell_type": "markdown",
   "id": "1641f38a-5089-4934-9c2a-2256ee846187",
   "metadata": {},
   "source": [
    "冒頭数行を見てみましょう．"
   ]
  },
  {
   "cell_type": "code",
   "execution_count": 12,
   "id": "7c061cde-b52e-4492-8202-3c17afa5b39e",
   "metadata": {},
   "outputs": [
    {
     "data": {
      "text/html": [
       "<div>\n",
       "<style scoped>\n",
       "    .dataframe tbody tr th:only-of-type {\n",
       "        vertical-align: middle;\n",
       "    }\n",
       "\n",
       "    .dataframe tbody tr th {\n",
       "        vertical-align: top;\n",
       "    }\n",
       "\n",
       "    .dataframe thead th {\n",
       "        text-align: right;\n",
       "    }\n",
       "</style>\n",
       "<table border=\"1\" class=\"dataframe\">\n",
       "  <thead>\n",
       "    <tr style=\"text-align: right;\">\n",
       "      <th></th>\n",
       "      <th>0</th>\n",
       "      <th>1</th>\n",
       "      <th>2</th>\n",
       "    </tr>\n",
       "  </thead>\n",
       "  <tbody>\n",
       "    <tr>\n",
       "      <th>mcname</th>\n",
       "      <td>週刊少年ジャンプ</td>\n",
       "      <td>週刊少年ジャンプ</td>\n",
       "      <td>週刊少年ジャンプ</td>\n",
       "    </tr>\n",
       "    <tr>\n",
       "      <th>miname</th>\n",
       "      <td>週刊少年ジャンプ 1969年 表示号数20</td>\n",
       "      <td>週刊少年ジャンプ 1969年 表示号数20</td>\n",
       "      <td>週刊少年ジャンプ 1969年 表示号数20</td>\n",
       "    </tr>\n",
       "    <tr>\n",
       "      <th>cname</th>\n",
       "      <td>ハレンチ学園</td>\n",
       "      <td>モサ</td>\n",
       "      <td>漫画コント55号</td>\n",
       "    </tr>\n",
       "    <tr>\n",
       "      <th>epname</th>\n",
       "      <td>赤い嵐の巻</td>\n",
       "      <td>盗まれた金の巻</td>\n",
       "      <td>ゆうかい魔の巻</td>\n",
       "    </tr>\n",
       "    <tr>\n",
       "      <th>creator</th>\n",
       "      <td>永井豪とダイナミックプロ</td>\n",
       "      <td>ちばてつや</td>\n",
       "      <td>榎本有也</td>\n",
       "    </tr>\n",
       "    <tr>\n",
       "      <th>pageStart</th>\n",
       "      <td>7.0</td>\n",
       "      <td>39.0</td>\n",
       "      <td>54.0</td>\n",
       "    </tr>\n",
       "    <tr>\n",
       "      <th>pageEnd</th>\n",
       "      <td>37.0</td>\n",
       "      <td>53.0</td>\n",
       "      <td>55.0</td>\n",
       "    </tr>\n",
       "    <tr>\n",
       "      <th>numberOfPages</th>\n",
       "      <td>296.0</td>\n",
       "      <td>296.0</td>\n",
       "      <td>296.0</td>\n",
       "    </tr>\n",
       "    <tr>\n",
       "      <th>datePublished</th>\n",
       "      <td>1969-11-03</td>\n",
       "      <td>1969-11-03</td>\n",
       "      <td>1969-11-03</td>\n",
       "    </tr>\n",
       "    <tr>\n",
       "      <th>price</th>\n",
       "      <td>90.0</td>\n",
       "      <td>90.0</td>\n",
       "      <td>90.0</td>\n",
       "    </tr>\n",
       "    <tr>\n",
       "      <th>publisher</th>\n",
       "      <td>集英社</td>\n",
       "      <td>集英社</td>\n",
       "      <td>集英社</td>\n",
       "    </tr>\n",
       "    <tr>\n",
       "      <th>editor</th>\n",
       "      <td>長野規</td>\n",
       "      <td>長野規</td>\n",
       "      <td>長野規</td>\n",
       "    </tr>\n",
       "  </tbody>\n",
       "</table>\n",
       "</div>"
      ],
      "text/plain": [
       "                                   0                      1  \\\n",
       "mcname                      週刊少年ジャンプ               週刊少年ジャンプ   \n",
       "miname         週刊少年ジャンプ 1969年 表示号数20  週刊少年ジャンプ 1969年 表示号数20   \n",
       "cname                         ハレンチ学園                     モサ   \n",
       "epname                         赤い嵐の巻                盗まれた金の巻   \n",
       "creator                 永井豪とダイナミックプロ                  ちばてつや   \n",
       "pageStart                        7.0                   39.0   \n",
       "pageEnd                         37.0                   53.0   \n",
       "numberOfPages                  296.0                  296.0   \n",
       "datePublished             1969-11-03             1969-11-03   \n",
       "price                           90.0                   90.0   \n",
       "publisher                        集英社                    集英社   \n",
       "editor                           長野規                    長野規   \n",
       "\n",
       "                                   2  \n",
       "mcname                      週刊少年ジャンプ  \n",
       "miname         週刊少年ジャンプ 1969年 表示号数20  \n",
       "cname                       漫画コント55号  \n",
       "epname                       ゆうかい魔の巻  \n",
       "creator                         榎本有也  \n",
       "pageStart                       54.0  \n",
       "pageEnd                         55.0  \n",
       "numberOfPages                  296.0  \n",
       "datePublished             1969-11-03  \n",
       "price                           90.0  \n",
       "publisher                        集英社  \n",
       "editor                           長野規  "
      ]
     },
     "execution_count": 12,
     "metadata": {},
     "output_type": "execute_result"
    }
   ],
   "source": [
    "df.head(3).T"
   ]
  },
  {
   "cell_type": "markdown",
   "id": "9bd94e85-d6e9-413e-a14d-ef5ea3e4a970",
   "metadata": {},
   "source": [
    "`pandas`の`describe()`コマンドでざっくり集計してみます．"
   ]
  },
  {
   "cell_type": "code",
   "execution_count": 21,
   "id": "d3e811fd-42f6-45b7-abdb-a41b269742a8",
   "metadata": {},
   "outputs": [
    {
     "data": {
      "text/html": [
       "<div>\n",
       "<style scoped>\n",
       "    .dataframe tbody tr th:only-of-type {\n",
       "        vertical-align: middle;\n",
       "    }\n",
       "\n",
       "    .dataframe tbody tr th {\n",
       "        vertical-align: top;\n",
       "    }\n",
       "\n",
       "    .dataframe thead th {\n",
       "        text-align: right;\n",
       "    }\n",
       "</style>\n",
       "<table border=\"1\" class=\"dataframe\">\n",
       "  <thead>\n",
       "    <tr style=\"text-align: right;\">\n",
       "      <th></th>\n",
       "      <th>pageStart</th>\n",
       "      <th>pageEnd</th>\n",
       "      <th>numberOfPages</th>\n",
       "      <th>price</th>\n",
       "    </tr>\n",
       "  </thead>\n",
       "  <tbody>\n",
       "    <tr>\n",
       "      <th>count</th>\n",
       "      <td>135896.000000</td>\n",
       "      <td>135890.000000</td>\n",
       "      <td>135653.000000</td>\n",
       "      <td>135879.000000</td>\n",
       "    </tr>\n",
       "    <tr>\n",
       "      <th>mean</th>\n",
       "      <td>213.197213</td>\n",
       "      <td>230.853172</td>\n",
       "      <td>421.200740</td>\n",
       "      <td>202.327107</td>\n",
       "    </tr>\n",
       "    <tr>\n",
       "      <th>std</th>\n",
       "      <td>125.282380</td>\n",
       "      <td>123.402589</td>\n",
       "      <td>70.453981</td>\n",
       "      <td>42.839723</td>\n",
       "    </tr>\n",
       "    <tr>\n",
       "      <th>min</th>\n",
       "      <td>1.000000</td>\n",
       "      <td>0.000000</td>\n",
       "      <td>36.000000</td>\n",
       "      <td>70.000000</td>\n",
       "    </tr>\n",
       "    <tr>\n",
       "      <th>25%</th>\n",
       "      <td>109.000000</td>\n",
       "      <td>128.000000</td>\n",
       "      <td>356.000000</td>\n",
       "      <td>180.000000</td>\n",
       "    </tr>\n",
       "    <tr>\n",
       "      <th>50%</th>\n",
       "      <td>207.000000</td>\n",
       "      <td>224.000000</td>\n",
       "      <td>444.000000</td>\n",
       "      <td>210.000000</td>\n",
       "    </tr>\n",
       "    <tr>\n",
       "      <th>75%</th>\n",
       "      <td>307.000000</td>\n",
       "      <td>325.000000</td>\n",
       "      <td>474.000000</td>\n",
       "      <td>230.000000</td>\n",
       "    </tr>\n",
       "    <tr>\n",
       "      <th>max</th>\n",
       "      <td>2275.000000</td>\n",
       "      <td>1578.000000</td>\n",
       "      <td>600.000000</td>\n",
       "      <td>371.000000</td>\n",
       "    </tr>\n",
       "  </tbody>\n",
       "</table>\n",
       "</div>"
      ],
      "text/plain": [
       "           pageStart        pageEnd  numberOfPages          price\n",
       "count  135896.000000  135890.000000  135653.000000  135879.000000\n",
       "mean      213.197213     230.853172     421.200740     202.327107\n",
       "std       125.282380     123.402589      70.453981      42.839723\n",
       "min         1.000000       0.000000      36.000000      70.000000\n",
       "25%       109.000000     128.000000     356.000000     180.000000\n",
       "50%       207.000000     224.000000     444.000000     210.000000\n",
       "75%       307.000000     325.000000     474.000000     230.000000\n",
       "max      2275.000000    1578.000000     600.000000     371.000000"
      ]
     },
     "execution_count": 21,
     "metadata": {},
     "output_type": "execute_result"
    }
   ],
   "source": [
    "df.describe()"
   ]
  },
  {
   "cell_type": "markdown",
   "id": "e1920318-f650-41b5-b5dd-920d5239e084",
   "metadata": {},
   "source": [
    "- `pageStart`はすべての行でデータがありますが，それ以外は`NaN`（数値なし）が結構ありそうです\n",
    "- `numberOfPages`の最小値，最大値が想定外に広がっていたので，あとで深堀りします\n",
    "- `price`も同様です．後で深堀りします"
   ]
  },
  {
   "cell_type": "markdown",
   "id": "700ee02c-b40d-4c13-a6e2-6d6f1bcec4f6",
   "metadata": {},
   "source": [
    "次に，`NaN`の数を列ごとに集計します．"
   ]
  },
  {
   "cell_type": "code",
   "execution_count": 31,
   "id": "17251d5e-ad15-49f7-b3b6-e1e5ff42d32d",
   "metadata": {},
   "outputs": [
    {
     "data": {
      "text/plain": [
       "mcname               0\n",
       "miname               0\n",
       "cname                8\n",
       "epname           22000\n",
       "creator            378\n",
       "pageStart            0\n",
       "pageEnd              6\n",
       "numberOfPages      243\n",
       "datePublished        0\n",
       "price               17\n",
       "publisher        17896\n",
       "editor            1992\n",
       "dtype: int64"
      ]
     },
     "execution_count": 31,
     "metadata": {},
     "output_type": "execute_result"
    }
   ],
   "source": [
    "df.isna().sum()"
   ]
  },
  {
   "cell_type": "markdown",
   "id": "13abafd1-d11f-4296-a6da-57ec3a1231cc",
   "metadata": {},
   "source": [
    "- `cname`（マンガ作品名）が不明なものが8行もあります．今の所，補完する手立てはありません．\n",
    "- `epname`（各話タイトル）がない行が想定より多く，22000行に上ります．こちらも同様に，補完する手立てはありません．\n",
    "- `creator`（作者）がない行が378行存在します．`cname`が同一のものがあれば補完できる可能性があります．\n",
    "- `price`（雑誌の販売価格）がない行が17行あります．前後の巻号から推定可能です．\n",
    "- `publisher`（発行者）がない行が17896行あります．`miname`が同一のものから補完可能です（そもそも`講談社`か`小学館`の2パターンしかありません）\n",
    "- `editor`（編集長）がない行が1992行あります．こちらも，前後の巻号から推定可能ですが，編集長が交代するタイミングだと打つ手がありません．"
   ]
  },
  {
   "cell_type": "markdown",
   "id": "3577f99a-3c51-402a-9397-8bec32523dcf",
   "metadata": {},
   "source": [
    "## 各列"
   ]
  },
  {
   "cell_type": "markdown",
   "id": "5b852d96-af84-4707-8080-247aa3e233c4",
   "metadata": {},
   "source": [
    "### `mcname`（雑誌名）"
   ]
  },
  {
   "cell_type": "code",
   "execution_count": 36,
   "id": "86a969fd-88f3-4dd0-825f-9d898bc2b72f",
   "metadata": {},
   "outputs": [
    {
     "data": {
      "text/plain": [
       "週刊少年サンデー    46582\n",
       "週刊少年マガジン    45705\n",
       "週刊少年ジャンプ    43609\n",
       "Name: mcname, dtype: int64"
      ]
     },
     "execution_count": 36,
     "metadata": {},
     "output_type": "execute_result"
    }
   ],
   "source": [
    "df['mcname'].value_counts()"
   ]
  },
  {
   "cell_type": "markdown",
   "id": "bbcc7e50-f9f6-4382-89bf-fe248d57fc40",
   "metadata": {},
   "source": [
    "上記は`mcname`ごとの行数を表します．それぞれ同一期間で集計しましたが，掲載作品数の違いが生じています．"
   ]
  },
  {
   "cell_type": "markdown",
   "id": "4c66168c-84b9-4437-9f3c-b2070bf77d0c",
   "metadata": {},
   "source": [
    "### `miname`（雑誌巻号名）"
   ]
  },
  {
   "cell_type": "markdown",
   "id": "b5089f05-6b50-4846-b632-41bcbfe30b33",
   "metadata": {},
   "source": [
    "ユニークな`miname`数を集計します．"
   ]
  },
  {
   "cell_type": "code",
   "execution_count": 38,
   "id": "0beae4a3-d79c-403c-8722-2a63419f8773",
   "metadata": {},
   "outputs": [
    {
     "data": {
      "text/plain": [
       "7017"
      ]
     },
     "execution_count": 38,
     "metadata": {},
     "output_type": "execute_result"
    }
   ],
   "source": [
    "df['miname'].nunique()"
   ]
  },
  {
   "cell_type": "markdown",
   "id": "35c96ffc-e9d8-4c9b-8a29-af32925fdbf9",
   "metadata": {},
   "source": [
    "`mcname`（雑誌）ごとに集計した`miname`（雑誌巻号）は："
   ]
  },
  {
   "cell_type": "code",
   "execution_count": 40,
   "id": "2368f9a7-bc47-4fc6-b749-09c3bc6ec8af",
   "metadata": {},
   "outputs": [
    {
     "data": {
      "text/plain": [
       "mcname\n",
       "週刊少年サンデー    2341\n",
       "週刊少年ジャンプ    2338\n",
       "週刊少年マガジン    2338\n",
       "Name: miname, dtype: int64"
      ]
     },
     "execution_count": 40,
     "metadata": {},
     "output_type": "execute_result"
    }
   ],
   "source": [
    "df.groupby('mcname')['miname'].nunique()"
   ]
  },
  {
   "cell_type": "markdown",
   "id": "3f8553c4-1bb5-47be-867f-274f71811d30",
   "metadata": {},
   "source": [
    "ジャンプとマガジンは同一ですが，サンデーが3号分多いことがわかります．\n",
    "\n",
    "次は，`miname`（雑誌巻号）ごとに`mcname`（マンガ作品）数を集計してみます．"
   ]
  },
  {
   "cell_type": "code",
   "execution_count": 41,
   "id": "1331554b-7ad4-44a8-86e4-c0e95579a726",
   "metadata": {},
   "outputs": [
    {
     "data": {
      "text/html": [
       "<div>\n",
       "<style scoped>\n",
       "    .dataframe tbody tr th:only-of-type {\n",
       "        vertical-align: middle;\n",
       "    }\n",
       "\n",
       "    .dataframe tbody tr th {\n",
       "        vertical-align: top;\n",
       "    }\n",
       "\n",
       "    .dataframe thead th {\n",
       "        text-align: right;\n",
       "    }\n",
       "</style>\n",
       "<table border=\"1\" class=\"dataframe\">\n",
       "  <thead>\n",
       "    <tr style=\"text-align: right;\">\n",
       "      <th></th>\n",
       "      <th>miname</th>\n",
       "      <th>cname</th>\n",
       "    </tr>\n",
       "  </thead>\n",
       "  <tbody>\n",
       "    <tr>\n",
       "      <th>0</th>\n",
       "      <td>週刊少年マガジン 1970年 表示号数2</td>\n",
       "      <td>7</td>\n",
       "    </tr>\n",
       "    <tr>\n",
       "      <th>1</th>\n",
       "      <td>週刊少年サンデー 1969年 表示号数48</td>\n",
       "      <td>8</td>\n",
       "    </tr>\n",
       "    <tr>\n",
       "      <th>2</th>\n",
       "      <td>週刊少年マガジン 1970年 表示号数3</td>\n",
       "      <td>8</td>\n",
       "    </tr>\n",
       "    <tr>\n",
       "      <th>3</th>\n",
       "      <td>週刊少年マガジン 1969年 表示号数52</td>\n",
       "      <td>8</td>\n",
       "    </tr>\n",
       "    <tr>\n",
       "      <th>4</th>\n",
       "      <td>週刊少年マガジン 1971年 表示号数1</td>\n",
       "      <td>8</td>\n",
       "    </tr>\n",
       "    <tr>\n",
       "      <th>...</th>\n",
       "      <td>...</td>\n",
       "      <td>...</td>\n",
       "    </tr>\n",
       "    <tr>\n",
       "      <th>7012</th>\n",
       "      <td>週刊少年マガジン 2010年 表示号数7</td>\n",
       "      <td>35</td>\n",
       "    </tr>\n",
       "    <tr>\n",
       "      <th>7013</th>\n",
       "      <td>週刊少年マガジン 2000年 表示号数1</td>\n",
       "      <td>35</td>\n",
       "    </tr>\n",
       "    <tr>\n",
       "      <th>7014</th>\n",
       "      <td>週刊少年ジャンプ 2014年 表示号数4</td>\n",
       "      <td>37</td>\n",
       "    </tr>\n",
       "    <tr>\n",
       "      <th>7015</th>\n",
       "      <td>週刊少年ジャンプ 2003年 表示号数37</td>\n",
       "      <td>40</td>\n",
       "    </tr>\n",
       "    <tr>\n",
       "      <th>7016</th>\n",
       "      <td>週刊少年サンデー 2013年 表示号数6</td>\n",
       "      <td>49</td>\n",
       "    </tr>\n",
       "  </tbody>\n",
       "</table>\n",
       "<p>7017 rows × 2 columns</p>\n",
       "</div>"
      ],
      "text/plain": [
       "                     miname  cname\n",
       "0      週刊少年マガジン 1970年 表示号数2      7\n",
       "1     週刊少年サンデー 1969年 表示号数48      8\n",
       "2      週刊少年マガジン 1970年 表示号数3      8\n",
       "3     週刊少年マガジン 1969年 表示号数52      8\n",
       "4      週刊少年マガジン 1971年 表示号数1      8\n",
       "...                     ...    ...\n",
       "7012   週刊少年マガジン 2010年 表示号数7     35\n",
       "7013   週刊少年マガジン 2000年 表示号数1     35\n",
       "7014   週刊少年ジャンプ 2014年 表示号数4     37\n",
       "7015  週刊少年ジャンプ 2003年 表示号数37     40\n",
       "7016   週刊少年サンデー 2013年 表示号数6     49\n",
       "\n",
       "[7017 rows x 2 columns]"
      ]
     },
     "execution_count": 41,
     "metadata": {},
     "output_type": "execute_result"
    }
   ],
   "source": [
    "df.groupby('miname')['cname'].nunique().sort_values().reset_index()"
   ]
  },
  {
   "cell_type": "markdown",
   "id": "517fead1-ef9c-48f8-95c6-9e9756f3e268",
   "metadata": {},
   "source": [
    "1970年付近の黎明期は掲載数が少なめだったようです．また，雑誌によってタイミングはバラバラですが，非常に沢山のマンガを掲載する**外れ値**が存在することもわかります．"
   ]
  },
  {
   "cell_type": "markdown",
   "id": "81703d36-0e87-491a-bb8a-5c36b52b5068",
   "metadata": {},
   "source": [
    "### `cname`（マンガ作品名）"
   ]
  },
  {
   "cell_type": "markdown",
   "id": "7588cd03-faa9-4108-8dc2-1685074fa9bf",
   "metadata": {},
   "source": [
    "ユニークな`cname`（マンガ作品）数を集計します．"
   ]
  },
  {
   "cell_type": "code",
   "execution_count": 43,
   "id": "4bed2201-d735-4e5f-b4c9-fa555989a883",
   "metadata": {},
   "outputs": [
    {
     "data": {
      "text/plain": [
       "5283"
      ]
     },
     "execution_count": 43,
     "metadata": {},
     "output_type": "execute_result"
    }
   ],
   "source": [
    "df['cname'].nunique()"
   ]
  },
  {
   "cell_type": "markdown",
   "id": "08b2ddac-2320-479d-91c0-2baa8f8a0f48",
   "metadata": {},
   "source": [
    "`mcname`（雑誌）ごとに`cname`（マンガ作品）数を集計します．"
   ]
  },
  {
   "cell_type": "code",
   "execution_count": 47,
   "id": "e804ceb9-5613-4d67-a401-49e31708db20",
   "metadata": {},
   "outputs": [
    {
     "data": {
      "text/plain": [
       "mcname\n",
       "週刊少年サンデー    1524\n",
       "週刊少年ジャンプ    2185\n",
       "週刊少年マガジン    1594\n",
       "Name: cname, dtype: int64"
      ]
     },
     "execution_count": 47,
     "metadata": {},
     "output_type": "execute_result"
    }
   ],
   "source": [
    "df.groupby('mcname')['cname'].nunique()"
   ]
  },
  {
   "cell_type": "markdown",
   "id": "2c220d7d-b8fb-47bf-bdc2-f38c4b4fd6a5",
   "metadata": {},
   "source": [
    "ジャンプが圧倒的に多いですね…．試しに`cname`（マンガ作品）ごとに掲載数を集計してみます．"
   ]
  },
  {
   "cell_type": "code",
   "execution_count": 64,
   "id": "e3cdcd35-0289-4eed-a39c-99f1eeb4906c",
   "metadata": {},
   "outputs": [
    {
     "data": {
      "text/html": [
       "<div>\n",
       "<style scoped>\n",
       "    .dataframe tbody tr th:only-of-type {\n",
       "        vertical-align: middle;\n",
       "    }\n",
       "\n",
       "    .dataframe tbody tr th {\n",
       "        vertical-align: top;\n",
       "    }\n",
       "\n",
       "    .dataframe thead th {\n",
       "        text-align: right;\n",
       "    }\n",
       "</style>\n",
       "<table border=\"1\" class=\"dataframe\">\n",
       "  <thead>\n",
       "    <tr style=\"text-align: right;\">\n",
       "      <th></th>\n",
       "      <th>mcname</th>\n",
       "      <th>cname</th>\n",
       "      <th>counts</th>\n",
       "    </tr>\n",
       "  </thead>\n",
       "  <tbody>\n",
       "    <tr>\n",
       "      <th>0</th>\n",
       "      <td>週刊少年ジャンプ</td>\n",
       "      <td>こちら葛飾区亀有公園前派出所</td>\n",
       "      <td>1968</td>\n",
       "    </tr>\n",
       "    <tr>\n",
       "      <th>1</th>\n",
       "      <td>週刊少年マガジン</td>\n",
       "      <td>はじめの一歩</td>\n",
       "      <td>1185</td>\n",
       "    </tr>\n",
       "    <tr>\n",
       "      <th>2</th>\n",
       "      <td>週刊少年サンデー</td>\n",
       "      <td>名探偵コナン</td>\n",
       "      <td>1009</td>\n",
       "    </tr>\n",
       "    <tr>\n",
       "      <th>3</th>\n",
       "      <td>週刊少年ジャンプ</td>\n",
       "      <td>ONE PIECE</td>\n",
       "      <td>890</td>\n",
       "    </tr>\n",
       "    <tr>\n",
       "      <th>4</th>\n",
       "      <td>週刊少年サンデー</td>\n",
       "      <td>MAJOR</td>\n",
       "      <td>748</td>\n",
       "    </tr>\n",
       "    <tr>\n",
       "      <th>...</th>\n",
       "      <td>...</td>\n",
       "      <td>...</td>\n",
       "      <td>...</td>\n",
       "    </tr>\n",
       "    <tr>\n",
       "      <th>5298</th>\n",
       "      <td>週刊少年ジャンプ</td>\n",
       "      <td>ジャンプ魂</td>\n",
       "      <td>1</td>\n",
       "    </tr>\n",
       "    <tr>\n",
       "      <th>5299</th>\n",
       "      <td>週刊少年ジャンプ</td>\n",
       "      <td>ジャン助!フェス太!のレッツゴージャンプフェスタ2002</td>\n",
       "      <td>1</td>\n",
       "    </tr>\n",
       "    <tr>\n",
       "      <th>5300</th>\n",
       "      <td>週刊少年ジャンプ</td>\n",
       "      <td>ジュゲムジュゲム</td>\n",
       "      <td>1</td>\n",
       "    </tr>\n",
       "    <tr>\n",
       "      <th>5301</th>\n",
       "      <td>週刊少年ジャンプ</td>\n",
       "      <td>スカルジャッカー</td>\n",
       "      <td>1</td>\n",
       "    </tr>\n",
       "    <tr>\n",
       "      <th>5302</th>\n",
       "      <td>週刊少年マガジン</td>\n",
       "      <td>～HWGP～ 東村山ウエスト・ゲート・パーク</td>\n",
       "      <td>1</td>\n",
       "    </tr>\n",
       "  </tbody>\n",
       "</table>\n",
       "<p>5303 rows × 3 columns</p>\n",
       "</div>"
      ],
      "text/plain": [
       "        mcname                         cname  counts\n",
       "0     週刊少年ジャンプ                こちら葛飾区亀有公園前派出所    1968\n",
       "1     週刊少年マガジン                        はじめの一歩    1185\n",
       "2     週刊少年サンデー                        名探偵コナン    1009\n",
       "3     週刊少年ジャンプ                     ONE PIECE     890\n",
       "4     週刊少年サンデー                         MAJOR     748\n",
       "...        ...                           ...     ...\n",
       "5298  週刊少年ジャンプ                         ジャンプ魂       1\n",
       "5299  週刊少年ジャンプ  ジャン助!フェス太!のレッツゴージャンプフェスタ2002       1\n",
       "5300  週刊少年ジャンプ                      ジュゲムジュゲム       1\n",
       "5301  週刊少年ジャンプ                      スカルジャッカー       1\n",
       "5302  週刊少年マガジン        ～HWGP～ 東村山ウエスト・ゲート・パーク       1\n",
       "\n",
       "[5303 rows x 3 columns]"
      ]
     },
     "execution_count": 64,
     "metadata": {},
     "output_type": "execute_result"
    }
   ],
   "source": [
    "df_tmp = df[['mcname', 'cname']].value_counts().reset_index()\n",
    "df_tmp.columns = ['mcname', 'cname', 'counts']\n",
    "df_tmp"
   ]
  },
  {
   "cell_type": "markdown",
   "id": "270193ed-332f-45fa-8119-96259337b4d6",
   "metadata": {},
   "source": [
    "連載期間が長い方を見てみると，こち亀，はじめの一歩，名探偵コナンと各雑誌のレジェンドが連なり面白いですね．\n",
    "\n",
    "逆に連載期間が短い方を見てみると，`ジャン助!フェス太!のレッツゴージャンプフェスタ2002`等のマンガもDBに登録されていることがわかります．読み切り作品も登録されているようなので，そのあたりも合計マンガ作品数の差に響いているのかもしれません．\n",
    "\n",
    "雑誌ごとに，マンガ作品の連載期間に関して基礎集計します．"
   ]
  },
  {
   "cell_type": "code",
   "execution_count": 65,
   "id": "f6b8a8dc-6704-491c-a4f9-aad1da2bba1b",
   "metadata": {},
   "outputs": [
    {
     "data": {
      "text/html": [
       "<div>\n",
       "<style scoped>\n",
       "    .dataframe tbody tr th:only-of-type {\n",
       "        vertical-align: middle;\n",
       "    }\n",
       "\n",
       "    .dataframe tbody tr th {\n",
       "        vertical-align: top;\n",
       "    }\n",
       "\n",
       "    .dataframe thead th {\n",
       "        text-align: right;\n",
       "    }\n",
       "</style>\n",
       "<table border=\"1\" class=\"dataframe\">\n",
       "  <thead>\n",
       "    <tr style=\"text-align: right;\">\n",
       "      <th></th>\n",
       "      <th>count</th>\n",
       "      <th>mean</th>\n",
       "      <th>std</th>\n",
       "      <th>min</th>\n",
       "      <th>25%</th>\n",
       "      <th>50%</th>\n",
       "      <th>75%</th>\n",
       "      <th>max</th>\n",
       "    </tr>\n",
       "    <tr>\n",
       "      <th>mcname</th>\n",
       "      <th></th>\n",
       "      <th></th>\n",
       "      <th></th>\n",
       "      <th></th>\n",
       "      <th></th>\n",
       "      <th></th>\n",
       "      <th></th>\n",
       "      <th></th>\n",
       "    </tr>\n",
       "  </thead>\n",
       "  <tbody>\n",
       "    <tr>\n",
       "      <th>週刊少年サンデー</th>\n",
       "      <td>1524.0</td>\n",
       "      <td>30.563648</td>\n",
       "      <td>73.222929</td>\n",
       "      <td>1.0</td>\n",
       "      <td>1.0</td>\n",
       "      <td>2.0</td>\n",
       "      <td>27.0</td>\n",
       "      <td>1009.0</td>\n",
       "    </tr>\n",
       "    <tr>\n",
       "      <th>週刊少年ジャンプ</th>\n",
       "      <td>2185.0</td>\n",
       "      <td>19.957895</td>\n",
       "      <td>73.908870</td>\n",
       "      <td>1.0</td>\n",
       "      <td>1.0</td>\n",
       "      <td>1.0</td>\n",
       "      <td>11.0</td>\n",
       "      <td>1968.0</td>\n",
       "    </tr>\n",
       "    <tr>\n",
       "      <th>週刊少年マガジン</th>\n",
       "      <td>1594.0</td>\n",
       "      <td>28.670640</td>\n",
       "      <td>74.795986</td>\n",
       "      <td>1.0</td>\n",
       "      <td>1.0</td>\n",
       "      <td>2.0</td>\n",
       "      <td>20.0</td>\n",
       "      <td>1185.0</td>\n",
       "    </tr>\n",
       "  </tbody>\n",
       "</table>\n",
       "</div>"
      ],
      "text/plain": [
       "           count       mean        std  min  25%  50%   75%     max\n",
       "mcname                                                             \n",
       "週刊少年サンデー  1524.0  30.563648  73.222929  1.0  1.0  2.0  27.0  1009.0\n",
       "週刊少年ジャンプ  2185.0  19.957895  73.908870  1.0  1.0  1.0  11.0  1968.0\n",
       "週刊少年マガジン  1594.0  28.670640  74.795986  1.0  1.0  2.0  20.0  1185.0"
      ]
     },
     "execution_count": 65,
     "metadata": {},
     "output_type": "execute_result"
    }
   ],
   "source": [
    "df_tmp.groupby('mcname')['counts'].describe()"
   ]
  },
  {
   "cell_type": "markdown",
   "id": "9635b606-b15c-4ae0-8baf-3279e3aab5ae",
   "metadata": {},
   "source": [
    "やはりジャンプの平均掲載期間が，他誌と比べて短いことがわかります．"
   ]
  },
  {
   "cell_type": "markdown",
   "id": "708dc0b7-0186-4a76-ab54-1a28a3d8ef18",
   "metadata": {},
   "source": [
    "### `epname`"
   ]
  },
  {
   "cell_type": "markdown",
   "id": "608faed6-6ad5-476a-b3bb-d29585109dbd",
   "metadata": {},
   "source": [
    "### `creator`"
   ]
  },
  {
   "cell_type": "markdown",
   "id": "9096e16c-1a3b-45bb-97d5-46a78148d1d4",
   "metadata": {},
   "source": [
    "### `pageStart`"
   ]
  },
  {
   "cell_type": "markdown",
   "id": "d856fb5a-a703-4646-a421-84678ca9648a",
   "metadata": {},
   "source": [
    "### `pageEnd`"
   ]
  },
  {
   "cell_type": "markdown",
   "id": "ea704d82-348c-43fd-bf9f-2147d91f6981",
   "metadata": {},
   "source": [
    "### `numberOfPages`"
   ]
  },
  {
   "cell_type": "markdown",
   "id": "0f880936-9822-4a3a-b7b4-161b48ba7b64",
   "metadata": {},
   "source": [
    "### `datePublished`"
   ]
  },
  {
   "cell_type": "markdown",
   "id": "b707f5a0-1a6b-413c-aa26-0a0019d7ae31",
   "metadata": {},
   "source": [
    "### `publisher`"
   ]
  },
  {
   "cell_type": "markdown",
   "id": "11a63069-b9b7-4bb5-9207-511f12329b8b",
   "metadata": {},
   "source": [
    "### `editor`"
   ]
  }
 ],
 "metadata": {
  "kernelspec": {
   "display_name": "Python 3 (ipykernel)",
   "language": "python",
   "name": "python3"
  },
  "language_info": {
   "codemirror_mode": {
    "name": "ipython",
    "version": 3
   },
   "file_extension": ".py",
   "mimetype": "text/x-python",
   "name": "python",
   "nbconvert_exporter": "python",
   "pygments_lexer": "ipython3",
   "version": "3.9.7"
  }
 },
 "nbformat": 4,
 "nbformat_minor": 5
}
