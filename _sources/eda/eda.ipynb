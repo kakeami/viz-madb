{
 "cells": [
  {
   "cell_type": "markdown",
   "id": "36294d51-961c-4f57-be0f-68e93ad9d167",
   "metadata": {},
   "source": [
    "# そもそもどんなデータを扱うの？"
   ]
  },
  {
   "cell_type": "markdown",
   "id": "d0695fd6-59da-414c-82a0-391078d0adaf",
   "metadata": {},
   "source": [
    "本サイトで扱うデータについてまとめます．"
   ]
  },
  {
   "cell_type": "markdown",
   "id": "6b2e4be7-ea49-4787-b9a4-7084b78bb22a",
   "metadata": {},
   "source": [
    "## 環境構築"
   ]
  },
  {
   "cell_type": "code",
   "execution_count": 6,
   "id": "e955b970-70b7-49e1-9c38-2632dc0fa1ca",
   "metadata": {},
   "outputs": [],
   "source": [
    "import pandas as pd\n",
    "\n",
    "import warnings\n",
    "warnings.filterwarnings('ignore')"
   ]
  },
  {
   "cell_type": "code",
   "execution_count": 7,
   "id": "08a02d68-06bc-4dca-b64a-1458427de230",
   "metadata": {},
   "outputs": [],
   "source": [
    "PATH_DATA = '../../data/preprocess/out/magazines.csv'"
   ]
  },
  {
   "cell_type": "code",
   "execution_count": 8,
   "id": "e1494856-7fb4-4d74-b0df-0d9928bbb541",
   "metadata": {},
   "outputs": [],
   "source": [
    "df = pd.read_csv(PATH_DATA)"
   ]
  },
  {
   "cell_type": "markdown",
   "id": "0a6f1b60-277f-4a3e-99b7-a5a9eaa7d9c4",
   "metadata": {},
   "source": [
    "## 概要"
   ]
  },
  {
   "cell_type": "markdown",
   "id": "85b440b1-632a-4ec0-aaaf-784e01345312",
   "metadata": {},
   "source": [
    "`df`は\n",
    "\n",
    "- 週刊少年ジャンプ\n",
    "- 週刊少年サンデー\n",
    "- 週刊少年マガジン\n",
    "\n",
    "の`1969-11-03`から`2017-07-12`までのすべてのマンガ作品のデータを格納した`DataFrame`です．サイズを見てみます．"
   ]
  },
  {
   "cell_type": "code",
   "execution_count": 24,
   "id": "cec53068-d43f-4039-97f7-9b5a02712c4e",
   "metadata": {},
   "outputs": [
    {
     "data": {
      "text/plain": [
       "(135896, 12)"
      ]
     },
     "execution_count": 24,
     "metadata": {},
     "output_type": "execute_result"
    }
   ],
   "source": [
    "df.shape"
   ]
  },
  {
   "cell_type": "markdown",
   "id": "bd6e0ac4-06e7-4bad-ac72-69d3192f070e",
   "metadata": {},
   "source": [
    "一行あたり一作品を格納するため，約14万行のデータとなっています．列は下記です．"
   ]
  },
  {
   "cell_type": "code",
   "execution_count": 10,
   "id": "bca29095-8cb7-4509-8970-761650ebda9e",
   "metadata": {},
   "outputs": [
    {
     "data": {
      "text/plain": [
       "Index(['mcname', 'miname', 'cname', 'epname', 'creator', 'pageStart',\n",
       "       'pageEnd', 'numberOfPages', 'datePublished', 'price', 'publisher',\n",
       "       'editor'],\n",
       "      dtype='object')"
      ]
     },
     "execution_count": 10,
     "metadata": {},
     "output_type": "execute_result"
    }
   ],
   "source": [
    "df.columns"
   ]
  },
  {
   "cell_type": "markdown",
   "id": "b92de7f1-ff11-4ee8-9b4b-bcc46fce8c2c",
   "metadata": {},
   "source": [
    "- `mcname`: 雑誌名\n",
    "- `miname`: 雑誌巻号名\n",
    "- `cname`: マンガ作品名\n",
    "- `epname`: 各話タイトル\n",
    "- `creator`: 作者名\n",
    "- `pageStart`: 開始ページ\n",
    "- `pageEnd`: 終了ページ\n",
    "- `numberOfPages`: 雑誌の合計ページ数\n",
    "- `datePublished`: 雑誌の発行日\n",
    "- `price`: 雑誌の価格\n",
    "- `publisher`: 雑誌の発行元\n",
    "- `editor`: 雑誌の編集者（編集長）"
   ]
  },
  {
   "cell_type": "markdown",
   "id": "1641f38a-5089-4934-9c2a-2256ee846187",
   "metadata": {},
   "source": [
    "冒頭数行を見てみましょう．"
   ]
  },
  {
   "cell_type": "code",
   "execution_count": 12,
   "id": "7c061cde-b52e-4492-8202-3c17afa5b39e",
   "metadata": {},
   "outputs": [
    {
     "data": {
      "text/html": [
       "<div>\n",
       "<style scoped>\n",
       "    .dataframe tbody tr th:only-of-type {\n",
       "        vertical-align: middle;\n",
       "    }\n",
       "\n",
       "    .dataframe tbody tr th {\n",
       "        vertical-align: top;\n",
       "    }\n",
       "\n",
       "    .dataframe thead th {\n",
       "        text-align: right;\n",
       "    }\n",
       "</style>\n",
       "<table border=\"1\" class=\"dataframe\">\n",
       "  <thead>\n",
       "    <tr style=\"text-align: right;\">\n",
       "      <th></th>\n",
       "      <th>0</th>\n",
       "      <th>1</th>\n",
       "      <th>2</th>\n",
       "    </tr>\n",
       "  </thead>\n",
       "  <tbody>\n",
       "    <tr>\n",
       "      <th>mcname</th>\n",
       "      <td>週刊少年ジャンプ</td>\n",
       "      <td>週刊少年ジャンプ</td>\n",
       "      <td>週刊少年ジャンプ</td>\n",
       "    </tr>\n",
       "    <tr>\n",
       "      <th>miname</th>\n",
       "      <td>週刊少年ジャンプ 1969年 表示号数20</td>\n",
       "      <td>週刊少年ジャンプ 1969年 表示号数20</td>\n",
       "      <td>週刊少年ジャンプ 1969年 表示号数20</td>\n",
       "    </tr>\n",
       "    <tr>\n",
       "      <th>cname</th>\n",
       "      <td>ハレンチ学園</td>\n",
       "      <td>モサ</td>\n",
       "      <td>漫画コント55号</td>\n",
       "    </tr>\n",
       "    <tr>\n",
       "      <th>epname</th>\n",
       "      <td>赤い嵐の巻</td>\n",
       "      <td>盗まれた金の巻</td>\n",
       "      <td>ゆうかい魔の巻</td>\n",
       "    </tr>\n",
       "    <tr>\n",
       "      <th>creator</th>\n",
       "      <td>永井豪とダイナミックプロ</td>\n",
       "      <td>ちばてつや</td>\n",
       "      <td>榎本有也</td>\n",
       "    </tr>\n",
       "    <tr>\n",
       "      <th>pageStart</th>\n",
       "      <td>7.0</td>\n",
       "      <td>39.0</td>\n",
       "      <td>54.0</td>\n",
       "    </tr>\n",
       "    <tr>\n",
       "      <th>pageEnd</th>\n",
       "      <td>37.0</td>\n",
       "      <td>53.0</td>\n",
       "      <td>55.0</td>\n",
       "    </tr>\n",
       "    <tr>\n",
       "      <th>numberOfPages</th>\n",
       "      <td>296.0</td>\n",
       "      <td>296.0</td>\n",
       "      <td>296.0</td>\n",
       "    </tr>\n",
       "    <tr>\n",
       "      <th>datePublished</th>\n",
       "      <td>1969-11-03</td>\n",
       "      <td>1969-11-03</td>\n",
       "      <td>1969-11-03</td>\n",
       "    </tr>\n",
       "    <tr>\n",
       "      <th>price</th>\n",
       "      <td>90.0</td>\n",
       "      <td>90.0</td>\n",
       "      <td>90.0</td>\n",
       "    </tr>\n",
       "    <tr>\n",
       "      <th>publisher</th>\n",
       "      <td>集英社</td>\n",
       "      <td>集英社</td>\n",
       "      <td>集英社</td>\n",
       "    </tr>\n",
       "    <tr>\n",
       "      <th>editor</th>\n",
       "      <td>長野規</td>\n",
       "      <td>長野規</td>\n",
       "      <td>長野規</td>\n",
       "    </tr>\n",
       "  </tbody>\n",
       "</table>\n",
       "</div>"
      ],
      "text/plain": [
       "                                   0                      1  \\\n",
       "mcname                      週刊少年ジャンプ               週刊少年ジャンプ   \n",
       "miname         週刊少年ジャンプ 1969年 表示号数20  週刊少年ジャンプ 1969年 表示号数20   \n",
       "cname                         ハレンチ学園                     モサ   \n",
       "epname                         赤い嵐の巻                盗まれた金の巻   \n",
       "creator                 永井豪とダイナミックプロ                  ちばてつや   \n",
       "pageStart                        7.0                   39.0   \n",
       "pageEnd                         37.0                   53.0   \n",
       "numberOfPages                  296.0                  296.0   \n",
       "datePublished             1969-11-03             1969-11-03   \n",
       "price                           90.0                   90.0   \n",
       "publisher                        集英社                    集英社   \n",
       "editor                           長野規                    長野規   \n",
       "\n",
       "                                   2  \n",
       "mcname                      週刊少年ジャンプ  \n",
       "miname         週刊少年ジャンプ 1969年 表示号数20  \n",
       "cname                       漫画コント55号  \n",
       "epname                       ゆうかい魔の巻  \n",
       "creator                         榎本有也  \n",
       "pageStart                       54.0  \n",
       "pageEnd                         55.0  \n",
       "numberOfPages                  296.0  \n",
       "datePublished             1969-11-03  \n",
       "price                           90.0  \n",
       "publisher                        集英社  \n",
       "editor                           長野規  "
      ]
     },
     "execution_count": 12,
     "metadata": {},
     "output_type": "execute_result"
    }
   ],
   "source": [
    "df.head(3).T"
   ]
  },
  {
   "cell_type": "markdown",
   "id": "9bd94e85-d6e9-413e-a14d-ef5ea3e4a970",
   "metadata": {},
   "source": [
    "`pandas`の`describe()`コマンドでざっくり集計してみます．"
   ]
  },
  {
   "cell_type": "code",
   "execution_count": 21,
   "id": "d3e811fd-42f6-45b7-abdb-a41b269742a8",
   "metadata": {},
   "outputs": [
    {
     "data": {
      "text/html": [
       "<div>\n",
       "<style scoped>\n",
       "    .dataframe tbody tr th:only-of-type {\n",
       "        vertical-align: middle;\n",
       "    }\n",
       "\n",
       "    .dataframe tbody tr th {\n",
       "        vertical-align: top;\n",
       "    }\n",
       "\n",
       "    .dataframe thead th {\n",
       "        text-align: right;\n",
       "    }\n",
       "</style>\n",
       "<table border=\"1\" class=\"dataframe\">\n",
       "  <thead>\n",
       "    <tr style=\"text-align: right;\">\n",
       "      <th></th>\n",
       "      <th>pageStart</th>\n",
       "      <th>pageEnd</th>\n",
       "      <th>numberOfPages</th>\n",
       "      <th>price</th>\n",
       "    </tr>\n",
       "  </thead>\n",
       "  <tbody>\n",
       "    <tr>\n",
       "      <th>count</th>\n",
       "      <td>135896.000000</td>\n",
       "      <td>135890.000000</td>\n",
       "      <td>135653.000000</td>\n",
       "      <td>135879.000000</td>\n",
       "    </tr>\n",
       "    <tr>\n",
       "      <th>mean</th>\n",
       "      <td>213.197213</td>\n",
       "      <td>230.853172</td>\n",
       "      <td>421.200740</td>\n",
       "      <td>202.327107</td>\n",
       "    </tr>\n",
       "    <tr>\n",
       "      <th>std</th>\n",
       "      <td>125.282380</td>\n",
       "      <td>123.402589</td>\n",
       "      <td>70.453981</td>\n",
       "      <td>42.839723</td>\n",
       "    </tr>\n",
       "    <tr>\n",
       "      <th>min</th>\n",
       "      <td>1.000000</td>\n",
       "      <td>0.000000</td>\n",
       "      <td>36.000000</td>\n",
       "      <td>70.000000</td>\n",
       "    </tr>\n",
       "    <tr>\n",
       "      <th>25%</th>\n",
       "      <td>109.000000</td>\n",
       "      <td>128.000000</td>\n",
       "      <td>356.000000</td>\n",
       "      <td>180.000000</td>\n",
       "    </tr>\n",
       "    <tr>\n",
       "      <th>50%</th>\n",
       "      <td>207.000000</td>\n",
       "      <td>224.000000</td>\n",
       "      <td>444.000000</td>\n",
       "      <td>210.000000</td>\n",
       "    </tr>\n",
       "    <tr>\n",
       "      <th>75%</th>\n",
       "      <td>307.000000</td>\n",
       "      <td>325.000000</td>\n",
       "      <td>474.000000</td>\n",
       "      <td>230.000000</td>\n",
       "    </tr>\n",
       "    <tr>\n",
       "      <th>max</th>\n",
       "      <td>2275.000000</td>\n",
       "      <td>1578.000000</td>\n",
       "      <td>600.000000</td>\n",
       "      <td>371.000000</td>\n",
       "    </tr>\n",
       "  </tbody>\n",
       "</table>\n",
       "</div>"
      ],
      "text/plain": [
       "           pageStart        pageEnd  numberOfPages          price\n",
       "count  135896.000000  135890.000000  135653.000000  135879.000000\n",
       "mean      213.197213     230.853172     421.200740     202.327107\n",
       "std       125.282380     123.402589      70.453981      42.839723\n",
       "min         1.000000       0.000000      36.000000      70.000000\n",
       "25%       109.000000     128.000000     356.000000     180.000000\n",
       "50%       207.000000     224.000000     444.000000     210.000000\n",
       "75%       307.000000     325.000000     474.000000     230.000000\n",
       "max      2275.000000    1578.000000     600.000000     371.000000"
      ]
     },
     "execution_count": 21,
     "metadata": {},
     "output_type": "execute_result"
    }
   ],
   "source": [
    "df.describe()"
   ]
  },
  {
   "cell_type": "markdown",
   "id": "e1920318-f650-41b5-b5dd-920d5239e084",
   "metadata": {},
   "source": [
    "- `pageStart`および`pageEnd`はすべての行でデータがありますが，それ以外は`NaN`（数値なし）が結構ありそうです\n",
    "- `numberOfPages`の最小値，最大値が想定外に広がっていたので，あとで深堀りします．\n",
    "- `price`も同様です．後で深堀りします．"
   ]
  },
  {
   "cell_type": "markdown",
   "id": "700ee02c-b40d-4c13-a6e2-6d6f1bcec4f6",
   "metadata": {},
   "source": [
    "次に，`NaN`の数を列ごとに集計します．"
   ]
  },
  {
   "cell_type": "code",
   "execution_count": 31,
   "id": "17251d5e-ad15-49f7-b3b6-e1e5ff42d32d",
   "metadata": {},
   "outputs": [
    {
     "data": {
      "text/plain": [
       "mcname               0\n",
       "miname               0\n",
       "cname                8\n",
       "epname           22000\n",
       "creator            378\n",
       "pageStart            0\n",
       "pageEnd              6\n",
       "numberOfPages      243\n",
       "datePublished        0\n",
       "price               17\n",
       "publisher        17896\n",
       "editor            1992\n",
       "dtype: int64"
      ]
     },
     "execution_count": 31,
     "metadata": {},
     "output_type": "execute_result"
    }
   ],
   "source": [
    "df.isna().sum()"
   ]
  },
  {
   "cell_type": "markdown",
   "id": "13abafd1-d11f-4296-a6da-57ec3a1231cc",
   "metadata": {},
   "source": [
    "- `cname`が不明なものが8行もあります．補完する手立てはありません．\n",
    "- `epname`（各話タイトル）がない行が想定より多く，22000行に上ります．補完する手立てはありません．\n",
    "- `creator`（作者）がない行が378行存在します．`cname`が同一のものがあれば補完できる可能性があります．\n",
    "- `price`がない行が17行あります．前後の巻号から推定可能です．\n",
    "- `publisher`がない行が17896行あります．`miname`が同一のものから補完可能です（そもそも`講談社`か`小学館`の2パターンしかありません）\n",
    "- `editor`がない行が1992行あります．こちらも，前後の巻号から推定可能ですが，編集長が交代するタイミングだと打つ手がありません．"
   ]
  }
 ],
 "metadata": {
  "kernelspec": {
   "display_name": "Python 3 (ipykernel)",
   "language": "python",
   "name": "python3"
  },
  "language_info": {
   "codemirror_mode": {
    "name": "ipython",
    "version": 3
   },
   "file_extension": ".py",
   "mimetype": "text/x-python",
   "name": "python",
   "nbconvert_exporter": "python",
   "pygments_lexer": "ipython3",
   "version": "3.9.7"
  }
 },
 "nbformat": 4,
 "nbformat_minor": 5
}
