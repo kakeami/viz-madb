{
 "cells": [
  {
   "cell_type": "markdown",
   "id": "36294d51-961c-4f57-be0f-68e93ad9d167",
   "metadata": {},
   "source": [
    "# そもそもどんなデータを扱うの？"
   ]
  },
  {
   "cell_type": "markdown",
   "id": "d0695fd6-59da-414c-82a0-391078d0adaf",
   "metadata": {},
   "source": [
    "ここでは，本サイトで分析対象とするデータについて簡単に紹介し，基礎分析を実施します．\n",
    "\n",
    "なお，このデータは[MADB Labでv1.0として公開されているもの](https://github.com/mediaarts-db/dataset/tree/1.0)に[こちらの前処理](https://kakeami.github.io/viz-madb/appendix/preprocess.html)を実施したものです．ご興味のある方はAppendixをご参照ください．"
   ]
  },
  {
   "cell_type": "markdown",
   "id": "6b2e4be7-ea49-4787-b9a4-7084b78bb22a",
   "metadata": {},
   "source": [
    "## 環境構築"
   ]
  },
  {
   "cell_type": "code",
   "execution_count": 66,
   "id": "e955b970-70b7-49e1-9c38-2632dc0fa1ca",
   "metadata": {},
   "outputs": [],
   "source": [
    "import pandas as pd\n",
    "\n",
    "import warnings\n",
    "warnings.filterwarnings('ignore')"
   ]
  },
  {
   "cell_type": "code",
   "execution_count": 67,
   "id": "08a02d68-06bc-4dca-b64a-1458427de230",
   "metadata": {},
   "outputs": [],
   "source": [
    "# 前処理の結果，以下に分析対象ファイルが格納されていることを想定\n",
    "PATH_DATA = '../../data/preprocess/out/magazines.csv'"
   ]
  },
  {
   "cell_type": "code",
   "execution_count": 68,
   "id": "e1494856-7fb4-4d74-b0df-0d9928bbb541",
   "metadata": {},
   "outputs": [],
   "source": [
    "df = pd.read_csv(PATH_DATA)"
   ]
  },
  {
   "cell_type": "markdown",
   "id": "0a6f1b60-277f-4a3e-99b7-a5a9eaa7d9c4",
   "metadata": {},
   "source": [
    "## 概要"
   ]
  },
  {
   "cell_type": "markdown",
   "id": "85b440b1-632a-4ec0-aaaf-784e01345312",
   "metadata": {},
   "source": [
    "`df`は\n",
    "\n",
    "- 週刊少年ジャンプ\n",
    "- 週刊少年サンデー\n",
    "- 週刊少年マガジン\n",
    "- 週刊少年チャンピオン\n",
    "\n",
    "の`1970-08-02`から`2017-07-06`までのすべての掲載作品のデータを格納した`DataFrame`です．\n",
    "まずはサイズを見てみましょう．"
   ]
  },
  {
   "cell_type": "code",
   "execution_count": 69,
   "id": "cec53068-d43f-4039-97f7-9b5a02712c4e",
   "metadata": {},
   "outputs": [
    {
     "data": {
      "text/plain": [
       "(179866, 12)"
      ]
     },
     "execution_count": 69,
     "metadata": {},
     "output_type": "execute_result"
    }
   ],
   "source": [
    "df.shape"
   ]
  },
  {
   "cell_type": "markdown",
   "id": "bd6e0ac4-06e7-4bad-ac72-69d3192f070e",
   "metadata": {},
   "source": [
    "各週の掲載作品を一行ずつ格納しているため，合計で約18万行程度の規模になります．\n",
    "以下に，各列の構成を示します．"
   ]
  },
  {
   "cell_type": "code",
   "execution_count": 70,
   "id": "bca29095-8cb7-4509-8970-761650ebda9e",
   "metadata": {},
   "outputs": [
    {
     "data": {
      "text/plain": [
       "Index(['mcname', 'miname', 'cname', 'epname', 'creator', 'pageStart',\n",
       "       'pageEnd', 'numberOfPages', 'datePublished', 'price', 'publisher',\n",
       "       'editor'],\n",
       "      dtype='object')"
      ]
     },
     "execution_count": 70,
     "metadata": {},
     "output_type": "execute_result"
    }
   ],
   "source": [
    "df.columns"
   ]
  },
  {
   "cell_type": "markdown",
   "id": "b92de7f1-ff11-4ee8-9b4b-bcc46fce8c2c",
   "metadata": {},
   "source": [
    "- `mcname`: 雑誌名\n",
    "- `miname`: 雑誌巻号名\n",
    "- `cname`: マンガ作品名\n",
    "- `epname`: 各話タイトル\n",
    "- `creator`: 作者名\n",
    "- `pageStart`: 開始ページ\n",
    "- `pageEnd`: 終了ページ\n",
    "- `numberOfPages`: 雑誌の合計ページ数\n",
    "- `datePublished`: 雑誌の発行日\n",
    "- `price`: 雑誌の価格\n",
    "- `publisher`: 雑誌の発行元\n",
    "- `editor`: 雑誌の編集者（編集長）"
   ]
  },
  {
   "cell_type": "markdown",
   "id": "1641f38a-5089-4934-9c2a-2256ee846187",
   "metadata": {},
   "source": [
    "冒頭数行を見て，データのイメージを掴んでみましょう．"
   ]
  },
  {
   "cell_type": "code",
   "execution_count": 71,
   "id": "7c061cde-b52e-4492-8202-3c17afa5b39e",
   "metadata": {},
   "outputs": [
    {
     "data": {
      "text/html": [
       "<div>\n",
       "<style scoped>\n",
       "    .dataframe tbody tr th:only-of-type {\n",
       "        vertical-align: middle;\n",
       "    }\n",
       "\n",
       "    .dataframe tbody tr th {\n",
       "        vertical-align: top;\n",
       "    }\n",
       "\n",
       "    .dataframe thead th {\n",
       "        text-align: right;\n",
       "    }\n",
       "</style>\n",
       "<table border=\"1\" class=\"dataframe\">\n",
       "  <thead>\n",
       "    <tr style=\"text-align: right;\">\n",
       "      <th></th>\n",
       "      <th>0</th>\n",
       "      <th>1</th>\n",
       "      <th>2</th>\n",
       "    </tr>\n",
       "  </thead>\n",
       "  <tbody>\n",
       "    <tr>\n",
       "      <th>mcname</th>\n",
       "      <td>週刊少年サンデー</td>\n",
       "      <td>週刊少年マガジン</td>\n",
       "      <td>週刊少年サンデー</td>\n",
       "    </tr>\n",
       "    <tr>\n",
       "      <th>miname</th>\n",
       "      <td>週刊少年サンデー 1970年 表示号数32</td>\n",
       "      <td>週刊少年マガジン 1970年 表示号数32</td>\n",
       "      <td>週刊少年サンデー 1970年 表示号数32</td>\n",
       "    </tr>\n",
       "    <tr>\n",
       "      <th>cname</th>\n",
       "      <td>ぶッかれ*ダン</td>\n",
       "      <td>アシュラ</td>\n",
       "      <td>男どアホウ甲子園</td>\n",
       "    </tr>\n",
       "    <tr>\n",
       "      <th>epname</th>\n",
       "      <td>NaN</td>\n",
       "      <td>NaN</td>\n",
       "      <td>NaN</td>\n",
       "    </tr>\n",
       "    <tr>\n",
       "      <th>creator</th>\n",
       "      <td>赤塚不二夫</td>\n",
       "      <td>ジョージ秋山</td>\n",
       "      <td>水島新司と水島プロ</td>\n",
       "    </tr>\n",
       "    <tr>\n",
       "      <th>pageStart</th>\n",
       "      <td>3.0</td>\n",
       "      <td>19.0</td>\n",
       "      <td>33.0</td>\n",
       "    </tr>\n",
       "    <tr>\n",
       "      <th>pageEnd</th>\n",
       "      <td>32.0</td>\n",
       "      <td>66.0</td>\n",
       "      <td>50.0</td>\n",
       "    </tr>\n",
       "    <tr>\n",
       "      <th>numberOfPages</th>\n",
       "      <td>288.0</td>\n",
       "      <td>282.0</td>\n",
       "      <td>288.0</td>\n",
       "    </tr>\n",
       "    <tr>\n",
       "      <th>datePublished</th>\n",
       "      <td>1970-08-02</td>\n",
       "      <td>1970-08-02</td>\n",
       "      <td>1970-08-02</td>\n",
       "    </tr>\n",
       "    <tr>\n",
       "      <th>price</th>\n",
       "      <td>80.0</td>\n",
       "      <td>80.0</td>\n",
       "      <td>80.0</td>\n",
       "    </tr>\n",
       "    <tr>\n",
       "      <th>publisher</th>\n",
       "      <td>小学館</td>\n",
       "      <td>講談社　∥　コウダンシャ</td>\n",
       "      <td>小学館</td>\n",
       "    </tr>\n",
       "    <tr>\n",
       "      <th>editor</th>\n",
       "      <td>NaN</td>\n",
       "      <td>内田勝</td>\n",
       "      <td>NaN</td>\n",
       "    </tr>\n",
       "  </tbody>\n",
       "</table>\n",
       "</div>"
      ],
      "text/plain": [
       "                                   0                      1  \\\n",
       "mcname                      週刊少年サンデー               週刊少年マガジン   \n",
       "miname         週刊少年サンデー 1970年 表示号数32  週刊少年マガジン 1970年 表示号数32   \n",
       "cname                        ぶッかれ*ダン                   アシュラ   \n",
       "epname                           NaN                    NaN   \n",
       "creator                        赤塚不二夫                 ジョージ秋山   \n",
       "pageStart                        3.0                   19.0   \n",
       "pageEnd                         32.0                   66.0   \n",
       "numberOfPages                  288.0                  282.0   \n",
       "datePublished             1970-08-02             1970-08-02   \n",
       "price                           80.0                   80.0   \n",
       "publisher                        小学館           講談社　∥　コウダンシャ   \n",
       "editor                           NaN                    内田勝   \n",
       "\n",
       "                                   2  \n",
       "mcname                      週刊少年サンデー  \n",
       "miname         週刊少年サンデー 1970年 表示号数32  \n",
       "cname                       男どアホウ甲子園  \n",
       "epname                           NaN  \n",
       "creator                    水島新司と水島プロ  \n",
       "pageStart                       33.0  \n",
       "pageEnd                         50.0  \n",
       "numberOfPages                  288.0  \n",
       "datePublished             1970-08-02  \n",
       "price                           80.0  \n",
       "publisher                        小学館  \n",
       "editor                           NaN  "
      ]
     },
     "execution_count": 71,
     "metadata": {},
     "output_type": "execute_result"
    }
   ],
   "source": [
    "df.head(3).T"
   ]
  },
  {
   "cell_type": "markdown",
   "id": "9bd94e85-d6e9-413e-a14d-ef5ea3e4a970",
   "metadata": {},
   "source": [
    "`pandas`の`describe()`コマンドでざっくり集計してみます．"
   ]
  },
  {
   "cell_type": "code",
   "execution_count": 72,
   "id": "d3e811fd-42f6-45b7-abdb-a41b269742a8",
   "metadata": {},
   "outputs": [
    {
     "data": {
      "text/html": [
       "<div>\n",
       "<style scoped>\n",
       "    .dataframe tbody tr th:only-of-type {\n",
       "        vertical-align: middle;\n",
       "    }\n",
       "\n",
       "    .dataframe tbody tr th {\n",
       "        vertical-align: top;\n",
       "    }\n",
       "\n",
       "    .dataframe thead th {\n",
       "        text-align: right;\n",
       "    }\n",
       "</style>\n",
       "<table border=\"1\" class=\"dataframe\">\n",
       "  <thead>\n",
       "    <tr style=\"text-align: right;\">\n",
       "      <th></th>\n",
       "      <th>pageStart</th>\n",
       "      <th>pageEnd</th>\n",
       "      <th>numberOfPages</th>\n",
       "      <th>price</th>\n",
       "    </tr>\n",
       "  </thead>\n",
       "  <tbody>\n",
       "    <tr>\n",
       "      <th>count</th>\n",
       "      <td>179866.000000</td>\n",
       "      <td>179860.000000</td>\n",
       "      <td>179559.000000</td>\n",
       "      <td>179828.000000</td>\n",
       "    </tr>\n",
       "    <tr>\n",
       "      <th>mean</th>\n",
       "      <td>210.909330</td>\n",
       "      <td>228.364308</td>\n",
       "      <td>417.366002</td>\n",
       "      <td>203.870732</td>\n",
       "    </tr>\n",
       "    <tr>\n",
       "      <th>std</th>\n",
       "      <td>126.082707</td>\n",
       "      <td>122.080065</td>\n",
       "      <td>67.403584</td>\n",
       "      <td>41.928839</td>\n",
       "    </tr>\n",
       "    <tr>\n",
       "      <th>min</th>\n",
       "      <td>1.000000</td>\n",
       "      <td>0.000000</td>\n",
       "      <td>36.000000</td>\n",
       "      <td>80.000000</td>\n",
       "    </tr>\n",
       "    <tr>\n",
       "      <th>25%</th>\n",
       "      <td>107.000000</td>\n",
       "      <td>126.000000</td>\n",
       "      <td>356.000000</td>\n",
       "      <td>180.000000</td>\n",
       "    </tr>\n",
       "    <tr>\n",
       "      <th>50%</th>\n",
       "      <td>205.000000</td>\n",
       "      <td>222.000000</td>\n",
       "      <td>437.000000</td>\n",
       "      <td>210.000000</td>\n",
       "    </tr>\n",
       "    <tr>\n",
       "      <th>75%</th>\n",
       "      <td>305.000000</td>\n",
       "      <td>322.000000</td>\n",
       "      <td>464.000000</td>\n",
       "      <td>236.000000</td>\n",
       "    </tr>\n",
       "    <tr>\n",
       "      <th>max</th>\n",
       "      <td>9999.000000</td>\n",
       "      <td>1578.000000</td>\n",
       "      <td>600.000000</td>\n",
       "      <td>371.000000</td>\n",
       "    </tr>\n",
       "  </tbody>\n",
       "</table>\n",
       "</div>"
      ],
      "text/plain": [
       "           pageStart        pageEnd  numberOfPages          price\n",
       "count  179866.000000  179860.000000  179559.000000  179828.000000\n",
       "mean      210.909330     228.364308     417.366002     203.870732\n",
       "std       126.082707     122.080065      67.403584      41.928839\n",
       "min         1.000000       0.000000      36.000000      80.000000\n",
       "25%       107.000000     126.000000     356.000000     180.000000\n",
       "50%       205.000000     222.000000     437.000000     210.000000\n",
       "75%       305.000000     322.000000     464.000000     236.000000\n",
       "max      9999.000000    1578.000000     600.000000     371.000000"
      ]
     },
     "execution_count": 72,
     "metadata": {},
     "output_type": "execute_result"
    }
   ],
   "source": [
    "df.describe()"
   ]
  },
  {
   "cell_type": "markdown",
   "id": "e1920318-f650-41b5-b5dd-920d5239e084",
   "metadata": {},
   "source": [
    "- `pageStart`はすべての行でデータがありますが，それ以外は`NaN`（数値なし）が結構ありそうです\n",
    "- `numberOfPages`の最小値，最大値が想定外に広がっていたので，あとで深堀りします\n",
    "- `price`も同様です．後で深堀りします"
   ]
  },
  {
   "cell_type": "markdown",
   "id": "700ee02c-b40d-4c13-a6e2-6d6f1bcec4f6",
   "metadata": {},
   "source": [
    "次に，`NaN`の数を列ごとに集計します．"
   ]
  },
  {
   "cell_type": "code",
   "execution_count": 74,
   "id": "17251d5e-ad15-49f7-b3b6-e1e5ff42d32d",
   "metadata": {},
   "outputs": [
    {
     "data": {
      "text/plain": [
       "mcname               0\n",
       "miname               0\n",
       "cname                9\n",
       "epname           26814\n",
       "creator            441\n",
       "pageStart            0\n",
       "pageEnd              6\n",
       "numberOfPages      307\n",
       "datePublished        0\n",
       "price               38\n",
       "publisher        24588\n",
       "editor            2092\n",
       "dtype: int64"
      ]
     },
     "execution_count": 74,
     "metadata": {},
     "output_type": "execute_result"
    }
   ],
   "source": [
    "df.isna().sum()"
   ]
  },
  {
   "cell_type": "markdown",
   "id": "2a90a901-be39-49d4-a147-bfefd253e77c",
   "metadata": {},
   "source": [
    "```{margin} 前処理が原因の欠測\n",
    "`numberOfPages`，`price`に関しては，想定外のパターンのデータを`NaN`に変換するよう[前処理](https://kakeami.github.io/viz-madb/appendix/preprocess.html#cm102)を施しています．\n",
    "```\n",
    "\n",
    "特に`epname`と`publisher`の欠損が多いことがわかります．"
   ]
  },
  {
   "cell_type": "markdown",
   "id": "3577f99a-3c51-402a-9397-8bec32523dcf",
   "metadata": {},
   "source": [
    "## 列ごとの基礎分析"
   ]
  },
  {
   "cell_type": "markdown",
   "id": "5b852d96-af84-4707-8080-247aa3e233c4",
   "metadata": {},
   "source": [
    "### `mcname`（雑誌名）"
   ]
  },
  {
   "cell_type": "code",
   "execution_count": 75,
   "id": "86a969fd-88f3-4dd0-825f-9d898bc2b72f",
   "metadata": {},
   "outputs": [
    {
     "data": {
      "text/plain": [
       "週刊少年サンデー      46153\n",
       "週刊少年チャンピオン    45410\n",
       "週刊少年マガジン      45293\n",
       "週刊少年ジャンプ      43010\n",
       "Name: mcname, dtype: int64"
      ]
     },
     "execution_count": 75,
     "metadata": {},
     "output_type": "execute_result"
    }
   ],
   "source": [
    "df['mcname'].value_counts()"
   ]
  },
  {
   "cell_type": "markdown",
   "id": "bbcc7e50-f9f6-4382-89bf-fe248d57fc40",
   "metadata": {},
   "source": [
    "上記は`mcname`ごとの行数を表します．それぞれ同一期間で集計しましたが，掲載作品数の違いが生じています．"
   ]
  },
  {
   "cell_type": "markdown",
   "id": "4c66168c-84b9-4437-9f3c-b2070bf77d0c",
   "metadata": {},
   "source": [
    "### `miname`（雑誌巻号名）"
   ]
  },
  {
   "cell_type": "markdown",
   "id": "b5089f05-6b50-4846-b632-41bcbfe30b33",
   "metadata": {},
   "source": [
    "ユニークな`miname`数を集計します．"
   ]
  },
  {
   "cell_type": "code",
   "execution_count": 76,
   "id": "0beae4a3-d79c-403c-8722-2a63419f8773",
   "metadata": {},
   "outputs": [
    {
     "data": {
      "text/plain": [
       "9215"
      ]
     },
     "execution_count": 76,
     "metadata": {},
     "output_type": "execute_result"
    }
   ],
   "source": [
    "df['miname'].nunique()"
   ]
  },
  {
   "cell_type": "markdown",
   "id": "35c96ffc-e9d8-4c9b-8a29-af32925fdbf9",
   "metadata": {},
   "source": [
    "`mcname`（雑誌）ごとに集計した`miname`（雑誌巻号）は："
   ]
  },
  {
   "cell_type": "code",
   "execution_count": 77,
   "id": "2368f9a7-bc47-4fc6-b749-09c3bc6ec8af",
   "metadata": {},
   "outputs": [
    {
     "data": {
      "text/plain": [
       "mcname\n",
       "週刊少年サンデー      2303\n",
       "週刊少年ジャンプ      2299\n",
       "週刊少年チャンピオン    2313\n",
       "週刊少年マガジン      2300\n",
       "Name: miname, dtype: int64"
      ]
     },
     "execution_count": 77,
     "metadata": {},
     "output_type": "execute_result"
    }
   ],
   "source": [
    "df.groupby('mcname')['miname'].nunique()"
   ]
  },
  {
   "cell_type": "markdown",
   "id": "3f8553c4-1bb5-47be-867f-274f71811d30",
   "metadata": {},
   "source": [
    "ほぼ同数ですが，雑誌によって微妙に巻号数が異なることがわかります．\n",
    "\n",
    "次は，`miname`（雑誌巻号）ごとに`mcname`（マンガ作品）数を集計してみます．"
   ]
  },
  {
   "cell_type": "code",
   "execution_count": 78,
   "id": "1331554b-7ad4-44a8-86e4-c0e95579a726",
   "metadata": {},
   "outputs": [
    {
     "data": {
      "text/html": [
       "<div>\n",
       "<style scoped>\n",
       "    .dataframe tbody tr th:only-of-type {\n",
       "        vertical-align: middle;\n",
       "    }\n",
       "\n",
       "    .dataframe tbody tr th {\n",
       "        vertical-align: top;\n",
       "    }\n",
       "\n",
       "    .dataframe thead th {\n",
       "        text-align: right;\n",
       "    }\n",
       "</style>\n",
       "<table border=\"1\" class=\"dataframe\">\n",
       "  <thead>\n",
       "    <tr style=\"text-align: right;\">\n",
       "      <th></th>\n",
       "      <th>miname</th>\n",
       "      <th>cname</th>\n",
       "    </tr>\n",
       "  </thead>\n",
       "  <tbody>\n",
       "    <tr>\n",
       "      <th>0</th>\n",
       "      <td>週刊少年マガジン 1975年 表示号数1</td>\n",
       "      <td>8</td>\n",
       "    </tr>\n",
       "    <tr>\n",
       "      <th>1</th>\n",
       "      <td>週刊少年マガジン 1971年 表示号数1</td>\n",
       "      <td>8</td>\n",
       "    </tr>\n",
       "    <tr>\n",
       "      <th>2</th>\n",
       "      <td>週刊少年マガジン 1974年 表示号数45</td>\n",
       "      <td>9</td>\n",
       "    </tr>\n",
       "    <tr>\n",
       "      <th>3</th>\n",
       "      <td>週刊少年サンデー 1973年 表示号数5</td>\n",
       "      <td>9</td>\n",
       "    </tr>\n",
       "    <tr>\n",
       "      <th>4</th>\n",
       "      <td>週刊少年サンデー 1974年 表示号数33</td>\n",
       "      <td>9</td>\n",
       "    </tr>\n",
       "    <tr>\n",
       "      <th>...</th>\n",
       "      <td>...</td>\n",
       "      <td>...</td>\n",
       "    </tr>\n",
       "    <tr>\n",
       "      <th>9210</th>\n",
       "      <td>週刊少年マガジン 2010年 表示号数7</td>\n",
       "      <td>35</td>\n",
       "    </tr>\n",
       "    <tr>\n",
       "      <th>9211</th>\n",
       "      <td>週刊少年ジャンプ 2014年 表示号数4</td>\n",
       "      <td>37</td>\n",
       "    </tr>\n",
       "    <tr>\n",
       "      <th>9212</th>\n",
       "      <td>週刊少年チャンピオン 2004年 表示号数1</td>\n",
       "      <td>37</td>\n",
       "    </tr>\n",
       "    <tr>\n",
       "      <th>9213</th>\n",
       "      <td>週刊少年ジャンプ 2003年 表示号数37</td>\n",
       "      <td>40</td>\n",
       "    </tr>\n",
       "    <tr>\n",
       "      <th>9214</th>\n",
       "      <td>週刊少年サンデー 2013年 表示号数6</td>\n",
       "      <td>49</td>\n",
       "    </tr>\n",
       "  </tbody>\n",
       "</table>\n",
       "<p>9215 rows × 2 columns</p>\n",
       "</div>"
      ],
      "text/plain": [
       "                      miname  cname\n",
       "0       週刊少年マガジン 1975年 表示号数1      8\n",
       "1       週刊少年マガジン 1971年 表示号数1      8\n",
       "2      週刊少年マガジン 1974年 表示号数45      9\n",
       "3       週刊少年サンデー 1973年 表示号数5      9\n",
       "4      週刊少年サンデー 1974年 表示号数33      9\n",
       "...                      ...    ...\n",
       "9210    週刊少年マガジン 2010年 表示号数7     35\n",
       "9211    週刊少年ジャンプ 2014年 表示号数4     37\n",
       "9212  週刊少年チャンピオン 2004年 表示号数1     37\n",
       "9213   週刊少年ジャンプ 2003年 表示号数37     40\n",
       "9214    週刊少年サンデー 2013年 表示号数6     49\n",
       "\n",
       "[9215 rows x 2 columns]"
      ]
     },
     "execution_count": 78,
     "metadata": {},
     "output_type": "execute_result"
    }
   ],
   "source": [
    "df.groupby('miname')['cname'].nunique().sort_values().reset_index()"
   ]
  },
  {
   "cell_type": "markdown",
   "id": "517fead1-ef9c-48f8-95c6-9e9756f3e268",
   "metadata": {},
   "source": [
    "1970年付近の黎明期は掲載数が少なめだったようです．また，雑誌によってタイミングはバラバラですが，非常に沢山のマンガを掲載する**外れ値**が存在することもわかります．"
   ]
  },
  {
   "cell_type": "markdown",
   "id": "81703d36-0e87-491a-bb8a-5c36b52b5068",
   "metadata": {},
   "source": [
    "### `cname`（マンガ作品名）"
   ]
  },
  {
   "cell_type": "markdown",
   "id": "7588cd03-faa9-4108-8dc2-1685074fa9bf",
   "metadata": {},
   "source": [
    "ユニークな`cname`（マンガ作品）数を集計します．"
   ]
  },
  {
   "cell_type": "code",
   "execution_count": 79,
   "id": "4bed2201-d735-4e5f-b4c9-fa555989a883",
   "metadata": {},
   "outputs": [
    {
     "data": {
      "text/plain": [
       "6830"
      ]
     },
     "execution_count": 79,
     "metadata": {},
     "output_type": "execute_result"
    }
   ],
   "source": [
    "df['cname'].nunique()"
   ]
  },
  {
   "cell_type": "markdown",
   "id": "08b2ddac-2320-479d-91c0-2baa8f8a0f48",
   "metadata": {},
   "source": [
    "`mcname`（雑誌）ごとに`cname`（マンガ作品）数を集計します．"
   ]
  },
  {
   "cell_type": "code",
   "execution_count": 80,
   "id": "e804ceb9-5613-4d67-a401-49e31708db20",
   "metadata": {},
   "outputs": [
    {
     "data": {
      "text/plain": [
       "mcname\n",
       "週刊少年サンデー      1485\n",
       "週刊少年ジャンプ      2105\n",
       "週刊少年チャンピオン    1713\n",
       "週刊少年マガジン      1558\n",
       "Name: cname, dtype: int64"
      ]
     },
     "execution_count": 80,
     "metadata": {},
     "output_type": "execute_result"
    }
   ],
   "source": [
    "df.groupby('mcname')['cname'].nunique()"
   ]
  },
  {
   "cell_type": "markdown",
   "id": "2c220d7d-b8fb-47bf-bdc2-f38c4b4fd6a5",
   "metadata": {},
   "source": [
    "ジャンプが圧倒的に多いですね…．試しに`cname`（マンガ作品）ごとに掲載数を集計してみます．"
   ]
  },
  {
   "cell_type": "code",
   "execution_count": 81,
   "id": "e3cdcd35-0289-4eed-a39c-99f1eeb4906c",
   "metadata": {},
   "outputs": [
    {
     "data": {
      "text/html": [
       "<div>\n",
       "<style scoped>\n",
       "    .dataframe tbody tr th:only-of-type {\n",
       "        vertical-align: middle;\n",
       "    }\n",
       "\n",
       "    .dataframe tbody tr th {\n",
       "        vertical-align: top;\n",
       "    }\n",
       "\n",
       "    .dataframe thead th {\n",
       "        text-align: right;\n",
       "    }\n",
       "</style>\n",
       "<table border=\"1\" class=\"dataframe\">\n",
       "  <thead>\n",
       "    <tr style=\"text-align: right;\">\n",
       "      <th></th>\n",
       "      <th>mcname</th>\n",
       "      <th>cname</th>\n",
       "      <th>counts</th>\n",
       "    </tr>\n",
       "  </thead>\n",
       "  <tbody>\n",
       "    <tr>\n",
       "      <th>0</th>\n",
       "      <td>週刊少年ジャンプ</td>\n",
       "      <td>こちら葛飾区亀有公園前派出所</td>\n",
       "      <td>1968</td>\n",
       "    </tr>\n",
       "    <tr>\n",
       "      <th>1</th>\n",
       "      <td>週刊少年マガジン</td>\n",
       "      <td>はじめの一歩</td>\n",
       "      <td>1184</td>\n",
       "    </tr>\n",
       "    <tr>\n",
       "      <th>2</th>\n",
       "      <td>週刊少年サンデー</td>\n",
       "      <td>名探偵コナン</td>\n",
       "      <td>1008</td>\n",
       "    </tr>\n",
       "    <tr>\n",
       "      <th>3</th>\n",
       "      <td>週刊少年ジャンプ</td>\n",
       "      <td>ONE PIECE</td>\n",
       "      <td>890</td>\n",
       "    </tr>\n",
       "    <tr>\n",
       "      <th>4</th>\n",
       "      <td>週刊少年サンデー</td>\n",
       "      <td>MAJOR</td>\n",
       "      <td>748</td>\n",
       "    </tr>\n",
       "    <tr>\n",
       "      <th>...</th>\n",
       "      <td>...</td>\n",
       "      <td>...</td>\n",
       "      <td>...</td>\n",
       "    </tr>\n",
       "    <tr>\n",
       "      <th>6856</th>\n",
       "      <td>週刊少年ジャンプ</td>\n",
       "      <td>大衆娯楽漫画きくらげ劇場</td>\n",
       "      <td>1</td>\n",
       "    </tr>\n",
       "    <tr>\n",
       "      <th>6857</th>\n",
       "      <td>週刊少年ジャンプ</td>\n",
       "      <td>大攻防戦</td>\n",
       "      <td>1</td>\n",
       "    </tr>\n",
       "    <tr>\n",
       "      <th>6858</th>\n",
       "      <td>週刊少年ジャンプ</td>\n",
       "      <td>大山岳</td>\n",
       "      <td>1</td>\n",
       "    </tr>\n",
       "    <tr>\n",
       "      <th>6859</th>\n",
       "      <td>週刊少年ジャンプ</td>\n",
       "      <td>大宮ジェット</td>\n",
       "      <td>1</td>\n",
       "    </tr>\n",
       "    <tr>\n",
       "      <th>6860</th>\n",
       "      <td>週刊少年マガジン</td>\n",
       "      <td>～HWGP～ 東村山ウエスト・ゲート・パーク</td>\n",
       "      <td>1</td>\n",
       "    </tr>\n",
       "  </tbody>\n",
       "</table>\n",
       "<p>6861 rows × 3 columns</p>\n",
       "</div>"
      ],
      "text/plain": [
       "        mcname                   cname  counts\n",
       "0     週刊少年ジャンプ          こちら葛飾区亀有公園前派出所    1968\n",
       "1     週刊少年マガジン                  はじめの一歩    1184\n",
       "2     週刊少年サンデー                  名探偵コナン    1008\n",
       "3     週刊少年ジャンプ               ONE PIECE     890\n",
       "4     週刊少年サンデー                   MAJOR     748\n",
       "...        ...                     ...     ...\n",
       "6856  週刊少年ジャンプ            大衆娯楽漫画きくらげ劇場       1\n",
       "6857  週刊少年ジャンプ                    大攻防戦       1\n",
       "6858  週刊少年ジャンプ                     大山岳       1\n",
       "6859  週刊少年ジャンプ                  大宮ジェット       1\n",
       "6860  週刊少年マガジン  ～HWGP～ 東村山ウエスト・ゲート・パーク       1\n",
       "\n",
       "[6861 rows x 3 columns]"
      ]
     },
     "execution_count": 81,
     "metadata": {},
     "output_type": "execute_result"
    }
   ],
   "source": [
    "df_tmp = df[['mcname', 'cname']].value_counts().reset_index()\n",
    "df_tmp.columns = ['mcname', 'cname', 'counts']\n",
    "df_tmp"
   ]
  },
  {
   "cell_type": "markdown",
   "id": "270193ed-332f-45fa-8119-96259337b4d6",
   "metadata": {},
   "source": [
    "```{margin} あれ，あの長編作品は…？\n",
    "シーズンごとに作品名が変わっているシリーズ作品（ドカベン，刃牙，ジョジョ等）は，それぞれ別作品として集計されていることにご注意ください．\n",
    "```\n",
    "\n",
    "連載期間が長いものを見てみましょう．こち亀，はじめの一歩，名探偵コナン，ONEPIECE，MAJORと各雑誌のレジェンドが連なります．\n",
    "一方で，連載期間が短いものの中には，企画ものや読み切りが存在するようです．\n",
    "\n",
    "雑誌ごとに，マンガ作品の連載期間に関して基礎集計します．"
   ]
  },
  {
   "cell_type": "code",
   "execution_count": 82,
   "id": "f6b8a8dc-6704-491c-a4f9-aad1da2bba1b",
   "metadata": {},
   "outputs": [
    {
     "data": {
      "text/html": [
       "<div>\n",
       "<style scoped>\n",
       "    .dataframe tbody tr th:only-of-type {\n",
       "        vertical-align: middle;\n",
       "    }\n",
       "\n",
       "    .dataframe tbody tr th {\n",
       "        vertical-align: top;\n",
       "    }\n",
       "\n",
       "    .dataframe thead th {\n",
       "        text-align: right;\n",
       "    }\n",
       "</style>\n",
       "<table border=\"1\" class=\"dataframe\">\n",
       "  <thead>\n",
       "    <tr style=\"text-align: right;\">\n",
       "      <th></th>\n",
       "      <th>count</th>\n",
       "      <th>mean</th>\n",
       "      <th>std</th>\n",
       "      <th>min</th>\n",
       "      <th>25%</th>\n",
       "      <th>50%</th>\n",
       "      <th>75%</th>\n",
       "      <th>max</th>\n",
       "    </tr>\n",
       "    <tr>\n",
       "      <th>mcname</th>\n",
       "      <th></th>\n",
       "      <th></th>\n",
       "      <th></th>\n",
       "      <th></th>\n",
       "      <th></th>\n",
       "      <th></th>\n",
       "      <th></th>\n",
       "      <th></th>\n",
       "    </tr>\n",
       "  </thead>\n",
       "  <tbody>\n",
       "    <tr>\n",
       "      <th>週刊少年サンデー</th>\n",
       "      <td>1485.0</td>\n",
       "      <td>31.077441</td>\n",
       "      <td>73.995156</td>\n",
       "      <td>1.0</td>\n",
       "      <td>1.0</td>\n",
       "      <td>2.0</td>\n",
       "      <td>27.0</td>\n",
       "      <td>1008.0</td>\n",
       "    </tr>\n",
       "    <tr>\n",
       "      <th>週刊少年ジャンプ</th>\n",
       "      <td>2105.0</td>\n",
       "      <td>20.431829</td>\n",
       "      <td>75.075635</td>\n",
       "      <td>1.0</td>\n",
       "      <td>1.0</td>\n",
       "      <td>1.0</td>\n",
       "      <td>11.0</td>\n",
       "      <td>1968.0</td>\n",
       "    </tr>\n",
       "    <tr>\n",
       "      <th>週刊少年チャンピオン</th>\n",
       "      <td>1713.0</td>\n",
       "      <td>26.508465</td>\n",
       "      <td>60.133614</td>\n",
       "      <td>1.0</td>\n",
       "      <td>1.0</td>\n",
       "      <td>3.0</td>\n",
       "      <td>24.0</td>\n",
       "      <td>635.0</td>\n",
       "    </tr>\n",
       "    <tr>\n",
       "      <th>週刊少年マガジン</th>\n",
       "      <td>1558.0</td>\n",
       "      <td>29.068678</td>\n",
       "      <td>75.465729</td>\n",
       "      <td>1.0</td>\n",
       "      <td>1.0</td>\n",
       "      <td>2.0</td>\n",
       "      <td>21.0</td>\n",
       "      <td>1184.0</td>\n",
       "    </tr>\n",
       "  </tbody>\n",
       "</table>\n",
       "</div>"
      ],
      "text/plain": [
       "             count       mean        std  min  25%  50%   75%     max\n",
       "mcname                                                               \n",
       "週刊少年サンデー    1485.0  31.077441  73.995156  1.0  1.0  2.0  27.0  1008.0\n",
       "週刊少年ジャンプ    2105.0  20.431829  75.075635  1.0  1.0  1.0  11.0  1968.0\n",
       "週刊少年チャンピオン  1713.0  26.508465  60.133614  1.0  1.0  3.0  24.0   635.0\n",
       "週刊少年マガジン    1558.0  29.068678  75.465729  1.0  1.0  2.0  21.0  1184.0"
      ]
     },
     "execution_count": 82,
     "metadata": {},
     "output_type": "execute_result"
    }
   ],
   "source": [
    "df_tmp.groupby('mcname')['counts'].describe()"
   ]
  },
  {
   "cell_type": "markdown",
   "id": "9635b606-b15c-4ae0-8baf-3279e3aab5ae",
   "metadata": {},
   "source": [
    "やはりジャンプの平均連載期間が，他誌と比べて短いことがわかります．"
   ]
  },
  {
   "cell_type": "markdown",
   "id": "708dc0b7-0186-4a76-ab54-1a28a3d8ef18",
   "metadata": {},
   "source": [
    "### `epname`（各話タイトル）"
   ]
  },
  {
   "cell_type": "markdown",
   "id": "9c58cd5a-16ad-4ea8-861c-1da9648f3dc2",
   "metadata": {},
   "source": [
    "ユニークな`epname`（各話タイトル）数を集計します．"
   ]
  },
  {
   "cell_type": "code",
   "execution_count": 85,
   "id": "4c89ff40-90ce-47a4-8a84-e21e7fa098a6",
   "metadata": {},
   "outputs": [
    {
     "data": {
      "text/plain": [
       "150241"
      ]
     },
     "execution_count": 85,
     "metadata": {},
     "output_type": "execute_result"
    }
   ],
   "source": [
    "df['epname'].nunique()"
   ]
  },
  {
   "cell_type": "markdown",
   "id": "cfeea006-6c2f-45b6-8062-4f5574a1d228",
   "metadata": {},
   "source": [
    "意外と重複しているようです．集計してみます．"
   ]
  },
  {
   "cell_type": "code",
   "execution_count": 87,
   "id": "7a9b7816-07e0-4da6-9e42-929b2f9488f0",
   "metadata": {},
   "outputs": [
    {
     "data": {
      "text/html": [
       "<div>\n",
       "<style scoped>\n",
       "    .dataframe tbody tr th:only-of-type {\n",
       "        vertical-align: middle;\n",
       "    }\n",
       "\n",
       "    .dataframe tbody tr th {\n",
       "        vertical-align: top;\n",
       "    }\n",
       "\n",
       "    .dataframe thead th {\n",
       "        text-align: right;\n",
       "    }\n",
       "</style>\n",
       "<table border=\"1\" class=\"dataframe\">\n",
       "  <thead>\n",
       "    <tr style=\"text-align: right;\">\n",
       "      <th></th>\n",
       "      <th>index</th>\n",
       "      <th>epname</th>\n",
       "    </tr>\n",
       "  </thead>\n",
       "  <tbody>\n",
       "    <tr>\n",
       "      <th>0</th>\n",
       "      <td>プロ野球編</td>\n",
       "      <td>186</td>\n",
       "    </tr>\n",
       "    <tr>\n",
       "      <th>1</th>\n",
       "      <td>後編</td>\n",
       "      <td>134</td>\n",
       "    </tr>\n",
       "    <tr>\n",
       "      <th>2</th>\n",
       "      <td>前編</td>\n",
       "      <td>118</td>\n",
       "    </tr>\n",
       "    <tr>\n",
       "      <th>3</th>\n",
       "      <td>最終回</td>\n",
       "      <td>82</td>\n",
       "    </tr>\n",
       "    <tr>\n",
       "      <th>4</th>\n",
       "      <td>第三部 孤狼青春編</td>\n",
       "      <td>81</td>\n",
       "    </tr>\n",
       "    <tr>\n",
       "      <th>...</th>\n",
       "      <td>...</td>\n",
       "      <td>...</td>\n",
       "    </tr>\n",
       "    <tr>\n",
       "      <th>150236</th>\n",
       "      <td>＄33 カミナリ、おそるべし</td>\n",
       "      <td>1</td>\n",
       "    </tr>\n",
       "    <tr>\n",
       "      <th>150237</th>\n",
       "      <td>星に願いを・・・・　／　笑っていいですよ　／　朝食</td>\n",
       "      <td>1</td>\n",
       "    </tr>\n",
       "    <tr>\n",
       "      <th>150238</th>\n",
       "      <td>〔□67〕時間目 日替わり勉強!!</td>\n",
       "      <td>1</td>\n",
       "    </tr>\n",
       "    <tr>\n",
       "      <th>150239</th>\n",
       "      <td>C.C.S.9/ 亀裂</td>\n",
       "      <td>1</td>\n",
       "    </tr>\n",
       "    <tr>\n",
       "      <th>150240</th>\n",
       "      <td>サンプルの巻 2</td>\n",
       "      <td>1</td>\n",
       "    </tr>\n",
       "  </tbody>\n",
       "</table>\n",
       "<p>150241 rows × 2 columns</p>\n",
       "</div>"
      ],
      "text/plain": [
       "                            index  epname\n",
       "0                           プロ野球編     186\n",
       "1                              後編     134\n",
       "2                              前編     118\n",
       "3                             最終回      82\n",
       "4                       第三部 孤狼青春編      81\n",
       "...                           ...     ...\n",
       "150236             ＄33 カミナリ、おそるべし       1\n",
       "150237  星に願いを・・・・　／　笑っていいですよ　／　朝食       1\n",
       "150238          〔□67〕時間目 日替わり勉強!!       1\n",
       "150239                C.C.S.9/ 亀裂       1\n",
       "150240                   サンプルの巻 2       1\n",
       "\n",
       "[150241 rows x 2 columns]"
      ]
     },
     "execution_count": 87,
     "metadata": {},
     "output_type": "execute_result"
    }
   ],
   "source": [
    "df['epname'].value_counts().reset_index()"
   ]
  },
  {
   "cell_type": "markdown",
   "id": "6fb64bff-22b0-4da2-993f-9cc2aa926ae0",
   "metadata": {},
   "source": [
    "プロ野球編ってことは…．"
   ]
  },
  {
   "cell_type": "code",
   "execution_count": 88,
   "id": "14bacfeb-7236-4203-a594-61a4e6cf02c4",
   "metadata": {},
   "outputs": [
    {
     "data": {
      "text/html": [
       "<div>\n",
       "<style scoped>\n",
       "    .dataframe tbody tr th:only-of-type {\n",
       "        vertical-align: middle;\n",
       "    }\n",
       "\n",
       "    .dataframe tbody tr th {\n",
       "        vertical-align: top;\n",
       "    }\n",
       "\n",
       "    .dataframe thead th {\n",
       "        text-align: right;\n",
       "    }\n",
       "</style>\n",
       "<table border=\"1\" class=\"dataframe\">\n",
       "  <thead>\n",
       "    <tr style=\"text-align: right;\">\n",
       "      <th></th>\n",
       "      <th>index</th>\n",
       "      <th>cname</th>\n",
       "    </tr>\n",
       "  </thead>\n",
       "  <tbody>\n",
       "    <tr>\n",
       "      <th>0</th>\n",
       "      <td>ドカベン</td>\n",
       "      <td>186</td>\n",
       "    </tr>\n",
       "  </tbody>\n",
       "</table>\n",
       "</div>"
      ],
      "text/plain": [
       "  index  cname\n",
       "0  ドカベン    186"
      ]
     },
     "execution_count": 88,
     "metadata": {},
     "output_type": "execute_result"
    }
   ],
   "source": [
    "df[df['epname']=='プロ野球編']['cname'].value_counts().reset_index()"
   ]
  },
  {
   "cell_type": "markdown",
   "id": "14db322b-7c6a-41c0-bffc-53f2a3e6baa4",
   "metadata": {},
   "source": [
    "やっぱりドカベンですね！ドカベンってもしかして**〇〇編**の粒度でしかタイトルをつけないのでしょうか…？ドカベンの`epname`を集計してみます．"
   ]
  },
  {
   "cell_type": "code",
   "execution_count": 92,
   "id": "b52422ab-6881-4595-81c6-cd523d0e14e2",
   "metadata": {},
   "outputs": [
    {
     "data": {
      "text/html": [
       "<div>\n",
       "<style scoped>\n",
       "    .dataframe tbody tr th:only-of-type {\n",
       "        vertical-align: middle;\n",
       "    }\n",
       "\n",
       "    .dataframe tbody tr th {\n",
       "        vertical-align: top;\n",
       "    }\n",
       "\n",
       "    .dataframe thead th {\n",
       "        text-align: right;\n",
       "    }\n",
       "</style>\n",
       "<table border=\"1\" class=\"dataframe\">\n",
       "  <thead>\n",
       "    <tr style=\"text-align: right;\">\n",
       "      <th></th>\n",
       "      <th>index</th>\n",
       "      <th>epname</th>\n",
       "    </tr>\n",
       "  </thead>\n",
       "  <tbody>\n",
       "    <tr>\n",
       "      <th>0</th>\n",
       "      <td>プロ野球編</td>\n",
       "      <td>186</td>\n",
       "    </tr>\n",
       "    <tr>\n",
       "      <th>1</th>\n",
       "      <td>新潟明訓対神奈川明訓</td>\n",
       "      <td>1</td>\n",
       "    </tr>\n",
       "    <tr>\n",
       "      <th>2</th>\n",
       "      <td>外伝 不知火・土門伝説</td>\n",
       "      <td>1</td>\n",
       "    </tr>\n",
       "    <tr>\n",
       "      <th>3</th>\n",
       "      <td>殿馬一人外伝 秘打「白鳥の湖」誕生秘話</td>\n",
       "      <td>1</td>\n",
       "    </tr>\n",
       "  </tbody>\n",
       "</table>\n",
       "</div>"
      ],
      "text/plain": [
       "                 index  epname\n",
       "0                プロ野球編     186\n",
       "1           新潟明訓対神奈川明訓       1\n",
       "2          外伝 不知火・土門伝説       1\n",
       "3  殿馬一人外伝 秘打「白鳥の湖」誕生秘話       1"
      ]
     },
     "execution_count": 92,
     "metadata": {},
     "output_type": "execute_result"
    }
   ],
   "source": [
    "df[df['cname']=='ドカベン']['epname'].value_counts().reset_index()"
   ]
  },
  {
   "cell_type": "code",
   "execution_count": 93,
   "id": "966bede8-cde1-4a27-aed0-6b181da202b3",
   "metadata": {},
   "outputs": [
    {
     "data": {
      "text/plain": [
       "446"
      ]
     },
     "execution_count": 93,
     "metadata": {},
     "output_type": "execute_result"
    }
   ],
   "source": [
    "df[df['cname']=='ドカベン']['epname'].isna().sum()"
   ]
  },
  {
   "cell_type": "markdown",
   "id": "d6f52849-67db-40ae-aa6e-ee1c761c927f",
   "metadata": {},
   "source": [
    "プロ野球編以外のドカベンの各話タイトルは欠測しているため，これ以上のことはわからなそうです．"
   ]
  },
  {
   "cell_type": "markdown",
   "id": "608faed6-6ad5-476a-b3bb-d29585109dbd",
   "metadata": {},
   "source": [
    "### `creator`（作者）"
   ]
  },
  {
   "cell_type": "markdown",
   "id": "9fd131d0-2ce7-4fc1-9aa3-3b129b52ff4a",
   "metadata": {},
   "source": [
    "`df`に存在する`creator`（作者）数を集計します．"
   ]
  },
  {
   "cell_type": "code",
   "execution_count": 96,
   "id": "eac92def-0e06-4e2a-9f3e-fc98ad33ab4d",
   "metadata": {},
   "outputs": [
    {
     "data": {
      "text/plain": [
       "2740"
      ]
     },
     "execution_count": 96,
     "metadata": {},
     "output_type": "execute_result"
    }
   ],
   "source": [
    "df['creator'].nunique()"
   ]
  },
  {
   "cell_type": "markdown",
   "id": "446ec47b-00d1-4b8f-a853-7f2bdf8fdf64",
   "metadata": {},
   "source": [
    "合計作品数が多い`creator`を調べてみます．"
   ]
  },
  {
   "cell_type": "code",
   "execution_count": 98,
   "id": "fa670673-9db7-4ec0-873d-5413180d9af5",
   "metadata": {},
   "outputs": [
    {
     "data": {
      "text/html": [
       "<div>\n",
       "<style scoped>\n",
       "    .dataframe tbody tr th:only-of-type {\n",
       "        vertical-align: middle;\n",
       "    }\n",
       "\n",
       "    .dataframe tbody tr th {\n",
       "        vertical-align: top;\n",
       "    }\n",
       "\n",
       "    .dataframe thead th {\n",
       "        text-align: right;\n",
       "    }\n",
       "</style>\n",
       "<table border=\"1\" class=\"dataframe\">\n",
       "  <thead>\n",
       "    <tr style=\"text-align: right;\">\n",
       "      <th></th>\n",
       "      <th>index</th>\n",
       "      <th>creator</th>\n",
       "    </tr>\n",
       "  </thead>\n",
       "  <tbody>\n",
       "    <tr>\n",
       "      <th>0</th>\n",
       "      <td>水島新司</td>\n",
       "      <td>2968</td>\n",
       "    </tr>\n",
       "    <tr>\n",
       "      <th>1</th>\n",
       "      <td>秋本治</td>\n",
       "      <td>1876</td>\n",
       "    </tr>\n",
       "    <tr>\n",
       "      <th>2</th>\n",
       "      <td>高橋留美子</td>\n",
       "      <td>1735</td>\n",
       "    </tr>\n",
       "    <tr>\n",
       "      <th>3</th>\n",
       "      <td>浜岡賢次</td>\n",
       "      <td>1381</td>\n",
       "    </tr>\n",
       "    <tr>\n",
       "      <th>4</th>\n",
       "      <td>青山剛昌</td>\n",
       "      <td>1285</td>\n",
       "    </tr>\n",
       "    <tr>\n",
       "      <th>5</th>\n",
       "      <td>あだち充</td>\n",
       "      <td>1270</td>\n",
       "    </tr>\n",
       "    <tr>\n",
       "      <th>6</th>\n",
       "      <td>森川ジョージ</td>\n",
       "      <td>1224</td>\n",
       "    </tr>\n",
       "    <tr>\n",
       "      <th>7</th>\n",
       "      <td>満田拓也</td>\n",
       "      <td>1222</td>\n",
       "    </tr>\n",
       "    <tr>\n",
       "      <th>8</th>\n",
       "      <td>板垣恵介</td>\n",
       "      <td>1171</td>\n",
       "    </tr>\n",
       "    <tr>\n",
       "      <th>9</th>\n",
       "      <td>藤田和日郎</td>\n",
       "      <td>1101</td>\n",
       "    </tr>\n",
       "  </tbody>\n",
       "</table>\n",
       "</div>"
      ],
      "text/plain": [
       "    index  creator\n",
       "0    水島新司     2968\n",
       "1     秋本治     1876\n",
       "2   高橋留美子     1735\n",
       "3    浜岡賢次     1381\n",
       "4    青山剛昌     1285\n",
       "5    あだち充     1270\n",
       "6  森川ジョージ     1224\n",
       "7    満田拓也     1222\n",
       "8    板垣恵介     1171\n",
       "9   藤田和日郎     1101"
      ]
     },
     "execution_count": 98,
     "metadata": {},
     "output_type": "execute_result"
    }
   ],
   "source": [
    "df['creator'].value_counts().reset_index().head(10)"
   ]
  },
  {
   "cell_type": "markdown",
   "id": "232e4881-d947-43ad-82af-1b3529159c7a",
   "metadata": {},
   "source": [
    "メンツが強すぎます…．\n",
    "個人的にはこち亀の`秋本治`先生が一番かなと予想していましたが，`水島新司`先生が圧倒的でした．\n",
    "\n",
    "ちなみに，こち亀の`creator`を集計すると以下のようになります．"
   ]
  },
  {
   "cell_type": "code",
   "execution_count": 103,
   "id": "de83d916-d74b-4369-9768-f858ac9f1321",
   "metadata": {},
   "outputs": [
    {
     "data": {
      "text/html": [
       "<div>\n",
       "<style scoped>\n",
       "    .dataframe tbody tr th:only-of-type {\n",
       "        vertical-align: middle;\n",
       "    }\n",
       "\n",
       "    .dataframe tbody tr th {\n",
       "        vertical-align: top;\n",
       "    }\n",
       "\n",
       "    .dataframe thead th {\n",
       "        text-align: right;\n",
       "    }\n",
       "</style>\n",
       "<table border=\"1\" class=\"dataframe\">\n",
       "  <thead>\n",
       "    <tr style=\"text-align: right;\">\n",
       "      <th></th>\n",
       "      <th>index</th>\n",
       "      <th>creator</th>\n",
       "    </tr>\n",
       "  </thead>\n",
       "  <tbody>\n",
       "    <tr>\n",
       "      <th>0</th>\n",
       "      <td>秋本治</td>\n",
       "      <td>1866</td>\n",
       "    </tr>\n",
       "    <tr>\n",
       "      <th>1</th>\n",
       "      <td>山止たつひこ</td>\n",
       "      <td>101</td>\n",
       "    </tr>\n",
       "    <tr>\n",
       "      <th>2</th>\n",
       "      <td>秋本治ととみさわちなつ</td>\n",
       "      <td>1</td>\n",
       "    </tr>\n",
       "  </tbody>\n",
       "</table>\n",
       "</div>"
      ],
      "text/plain": [
       "         index  creator\n",
       "0          秋本治     1866\n",
       "1       山止たつひこ      101\n",
       "2  秋本治ととみさわちなつ        1"
      ]
     },
     "execution_count": 103,
     "metadata": {},
     "output_type": "execute_result"
    }
   ],
   "source": [
    "df[df['cname']=='こちら葛飾区亀有公園前派出所']['creator'].value_counts().reset_index()"
   ]
  },
  {
   "cell_type": "markdown",
   "id": "dc0748b0-d3f1-43a8-bc9e-3e8c7cabb971",
   "metadata": {},
   "source": [
    "`秋本治`先生は，デビュー時`山止たつひこ`というペンネームを使っていました．\n",
    "\n",
    "（この101話分を足しても全然追いつかない`水島新司`先生がすごすぎますが…）"
   ]
  },
  {
   "cell_type": "markdown",
   "id": "9096e16c-1a3b-45bb-97d5-46a78148d1d4",
   "metadata": {},
   "source": [
    "### `pageStart`（開始ページ）"
   ]
  },
  {
   "cell_type": "markdown",
   "id": "28abbcd4-a3ca-4a4e-955f-cea587781d23",
   "metadata": {},
   "source": [
    "`pageStart`（開始ページ）について`describe()`で基礎集計すると，以下のようになります．"
   ]
  },
  {
   "cell_type": "code",
   "execution_count": 111,
   "id": "ee65b79b-b0fb-4716-abed-132efefa9d50",
   "metadata": {},
   "outputs": [
    {
     "data": {
      "text/html": [
       "<div>\n",
       "<style scoped>\n",
       "    .dataframe tbody tr th:only-of-type {\n",
       "        vertical-align: middle;\n",
       "    }\n",
       "\n",
       "    .dataframe tbody tr th {\n",
       "        vertical-align: top;\n",
       "    }\n",
       "\n",
       "    .dataframe thead th {\n",
       "        text-align: right;\n",
       "    }\n",
       "</style>\n",
       "<table border=\"1\" class=\"dataframe\">\n",
       "  <thead>\n",
       "    <tr style=\"text-align: right;\">\n",
       "      <th></th>\n",
       "      <th>index</th>\n",
       "      <th>pageStart</th>\n",
       "    </tr>\n",
       "  </thead>\n",
       "  <tbody>\n",
       "    <tr>\n",
       "      <th>0</th>\n",
       "      <td>count</td>\n",
       "      <td>179866.000000</td>\n",
       "    </tr>\n",
       "    <tr>\n",
       "      <th>1</th>\n",
       "      <td>mean</td>\n",
       "      <td>210.909330</td>\n",
       "    </tr>\n",
       "    <tr>\n",
       "      <th>2</th>\n",
       "      <td>std</td>\n",
       "      <td>126.082707</td>\n",
       "    </tr>\n",
       "    <tr>\n",
       "      <th>3</th>\n",
       "      <td>min</td>\n",
       "      <td>1.000000</td>\n",
       "    </tr>\n",
       "    <tr>\n",
       "      <th>4</th>\n",
       "      <td>25%</td>\n",
       "      <td>107.000000</td>\n",
       "    </tr>\n",
       "    <tr>\n",
       "      <th>5</th>\n",
       "      <td>50%</td>\n",
       "      <td>205.000000</td>\n",
       "    </tr>\n",
       "    <tr>\n",
       "      <th>6</th>\n",
       "      <td>75%</td>\n",
       "      <td>305.000000</td>\n",
       "    </tr>\n",
       "    <tr>\n",
       "      <th>7</th>\n",
       "      <td>max</td>\n",
       "      <td>9999.000000</td>\n",
       "    </tr>\n",
       "  </tbody>\n",
       "</table>\n",
       "</div>"
      ],
      "text/plain": [
       "   index      pageStart\n",
       "0  count  179866.000000\n",
       "1   mean     210.909330\n",
       "2    std     126.082707\n",
       "3    min       1.000000\n",
       "4    25%     107.000000\n",
       "5    50%     205.000000\n",
       "6    75%     305.000000\n",
       "7    max    9999.000000"
      ]
     },
     "execution_count": 111,
     "metadata": {},
     "output_type": "execute_result"
    }
   ],
   "source": [
    "df['pageStart'].describe().reset_index()"
   ]
  },
  {
   "cell_type": "markdown",
   "id": "755649f3-192c-451e-9068-ea305cedda99",
   "metadata": {},
   "source": [
    "異常に大きいものがあることがわかります．\n",
    "試しに`pageStart`が`numberOfPage`より大きいものを抜き出すと："
   ]
  },
  {
   "cell_type": "code",
   "execution_count": 110,
   "id": "c759b1e4-34df-4737-89eb-6b1280e24fc5",
   "metadata": {},
   "outputs": [
    {
     "data": {
      "text/html": [
       "<div>\n",
       "<style scoped>\n",
       "    .dataframe tbody tr th:only-of-type {\n",
       "        vertical-align: middle;\n",
       "    }\n",
       "\n",
       "    .dataframe tbody tr th {\n",
       "        vertical-align: top;\n",
       "    }\n",
       "\n",
       "    .dataframe thead th {\n",
       "        text-align: right;\n",
       "    }\n",
       "</style>\n",
       "<table border=\"1\" class=\"dataframe\">\n",
       "  <thead>\n",
       "    <tr style=\"text-align: right;\">\n",
       "      <th></th>\n",
       "      <th>mcname</th>\n",
       "      <th>miname</th>\n",
       "      <th>cname</th>\n",
       "      <th>epname</th>\n",
       "      <th>creator</th>\n",
       "      <th>pageStart</th>\n",
       "      <th>pageEnd</th>\n",
       "      <th>numberOfPages</th>\n",
       "      <th>datePublished</th>\n",
       "      <th>price</th>\n",
       "      <th>publisher</th>\n",
       "      <th>editor</th>\n",
       "    </tr>\n",
       "  </thead>\n",
       "  <tbody>\n",
       "    <tr>\n",
       "      <th>56163</th>\n",
       "      <td>週刊少年マガジン</td>\n",
       "      <td>週刊少年マガジン 1989年 表示号数10</td>\n",
       "      <td>コータローまかりとおる!</td>\n",
       "      <td>NaN</td>\n",
       "      <td>蛭田達也</td>\n",
       "      <td>49.0</td>\n",
       "      <td>67.0</td>\n",
       "      <td>36.0</td>\n",
       "      <td>1989-02-22</td>\n",
       "      <td>180.0</td>\n",
       "      <td>講談社　∥　コウダンシャ</td>\n",
       "      <td>五十嵐隆夫</td>\n",
       "    </tr>\n",
       "    <tr>\n",
       "      <th>56166</th>\n",
       "      <td>週刊少年マガジン</td>\n",
       "      <td>週刊少年マガジン 1989年 表示号数10</td>\n",
       "      <td>SHOGUN</td>\n",
       "      <td>第39話 将軍!!緒方晋作!!</td>\n",
       "      <td>所十三</td>\n",
       "      <td>69.0</td>\n",
       "      <td>88.0</td>\n",
       "      <td>36.0</td>\n",
       "      <td>1989-02-22</td>\n",
       "      <td>180.0</td>\n",
       "      <td>講談社　∥　コウダンシャ</td>\n",
       "      <td>五十嵐隆夫</td>\n",
       "    </tr>\n",
       "    <tr>\n",
       "      <th>56168</th>\n",
       "      <td>週刊少年マガジン</td>\n",
       "      <td>週刊少年マガジン 1989年 表示号数10</td>\n",
       "      <td>彼女はデリケート!</td>\n",
       "      <td>Lesson.7 コンピュータをたたきつぶせ</td>\n",
       "      <td>カジワラタケシ</td>\n",
       "      <td>89.0</td>\n",
       "      <td>108.0</td>\n",
       "      <td>36.0</td>\n",
       "      <td>1989-02-22</td>\n",
       "      <td>180.0</td>\n",
       "      <td>講談社　∥　コウダンシャ</td>\n",
       "      <td>五十嵐隆夫</td>\n",
       "    </tr>\n",
       "    <tr>\n",
       "      <th>56169</th>\n",
       "      <td>週刊少年マガジン</td>\n",
       "      <td>週刊少年マガジン 1989年 表示号数10</td>\n",
       "      <td>THE STAR</td>\n",
       "      <td>NaN</td>\n",
       "      <td>島崎譲</td>\n",
       "      <td>109.0</td>\n",
       "      <td>128.0</td>\n",
       "      <td>36.0</td>\n",
       "      <td>1989-02-22</td>\n",
       "      <td>180.0</td>\n",
       "      <td>講談社　∥　コウダンシャ</td>\n",
       "      <td>五十嵐隆夫</td>\n",
       "    </tr>\n",
       "    <tr>\n",
       "      <th>56171</th>\n",
       "      <td>週刊少年マガジン</td>\n",
       "      <td>週刊少年マガジン 1989年 表示号数10</td>\n",
       "      <td>キラキラ!</td>\n",
       "      <td>NaN</td>\n",
       "      <td>安達哲</td>\n",
       "      <td>129.0</td>\n",
       "      <td>148.0</td>\n",
       "      <td>36.0</td>\n",
       "      <td>1989-02-22</td>\n",
       "      <td>180.0</td>\n",
       "      <td>講談社　∥　コウダンシャ</td>\n",
       "      <td>五十嵐隆夫</td>\n",
       "    </tr>\n",
       "    <tr>\n",
       "      <th>...</th>\n",
       "      <td>...</td>\n",
       "      <td>...</td>\n",
       "      <td>...</td>\n",
       "      <td>...</td>\n",
       "      <td>...</td>\n",
       "      <td>...</td>\n",
       "      <td>...</td>\n",
       "      <td>...</td>\n",
       "      <td>...</td>\n",
       "      <td>...</td>\n",
       "      <td>...</td>\n",
       "      <td>...</td>\n",
       "    </tr>\n",
       "    <tr>\n",
       "      <th>120378</th>\n",
       "      <td>週刊少年マガジン</td>\n",
       "      <td>週刊少年マガジン 2004年 表示号数38</td>\n",
       "      <td>予告大作戦</td>\n",
       "      <td>乙</td>\n",
       "      <td>西本英雄</td>\n",
       "      <td>563.0</td>\n",
       "      <td>563.0</td>\n",
       "      <td>551.0</td>\n",
       "      <td>2004-09-01</td>\n",
       "      <td>229.0</td>\n",
       "      <td>講談社　∥　コウダンシャ</td>\n",
       "      <td>工富保</td>\n",
       "    </tr>\n",
       "    <tr>\n",
       "      <th>121886</th>\n",
       "      <td>週刊少年マガジン</td>\n",
       "      <td>週刊少年マガジン 2005年 表示号数2</td>\n",
       "      <td>もう、しませんから。</td>\n",
       "      <td>File.15 僕のジヒョンちゃんを紹介しますの巻</td>\n",
       "      <td>西本英雄</td>\n",
       "      <td>581.0</td>\n",
       "      <td>587.0</td>\n",
       "      <td>574.0</td>\n",
       "      <td>2005-01-12</td>\n",
       "      <td>238.0</td>\n",
       "      <td>講談社　∥　コウダンシャ</td>\n",
       "      <td>工富保</td>\n",
       "    </tr>\n",
       "    <tr>\n",
       "      <th>171052</th>\n",
       "      <td>週刊少年サンデー</td>\n",
       "      <td>週刊少年サンデー 2015年 表示号数35</td>\n",
       "      <td>戦争劇場</td>\n",
       "      <td>第48戦:手を出したら最後…</td>\n",
       "      <td>土星フジコ</td>\n",
       "      <td>601.0</td>\n",
       "      <td>308.0</td>\n",
       "      <td>506.0</td>\n",
       "      <td>2015-07-29</td>\n",
       "      <td>270.0</td>\n",
       "      <td>NaN</td>\n",
       "      <td>市原武法</td>\n",
       "    </tr>\n",
       "    <tr>\n",
       "      <th>79256</th>\n",
       "      <td>週刊少年ジャンプ</td>\n",
       "      <td>週刊少年ジャンプ 1995年 表示号数1</td>\n",
       "      <td>ジョジョの奇妙な冒険</td>\n",
       "      <td>思い出したぞ!</td>\n",
       "      <td>荒木飛呂彦</td>\n",
       "      <td>2275.0</td>\n",
       "      <td>293.0</td>\n",
       "      <td>470.0</td>\n",
       "      <td>1995-01-01</td>\n",
       "      <td>200.0</td>\n",
       "      <td>集英社　∥　シュウエイシャ</td>\n",
       "      <td>堀江信彦</td>\n",
       "    </tr>\n",
       "    <tr>\n",
       "      <th>72383</th>\n",
       "      <td>週刊少年チャンピオン</td>\n",
       "      <td>週刊少年チャンピオン 1993年 表示号数16</td>\n",
       "      <td>グラップラー刃牙</td>\n",
       "      <td>第73話 長老</td>\n",
       "      <td>板垣恵介</td>\n",
       "      <td>9999.0</td>\n",
       "      <td>30.0</td>\n",
       "      <td>412.0</td>\n",
       "      <td>1993-04-01</td>\n",
       "      <td>200.0</td>\n",
       "      <td>秋田書店　∥　アキタショテン</td>\n",
       "      <td>岡本三司</td>\n",
       "    </tr>\n",
       "  </tbody>\n",
       "</table>\n",
       "<p>308 rows × 12 columns</p>\n",
       "</div>"
      ],
      "text/plain": [
       "            mcname                   miname         cname  \\\n",
       "56163     週刊少年マガジン    週刊少年マガジン 1989年 表示号数10  コータローまかりとおる!   \n",
       "56166     週刊少年マガジン    週刊少年マガジン 1989年 表示号数10        SHOGUN   \n",
       "56168     週刊少年マガジン    週刊少年マガジン 1989年 表示号数10     彼女はデリケート!   \n",
       "56169     週刊少年マガジン    週刊少年マガジン 1989年 表示号数10      THE STAR   \n",
       "56171     週刊少年マガジン    週刊少年マガジン 1989年 表示号数10         キラキラ!   \n",
       "...            ...                      ...           ...   \n",
       "120378    週刊少年マガジン    週刊少年マガジン 2004年 表示号数38         予告大作戦   \n",
       "121886    週刊少年マガジン     週刊少年マガジン 2005年 表示号数2    もう、しませんから。   \n",
       "171052    週刊少年サンデー    週刊少年サンデー 2015年 表示号数35          戦争劇場   \n",
       "79256     週刊少年ジャンプ     週刊少年ジャンプ 1995年 表示号数1    ジョジョの奇妙な冒険   \n",
       "72383   週刊少年チャンピオン  週刊少年チャンピオン 1993年 表示号数16      グラップラー刃牙   \n",
       "\n",
       "                           epname  creator  pageStart  pageEnd  numberOfPages  \\\n",
       "56163                         NaN     蛭田達也       49.0     67.0           36.0   \n",
       "56166             第39話 将軍!!緒方晋作!!      所十三       69.0     88.0           36.0   \n",
       "56168      Lesson.7 コンピュータをたたきつぶせ  カジワラタケシ       89.0    108.0           36.0   \n",
       "56169                         NaN      島崎譲      109.0    128.0           36.0   \n",
       "56171                         NaN      安達哲      129.0    148.0           36.0   \n",
       "...                           ...      ...        ...      ...            ...   \n",
       "120378                          乙     西本英雄      563.0    563.0          551.0   \n",
       "121886  File.15 僕のジヒョンちゃんを紹介しますの巻     西本英雄      581.0    587.0          574.0   \n",
       "171052             第48戦:手を出したら最後…    土星フジコ      601.0    308.0          506.0   \n",
       "79256                     思い出したぞ!    荒木飛呂彦     2275.0    293.0          470.0   \n",
       "72383                     第73話 長老     板垣恵介     9999.0     30.0          412.0   \n",
       "\n",
       "       datePublished  price       publisher editor  \n",
       "56163     1989-02-22  180.0    講談社　∥　コウダンシャ  五十嵐隆夫  \n",
       "56166     1989-02-22  180.0    講談社　∥　コウダンシャ  五十嵐隆夫  \n",
       "56168     1989-02-22  180.0    講談社　∥　コウダンシャ  五十嵐隆夫  \n",
       "56169     1989-02-22  180.0    講談社　∥　コウダンシャ  五十嵐隆夫  \n",
       "56171     1989-02-22  180.0    講談社　∥　コウダンシャ  五十嵐隆夫  \n",
       "...              ...    ...             ...    ...  \n",
       "120378    2004-09-01  229.0    講談社　∥　コウダンシャ    工富保  \n",
       "121886    2005-01-12  238.0    講談社　∥　コウダンシャ    工富保  \n",
       "171052    2015-07-29  270.0             NaN   市原武法  \n",
       "79256     1995-01-01  200.0   集英社　∥　シュウエイシャ   堀江信彦  \n",
       "72383     1993-04-01  200.0  秋田書店　∥　アキタショテン   岡本三司  \n",
       "\n",
       "[308 rows x 12 columns]"
      ]
     },
     "execution_count": 110,
     "metadata": {},
     "output_type": "execute_result"
    }
   ],
   "source": [
    "df[df['pageStart'] > df['numberOfPages']].sort_values('pageStart')"
   ]
  },
  {
   "cell_type": "markdown",
   "id": "58d1e13d-90f2-4e6e-aa91-1542c45eb720",
   "metadata": {},
   "source": [
    "となります．最後の2つは明らかに`startPage`がおかしい気がするので，分析をすすめる際は注意が必要そうです．"
   ]
  },
  {
   "cell_type": "markdown",
   "id": "d856fb5a-a703-4646-a421-84678ca9648a",
   "metadata": {},
   "source": [
    "### `pageEnd`（終了ページ）"
   ]
  },
  {
   "cell_type": "markdown",
   "id": "10342fcd-f8fc-499f-b7e8-43480e42e9e2",
   "metadata": {},
   "source": [
    "`pageEnd`（終了ページ）について`describe()`で基礎集計すると，以下のようになります．"
   ]
  },
  {
   "cell_type": "code",
   "execution_count": 113,
   "id": "51b28288-f552-4829-8f86-1b5331ea41f5",
   "metadata": {},
   "outputs": [
    {
     "data": {
      "text/html": [
       "<div>\n",
       "<style scoped>\n",
       "    .dataframe tbody tr th:only-of-type {\n",
       "        vertical-align: middle;\n",
       "    }\n",
       "\n",
       "    .dataframe tbody tr th {\n",
       "        vertical-align: top;\n",
       "    }\n",
       "\n",
       "    .dataframe thead th {\n",
       "        text-align: right;\n",
       "    }\n",
       "</style>\n",
       "<table border=\"1\" class=\"dataframe\">\n",
       "  <thead>\n",
       "    <tr style=\"text-align: right;\">\n",
       "      <th></th>\n",
       "      <th>index</th>\n",
       "      <th>pageEnd</th>\n",
       "    </tr>\n",
       "  </thead>\n",
       "  <tbody>\n",
       "    <tr>\n",
       "      <th>0</th>\n",
       "      <td>count</td>\n",
       "      <td>179860.000000</td>\n",
       "    </tr>\n",
       "    <tr>\n",
       "      <th>1</th>\n",
       "      <td>mean</td>\n",
       "      <td>228.364308</td>\n",
       "    </tr>\n",
       "    <tr>\n",
       "      <th>2</th>\n",
       "      <td>std</td>\n",
       "      <td>122.080065</td>\n",
       "    </tr>\n",
       "    <tr>\n",
       "      <th>3</th>\n",
       "      <td>min</td>\n",
       "      <td>0.000000</td>\n",
       "    </tr>\n",
       "    <tr>\n",
       "      <th>4</th>\n",
       "      <td>25%</td>\n",
       "      <td>126.000000</td>\n",
       "    </tr>\n",
       "    <tr>\n",
       "      <th>5</th>\n",
       "      <td>50%</td>\n",
       "      <td>222.000000</td>\n",
       "    </tr>\n",
       "    <tr>\n",
       "      <th>6</th>\n",
       "      <td>75%</td>\n",
       "      <td>322.000000</td>\n",
       "    </tr>\n",
       "    <tr>\n",
       "      <th>7</th>\n",
       "      <td>max</td>\n",
       "      <td>1578.000000</td>\n",
       "    </tr>\n",
       "  </tbody>\n",
       "</table>\n",
       "</div>"
      ],
      "text/plain": [
       "   index        pageEnd\n",
       "0  count  179860.000000\n",
       "1   mean     228.364308\n",
       "2    std     122.080065\n",
       "3    min       0.000000\n",
       "4    25%     126.000000\n",
       "5    50%     222.000000\n",
       "6    75%     322.000000\n",
       "7    max    1578.000000"
      ]
     },
     "execution_count": 113,
     "metadata": {},
     "output_type": "execute_result"
    }
   ],
   "source": [
    "df['pageEnd'].describe().reset_index()"
   ]
  },
  {
   "cell_type": "code",
   "execution_count": 114,
   "id": "34d49dec-8e7e-4f6d-a36f-73438a6de74a",
   "metadata": {},
   "outputs": [
    {
     "ename": "SyntaxError",
     "evalue": "invalid syntax (987282095.py, line 1)",
     "output_type": "error",
     "traceback": [
      "\u001b[0;36m  File \u001b[0;32m\"/tmp/ipykernel_1024/987282095.py\"\u001b[0;36m, line \u001b[0;32m1\u001b[0m\n\u001b[0;31m    `pageEnd`にも異常に大きいものが存在します．\u001b[0m\n\u001b[0m    ^\u001b[0m\n\u001b[0;31mSyntaxError\u001b[0m\u001b[0;31m:\u001b[0m invalid syntax\n"
     ]
    }
   ],
   "source": [
    "`pageEnd`にも異常に大きいものが存在します．"
   ]
  },
  {
   "cell_type": "markdown",
   "id": "ea704d82-348c-43fd-bf9f-2147d91f6981",
   "metadata": {},
   "source": [
    "### `numberOfPages`（各号の合計ページ数）"
   ]
  },
  {
   "cell_type": "markdown",
   "id": "0f880936-9822-4a3a-b7b4-161b48ba7b64",
   "metadata": {},
   "source": [
    "### `datePublished`（発行日）"
   ]
  },
  {
   "cell_type": "markdown",
   "id": "b707f5a0-1a6b-413c-aa26-0a0019d7ae31",
   "metadata": {},
   "source": [
    "### `publisher`（発行者）"
   ]
  },
  {
   "cell_type": "markdown",
   "id": "11a63069-b9b7-4bb5-9207-511f12329b8b",
   "metadata": {},
   "source": [
    "### `editor`（編集者）"
   ]
  },
  {
   "cell_type": "code",
   "execution_count": null,
   "id": "043cd7f7-5dec-4fde-aed5-1de7ef310e12",
   "metadata": {},
   "outputs": [],
   "source": []
  }
 ],
 "metadata": {
  "kernelspec": {
   "display_name": "Python 3 (ipykernel)",
   "language": "python",
   "name": "python3"
  },
  "language_info": {
   "codemirror_mode": {
    "name": "ipython",
    "version": 3
   },
   "file_extension": ".py",
   "mimetype": "text/x-python",
   "name": "python",
   "nbconvert_exporter": "python",
   "pygments_lexer": "ipython3",
   "version": "3.9.7"
  }
 },
 "nbformat": 4,
 "nbformat_minor": 5
}
