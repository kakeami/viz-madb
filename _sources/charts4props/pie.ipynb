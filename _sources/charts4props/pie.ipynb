{
 "cells": [
  {
   "cell_type": "markdown",
   "id": "a17c557c-8b29-4495-8330-345bcadab4ee",
   "metadata": {},
   "source": [
    "# 円グラフ"
   ]
  },
  {
   "cell_type": "code",
   "execution_count": null,
   "id": "71853d8b-1b13-491d-b793-4b1ca3f4238e",
   "metadata": {},
   "outputs": [],
   "source": []
  }
 ],
 "metadata": {
  "kernelspec": {
   "display_name": "Python 3 (ipykernel)",
   "language": "python",
   "name": "python3"
  },
  "language_info": {
   "codemirror_mode": {
    "name": "ipython",
    "version": 3
   },
   "file_extension": ".py",
   "mimetype": "text/x-python",
   "name": "python",
   "nbconvert_exporter": "python",
   "pygments_lexer": "ipython3",
   "version": "3.9.7"
  }
 },
 "nbformat": 4,
 "nbformat_minor": 5
}
