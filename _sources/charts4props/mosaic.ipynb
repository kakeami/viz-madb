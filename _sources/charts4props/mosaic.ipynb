{
 "cells": [
  {
   "cell_type": "markdown",
   "id": "fca3bf90-8c80-491d-aa4b-60def4589457",
   "metadata": {},
   "source": [
    "# Mosaic plot"
   ]
  },
  {
   "cell_type": "code",
   "execution_count": null,
   "id": "876e971a-219b-4ee8-b4d1-d6e00924b0f2",
   "metadata": {},
   "outputs": [],
   "source": []
  }
 ],
 "metadata": {
  "kernelspec": {
   "display_name": "Python 3 (ipykernel)",
   "language": "python",
   "name": "python3"
  },
  "language_info": {
   "codemirror_mode": {
    "name": "ipython",
    "version": 3
   },
   "file_extension": ".py",
   "mimetype": "text/x-python",
   "name": "python",
   "nbconvert_exporter": "python",
   "pygments_lexer": "ipython3",
   "version": "3.9.7"
  }
 },
 "nbformat": 4,
 "nbformat_minor": 5
}
