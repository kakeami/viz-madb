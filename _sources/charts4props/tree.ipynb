{
 "cells": [
  {
   "cell_type": "markdown",
   "id": "e2d69151-c696-4231-abd5-573e35088c34",
   "metadata": {},
   "source": [
    "# Tree map"
   ]
  },
  {
   "cell_type": "markdown",
   "id": "b3e8a550-6da6-4201-8ee7-450214971867",
   "metadata": {},
   "source": [
    "## 概要"
   ]
  },
  {
   "cell_type": "markdown",
   "id": "20f872c2-f4d2-41dc-8697-224e76cc3b00",
   "metadata": {},
   "source": [
    "## Plotlyによる作図方法"
   ]
  },
  {
   "cell_type": "markdown",
   "id": "f235dfe4-5938-4333-a222-77366169d608",
   "metadata": {},
   "source": [
    "## MADB Labを用いた作図例"
   ]
  },
  {
   "cell_type": "markdown",
   "id": "5aae609f-421c-4b8c-baeb-dcc25bffe2ce",
   "metadata": {},
   "source": [
    "### 下準備"
   ]
  },
  {
   "cell_type": "code",
   "execution_count": null,
   "id": "8b97ac06-d0f2-4eb0-8de6-0441aee89292",
   "metadata": {},
   "outputs": [],
   "source": []
  }
 ],
 "metadata": {
  "kernelspec": {
   "display_name": "Python 3 (ipykernel)",
   "language": "python",
   "name": "python3"
  },
  "language_info": {
   "codemirror_mode": {
    "name": "ipython",
    "version": 3
   },
   "file_extension": ".py",
   "mimetype": "text/x-python",
   "name": "python",
   "nbconvert_exporter": "python",
   "pygments_lexer": "ipython3",
   "version": "3.9.7"
  }
 },
 "nbformat": 4,
 "nbformat_minor": 5
}
