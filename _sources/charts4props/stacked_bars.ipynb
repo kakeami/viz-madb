{
 "cells": [
  {
   "cell_type": "markdown",
   "id": "3f7cbf98-d43d-4edb-956a-e21c20b90c9d",
   "metadata": {},
   "source": [
    "# Stacked bars"
   ]
  },
  {
   "cell_type": "code",
   "execution_count": null,
   "id": "5dfd8c64-ddc7-4dd0-b006-057345968115",
   "metadata": {},
   "outputs": [],
   "source": []
  }
 ],
 "metadata": {
  "kernelspec": {
   "display_name": "Python 3 (ipykernel)",
   "language": "python",
   "name": "python3"
  },
  "language_info": {
   "codemirror_mode": {
    "name": "ipython",
    "version": 3
   },
   "file_extension": ".py",
   "mimetype": "text/x-python",
   "name": "python",
   "nbconvert_exporter": "python",
   "pygments_lexer": "ipython3",
   "version": "3.9.7"
  }
 },
 "nbformat": 4,
 "nbformat_minor": 5
}
