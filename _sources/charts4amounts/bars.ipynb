{
 "cells": [
  {
   "cell_type": "markdown",
   "id": "5882920a-115f-4bb4-bba5-04d716cc9dc2",
   "metadata": {},
   "source": [
    "# Bars"
   ]
  },
  {
   "cell_type": "markdown",
   "id": "a384d42f-983d-4a06-970c-9c91a92c1df6",
   "metadata": {},
   "source": [
    "## 概要"
   ]
  },
  {
   "cell_type": "markdown",
   "id": "97158707-8d9d-472e-9509-9a8541bccbc9",
   "metadata": {},
   "source": [
    "**Bars**（棒グラフ）とは，\n",
    "\n",
    "> 縦軸にデータ量をとり、棒の高さでデータの大小を表したグラフです。（縦横が逆の場合もあります。）\n",
    "> 　値の高い項目や低い項目を判別するのに有効なグラフで、データの大小が、棒の高低で表されるので、データの大小を比較するのに適しています。\n",
    "\n",
    "*総務省統計局，なるほど統計学園，棒グラフ*より"
   ]
  },
  {
   "cell_type": "markdown",
   "id": "a414f539-89e9-4f11-acb3-c9f6f9cb3f62",
   "metadata": {},
   "source": [
    "## `plotly`による実装"
   ]
  },
  {
   "cell_type": "code",
   "execution_count": null,
   "id": "5c79ba6d-4ac7-464b-bd8e-edd964b9c947",
   "metadata": {},
   "outputs": [],
   "source": []
  }
 ],
 "metadata": {
  "kernelspec": {
   "display_name": "Python 3 (ipykernel)",
   "language": "python",
   "name": "python3"
  },
  "language_info": {
   "codemirror_mode": {
    "name": "ipython",
    "version": 3
   },
   "file_extension": ".py",
   "mimetype": "text/x-python",
   "name": "python",
   "nbconvert_exporter": "python",
   "pygments_lexer": "ipython3",
   "version": "3.9.7"
  }
 },
 "nbformat": 4,
 "nbformat_minor": 5
}
