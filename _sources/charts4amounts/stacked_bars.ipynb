{
 "cells": [
  {
   "cell_type": "markdown",
   "id": "27c406a8-d56a-4d0c-92fe-8a288e243d82",
   "metadata": {},
   "source": [
    "# Stacked bars"
   ]
  },
  {
   "cell_type": "markdown",
   "id": "31effe20-0f8e-4a2e-9130-f4b438da2d1e",
   "metadata": {},
   "source": [
    "## 概要\n",
    "\n",
    "**Stacked bars**（積み上げ棒グラフ）とは，例えば下図のように，棒グラフの各要素の内訳を色分けした棒グラフです．\n",
    "\n",
    "Stacked barsを利用することで，単純な棒グラフでは確認できなかった各要素の内訳を可視化し，その**比率**を比較することができます．\n",
    "\n",
    "```{admonition} Stacked barsとGrouped barsの使い分け\n",
    "私は，要素の内訳の比率に注目して欲しい場合はStacked barsを，絶対量を横並びで比較して欲しい場合はGrouped barsを利用することにしています．\n",
    "```"
   ]
  },
  {
   "cell_type": "markdown",
   "id": "3a758ccd-29e0-442b-a4dc-fc1683d8e4ea",
   "metadata": {},
   "source": [
    "## Plotlyによる作図方法"
   ]
  },
  {
   "cell_type": "markdown",
   "id": "dc49d0e9-29e5-40b9-93a0-6d02da0d1dd4",
   "metadata": {},
   "source": [
    "## MADB Labを用いた作図例"
   ]
  },
  {
   "cell_type": "code",
   "execution_count": null,
   "id": "a55e6ba2-dd32-48c0-9dd6-bcd837068d41",
   "metadata": {},
   "outputs": [],
   "source": []
  }
 ],
 "metadata": {
  "kernelspec": {
   "display_name": "Python 3 (ipykernel)",
   "language": "python",
   "name": "python3"
  },
  "language_info": {
   "codemirror_mode": {
    "name": "ipython",
    "version": 3
   },
   "file_extension": ".py",
   "mimetype": "text/x-python",
   "name": "python",
   "nbconvert_exporter": "python",
   "pygments_lexer": "ipython3",
   "version": "3.9.7"
  }
 },
 "nbformat": 4,
 "nbformat_minor": 5
}
