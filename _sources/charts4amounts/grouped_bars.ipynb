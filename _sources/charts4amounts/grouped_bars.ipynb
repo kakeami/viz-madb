{
 "cells": [
  {
   "cell_type": "markdown",
   "id": "b688ec71-7a30-49af-aa25-e01990cc933e",
   "metadata": {},
   "source": [
    "# Grouped bars"
   ]
  },
  {
   "cell_type": "markdown",
   "id": "739614b7-9730-4e95-bfeb-00f3d2a87d60",
   "metadata": {},
   "source": [
    "## 概要\n",
    "\n",
    "**Grouped bars**とは，複数の要素をまとめて描画した棒グラフです．"
   ]
  },
  {
   "cell_type": "markdown",
   "id": "d79d6cc6-bb81-4264-b1e4-db8d43aa03c0",
   "metadata": {},
   "source": [
    "## Plotlyによる作図方法"
   ]
  },
  {
   "cell_type": "markdown",
   "id": "a8a317b0-9929-4cb6-9642-e958a7d2ff08",
   "metadata": {},
   "source": [
    "Plotlyでは，`plotly.express.bar()`で`barmode='group'`を指定することで描画可能です．"
   ]
  },
  {
   "cell_type": "markdown",
   "id": "b5bde66a-0820-4df6-9f4e-03727383f5db",
   "metadata": {},
   "source": [
    "```python\n",
    "import plotly.express as px\n",
    "fig = px.bar(\n",
    "    df, x='col_x', y='col_y',\n",
    "    color='col_group', barmode='group')\n",
    "```"
   ]
  },
  {
   "cell_type": "markdown",
   "id": "64763bf8-d07b-4e30-aed9-0c6b14a03e83",
   "metadata": {},
   "source": [
    "上記の例では，`df`の`col_x`を横軸，`col_y`を縦軸とし，`col_group`によって色を塗り分けたGrouped barsを作図可能です．"
   ]
  },
  {
   "cell_type": "markdown",
   "id": "b1bb0420-264b-4d5c-97c7-16ade1cc8c04",
   "metadata": {},
   "source": [
    "## MADB Labを用いた作図例"
   ]
  },
  {
   "cell_type": "code",
   "execution_count": null,
   "id": "cfea7eea-9ba4-494a-b3ae-0fcd71467407",
   "metadata": {},
   "outputs": [],
   "source": []
  }
 ],
 "metadata": {
  "kernelspec": {
   "display_name": "Python 3 (ipykernel)",
   "language": "python",
   "name": "python3"
  },
  "language_info": {
   "codemirror_mode": {
    "name": "ipython",
    "version": 3
   },
   "file_extension": ".py",
   "mimetype": "text/x-python",
   "name": "python",
   "nbconvert_exporter": "python",
   "pygments_lexer": "ipython3",
   "version": "3.9.7"
  }
 },
 "nbformat": 4,
 "nbformat_minor": 5
}
