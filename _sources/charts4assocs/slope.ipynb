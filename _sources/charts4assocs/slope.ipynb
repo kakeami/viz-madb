{
 "cells": [
  {
   "cell_type": "markdown",
   "id": "3429ee35-2f40-4d6c-bc61-5168e62bad46",
   "metadata": {},
   "source": [
    "# Slopegraph"
   ]
  },
  {
   "cell_type": "code",
   "execution_count": null,
   "id": "7e7d432c-4f1b-4594-a5ae-133423ea0821",
   "metadata": {},
   "outputs": [],
   "source": []
  }
 ],
 "metadata": {
  "kernelspec": {
   "display_name": "Python 3 (ipykernel)",
   "language": "python",
   "name": "python3"
  },
  "language_info": {
   "codemirror_mode": {
    "name": "ipython",
    "version": 3
   },
   "file_extension": ".py",
   "mimetype": "text/x-python",
   "name": "python",
   "nbconvert_exporter": "python",
   "pygments_lexer": "ipython3",
   "version": "3.9.7"
  }
 },
 "nbformat": 4,
 "nbformat_minor": 5
}
