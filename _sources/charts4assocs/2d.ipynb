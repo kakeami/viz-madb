{
 "cells": [
  {
   "cell_type": "markdown",
   "id": "082aba6f-b7be-4cd8-a090-04aa43ec1538",
   "metadata": {},
   "source": [
    "# 2D bins"
   ]
  },
  {
   "cell_type": "code",
   "execution_count": null,
   "id": "4413a004-b9ad-4256-8c24-e15b8a829f56",
   "metadata": {},
   "outputs": [],
   "source": []
  }
 ],
 "metadata": {
  "kernelspec": {
   "display_name": "Python 3 (ipykernel)",
   "language": "python",
   "name": "python3"
  },
  "language_info": {
   "codemirror_mode": {
    "name": "ipython",
    "version": 3
   },
   "file_extension": ".py",
   "mimetype": "text/x-python",
   "name": "python",
   "nbconvert_exporter": "python",
   "pygments_lexer": "ipython3",
   "version": "3.9.7"
  }
 },
 "nbformat": 4,
 "nbformat_minor": 5
}
