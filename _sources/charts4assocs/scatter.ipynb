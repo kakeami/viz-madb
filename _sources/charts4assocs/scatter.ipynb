{
 "cells": [
  {
   "cell_type": "markdown",
   "id": "cefee37c-1be3-4146-a82d-12faff97009b",
   "metadata": {},
   "source": [
    "# 散布図"
   ]
  },
  {
   "cell_type": "code",
   "execution_count": null,
   "id": "3dffeb58-6e4b-403b-ad32-4067655ac08c",
   "metadata": {},
   "outputs": [],
   "source": []
  }
 ],
 "metadata": {
  "kernelspec": {
   "display_name": "Python 3 (ipykernel)",
   "language": "python",
   "name": "python3"
  },
  "language_info": {
   "codemirror_mode": {
    "name": "ipython",
    "version": 3
   },
   "file_extension": ".py",
   "mimetype": "text/x-python",
   "name": "python",
   "nbconvert_exporter": "python",
   "pygments_lexer": "ipython3",
   "version": "3.9.7"
  }
 },
 "nbformat": 4,
 "nbformat_minor": 5
}
