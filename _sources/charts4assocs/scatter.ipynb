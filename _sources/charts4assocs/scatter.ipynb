{
 "cells": [
  {
   "cell_type": "markdown",
   "id": "cefee37c-1be3-4146-a82d-12faff97009b",
   "metadata": {},
   "source": [
    "# Scatter plot"
   ]
  },
  {
   "cell_type": "markdown",
   "id": "63c1cf75-0b96-49bf-b62a-3cbcea26a4a5",
   "metadata": {},
   "source": [
    "## 概要"
   ]
  },
  {
   "cell_type": "markdown",
   "id": "180360e3-ca0e-4e97-ad43-12ec0163a1f9",
   "metadata": {},
   "source": [
    "## Plotlyによる作図方法"
   ]
  },
  {
   "cell_type": "markdown",
   "id": "8ff442a2-668f-4de8-a325-e3ef7a7a692f",
   "metadata": {},
   "source": [
    "## MADB Labを用いた作図例"
   ]
  },
  {
   "cell_type": "code",
   "execution_count": null,
   "id": "aead3e11-5f82-46de-8a62-a5c7b5b9513e",
   "metadata": {},
   "outputs": [],
   "source": []
  }
 ],
 "metadata": {
  "kernelspec": {
   "display_name": "Python 3 (ipykernel)",
   "language": "python",
   "name": "python3"
  },
  "language_info": {
   "codemirror_mode": {
    "name": "ipython",
    "version": 3
   },
   "file_extension": ".py",
   "mimetype": "text/x-python",
   "name": "python",
   "nbconvert_exporter": "python",
   "pygments_lexer": "ipython3",
   "version": "3.9.7"
  }
 },
 "nbformat": 4,
 "nbformat_minor": 5
}
