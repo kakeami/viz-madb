{
 "cells": [
  {
   "cell_type": "markdown",
   "id": "42aa9e92-bb1e-4059-8a35-3a2e1f15d259",
   "metadata": {},
   "source": [
    "# Density plot"
   ]
  },
  {
   "cell_type": "markdown",
   "id": "1a773849-1871-4cc9-9f17-ccfd4d14680d",
   "metadata": {},
   "source": [
    "## 概要"
   ]
  },
  {
   "cell_type": "markdown",
   "id": "a2106e65-ae6e-4a9b-97be-5669ab7dcd71",
   "metadata": {},
   "source": [
    "## Plotlyによる作図方法"
   ]
  },
  {
   "cell_type": "markdown",
   "id": "3796f38a-09e9-428d-8b0d-85923b7ba09f",
   "metadata": {},
   "source": [
    "## MADB Labを用いた作図例"
   ]
  },
  {
   "cell_type": "markdown",
   "id": "78a7705a-2497-4c0e-9d7a-ea482aebcbdd",
   "metadata": {},
   "source": [
    "### 下準備"
   ]
  },
  {
   "cell_type": "code",
   "execution_count": 1,
   "id": "3579cb12-8307-4680-baf6-707ac25f7c1b",
   "metadata": {},
   "outputs": [],
   "source": [
    "import pandas as pd\n",
    "import plotly.express as px\n",
    "\n",
    "import warnings\n",
    "warnings.filterwarnings('ignore')"
   ]
  },
  {
   "cell_type": "code",
   "execution_count": 2,
   "id": "09047332-736f-4f96-beb6-a63fbd19c3ca",
   "metadata": {},
   "outputs": [],
   "source": [
    "# 前処理の結果，以下に分析対象ファイルが格納されていることを想定\n",
    "PATH_DATA = '../../data/preprocess/out/magazines.csv'\n",
    "# Jupyter Book用のPlotlyのrenderer\n",
    "RENDERER = 'plotly_mimetype+notebook'"
   ]
  },
  {
   "cell_type": "code",
   "execution_count": 3,
   "id": "0e14a0bd-7969-4a33-9d36-eefc60070ba8",
   "metadata": {},
   "outputs": [],
   "source": [
    "def show_fig(fig):\n",
    "    \"\"\"Jupyter Bookでも表示可能なようRendererを指定\"\"\"\n",
    "    fig.show(renderer=RENDERER)"
   ]
  },
  {
   "cell_type": "code",
   "execution_count": 4,
   "id": "6f4f4dc8-839e-4ead-a248-af4f7e62877f",
   "metadata": {},
   "outputs": [],
   "source": [
    "df = pd.read_csv(PATH_DATA)"
   ]
  },
  {
   "cell_type": "markdown",
   "id": "ac7a5b8e-b670-4010-9fae-67688e1735e1",
   "metadata": {},
   "source": [
    "### 作品別の合計連載週数"
   ]
  },
  {
   "cell_type": "code",
   "execution_count": 5,
   "id": "87dd910a-5141-459d-8fb8-96180cce6506",
   "metadata": {},
   "outputs": [],
   "source": [
    "df_plot = df.value_counts('cname').reset_index(name='weeks')"
   ]
  },
  {
   "cell_type": "markdown",
   "id": "0978def8-3fb0-4c0e-93c6-286fa1be0fa8",
   "metadata": {},
   "source": [
    "### 作者別の合計連載週数"
   ]
  },
  {
   "cell_type": "markdown",
   "id": "5ffe6540-a4b0-4407-9cf2-7367ccbd20b8",
   "metadata": {},
   "source": []
  }
 ],
 "metadata": {
  "kernelspec": {
   "display_name": "Python 3 (ipykernel)",
   "language": "python",
   "name": "python3"
  },
  "language_info": {
   "codemirror_mode": {
    "name": "ipython",
    "version": 3
   },
   "file_extension": ".py",
   "mimetype": "text/x-python",
   "name": "python",
   "nbconvert_exporter": "python",
   "pygments_lexer": "ipython3",
   "version": "3.9.7"
  }
 },
 "nbformat": 4,
 "nbformat_minor": 5
}
