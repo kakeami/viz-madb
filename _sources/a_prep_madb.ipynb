{
 "cells": [
  {
   "cell_type": "markdown",
   "id": "9d3e46da-27a0-4f36-8a23-2ced6c389dcc",
   "metadata": {},
   "source": [
    "# Appendix A: MADBの前処理"
   ]
  },
  {
   "cell_type": "markdown",
   "id": "f9f742b1-a2b9-43ec-b3af-f88abe55f899",
   "metadata": {},
   "source": [
    "`madb`から必要なデータを抽出し，縦持ちのcsvに変換します．"
   ]
  },
  {
   "cell_type": "markdown",
   "id": "9205582f-05f7-483d-8877-040fe8d44663",
   "metadata": {},
   "source": [
    "## 環境構築"
   ]
  },
  {
   "cell_type": "code",
   "execution_count": 115,
   "id": "40b6b955-2152-474f-994b-852885bdb3c6",
   "metadata": {},
   "outputs": [],
   "source": [
    "# Notebook初期設定\n",
    "%matplotlib inline\n",
    "%config InlineBackend.figure_format = 'retina'\n",
    "\n",
    "import warnings\n",
    "warnings.filterwarnings('ignore')"
   ]
  },
  {
   "cell_type": "code",
   "execution_count": 116,
   "id": "19044bc4-9ca4-45a5-b0bc-d70988545e57",
   "metadata": {},
   "outputs": [],
   "source": [
    "import glob\n",
    "import json\n",
    "import numpy as np\n",
    "import os\n",
    "import pandas as pd\n",
    "from pprint import pprint\n",
    "from tqdm import tqdm_notebook as tqdm\n",
    "import zipfile"
   ]
  },
  {
   "cell_type": "code",
   "execution_count": 117,
   "id": "84345f22-8587-4b7d-b51a-497a24a5fddb",
   "metadata": {},
   "outputs": [],
   "source": [
    "DIR_IN = '../madb/data/json-ld'\n",
    "DIR_TMP = '../data/preprocess/tmp'\n",
    "DIR_OUT = '../data/preprocess/out'"
   ]
  },
  {
   "cell_type": "code",
   "execution_count": 118,
   "id": "bfc6ee5b-2702-4a7d-a3a1-07e4bff81826",
   "metadata": {},
   "outputs": [],
   "source": [
    "FNS_CM = [\n",
    "    'cm102',\n",
    "    'cm105',\n",
    "    'cm106',\n",
    "]"
   ]
  },
  {
   "cell_type": "code",
   "execution_count": 119,
   "id": "a7e43e21-b133-433e-a013-30f2c09269af",
   "metadata": {},
   "outputs": [],
   "source": [
    "# CM105で使用するカラム\n",
    "COL_CM105 = [\n",
    "    'identifier',\n",
    "    'label',\n",
    "    'note',\n",
    "    'publicationPeriodicity',\n",
    "    'name',\n",
    "    'publisher',\n",
    "    'dayPublishedFinal',\n",
    "]"
   ]
  },
  {
   "cell_type": "code",
   "execution_count": 120,
   "id": "f1f75bd2-8a3b-4a40-b63e-f89270e3583c",
   "metadata": {},
   "outputs": [],
   "source": [
    "# cm102, genre=='雑誌巻号'\n",
    "COLS_MIS = {\n",
    "    'identifier': 'miid',\n",
    "    'label': 'miname',\n",
    "    'datePublished': 'datePublished',\n",
    "    'isPartOf': 'mcid',\n",
    "    'issueNumber': 'issueNumber',\n",
    "    'numberOfPages': 'numberOfPages',\n",
    "    'publisher': 'publisher',\n",
    "    'volumeNumber': 'volumeNumber',\n",
    "    'price': 'price',\n",
    "    'editor': 'editor',\n",
    "}"
   ]
  },
  {
   "cell_type": "code",
   "execution_count": 121,
   "id": "86e96bd3-67ef-4fd7-bca6-79d74885730c",
   "metadata": {},
   "outputs": [],
   "source": [
    "# cm102, genre=='マンガ作品'\n",
    "COLS_EPS = {\n",
    "    'relatedCollection': 'cid',\n",
    "    'creator': 'creator',\n",
    "    'note': 'note',\n",
    "    'alternativeHeadline': 'epname',\n",
    "    'pageStart': 'pageStart',\n",
    "    'pageEnd': 'pageEnd',\n",
    "    'isPartOf': 'miid',\n",
    "}"
   ]
  },
  {
   "cell_type": "code",
   "execution_count": 122,
   "id": "b01279d5-ec58-43be-aead-0ce1e0da05c8",
   "metadata": {},
   "outputs": [],
   "source": [
    "# cm106\n",
    "COLS_CS = {\n",
    "    'identifier': 'cid', \n",
    "    'name': 'cname'\n",
    "}"
   ]
  },
  {
   "cell_type": "code",
   "execution_count": 123,
   "id": "f33ab1e3-19a9-4344-96a3-3a9b164611f0",
   "metadata": {},
   "outputs": [
    {
     "name": "stdout",
     "output_type": "stream",
     "text": [
      "metadata_an-col_an207_json.zip\t metadata_cm-item_cm101_json.zip\n",
      "metadata_an-col_an208_json.zip\t metadata_cm-item_cm102_json.zip\n",
      "metadata_an-col_an210_json.zip\t metadata_cm-item_cm103_json.zip\n",
      "metadata_an-item_an201_json.zip  metadata_co-curate_co504_json.zip\n",
      "metadata_an-item_an202_json.zip  metadata_gm-col_gm305_json.zip\n",
      "metadata_an-item_an205_json.zip  metadata_gm-col_gm306_json.zip\n",
      "metadata_cm-col_cm104_json.zip\t metadata_gm-item_gm301_json.zip\n",
      "metadata_cm-col_cm105_json.zip\t metadata_ma-col_ma408_json.zip\n",
      "metadata_cm-col_cm106_json.zip\t metadata_ma-item_ma401_json.zip\n"
     ]
    }
   ],
   "source": [
    "!ls {DIR_IN}"
   ]
  },
  {
   "cell_type": "markdown",
   "id": "7590971e-faf0-4a1e-8b98-d813cacd707e",
   "metadata": {},
   "source": [
    "## 関数"
   ]
  },
  {
   "cell_type": "code",
   "execution_count": 124,
   "id": "9439aa5f-e8f5-49b7-bd2a-e2f48dae9953",
   "metadata": {},
   "outputs": [],
   "source": [
    "def read_json(path):\n",
    "    \"\"\"\n",
    "    jsonファイルを辞書として読み込む関数．\n",
    "\n",
    "    Params:\n",
    "        path (str): 読込対象ファイルパス\n",
    "    Returns:\n",
    "        dict: 辞書\n",
    "    \"\"\"\n",
    "    with open(path, 'r') as f:\n",
    "        dct = json.load(f)\n",
    "\n",
    "    return dct"
   ]
  },
  {
   "cell_type": "code",
   "execution_count": 125,
   "id": "a1b33068-c9d8-4df2-9fd0-7de9aa14a9a3",
   "metadata": {},
   "outputs": [],
   "source": [
    "def save_json(path, dct):\n",
    "    \"\"\"\n",
    "    辞書をjson形式で保存する関数．\n",
    "\n",
    "    Params:\n",
    "        path (str): jsonファイルの保存先\n",
    "        dct (dict): 保存対象辞書\n",
    "    \"\"\"\n",
    "    with open(path, 'w') as f:\n",
    "        json.dump(dct, f, ensure_ascii=False, indent=4)"
   ]
  },
  {
   "cell_type": "markdown",
   "id": "aaac0825-25dd-4a77-9df2-3b42461749d1",
   "metadata": {},
   "source": [
    "## 解凍\n",
    "\n",
    "マンガ系のデータ（`*cm*`）のみ`DIR_TMP`に解凍する．"
   ]
  },
  {
   "cell_type": "code",
   "execution_count": 22,
   "id": "95225621-1ed5-45cd-adb5-3835771f62c3",
   "metadata": {},
   "outputs": [],
   "source": [
    "ps_cm = glob.glob(f'{DIR_IN}/*_cm*')"
   ]
  },
  {
   "cell_type": "code",
   "execution_count": 23,
   "id": "28177155-9bd7-47b2-ad2a-7946dc6d0df0",
   "metadata": {},
   "outputs": [
    {
     "data": {
      "application/vnd.jupyter.widget-view+json": {
       "model_id": "8cc33d94c27b4999bccef5244b322d31",
       "version_major": 2,
       "version_minor": 0
      },
      "text/plain": [
       "  0%|          | 0/6 [00:00<?, ?it/s]"
      ]
     },
     "metadata": {},
     "output_type": "display_data"
    }
   ],
   "source": [
    "for p_from in tqdm(ps_cm):\n",
    "    p_to = p_from.replace(DIR_IN, DIR_TMP).replace('.zip', '')\n",
    "    \n",
    "    with zipfile.ZipFile(p_from) as z:\n",
    "        z.extractall(p_to)"
   ]
  },
  {
   "cell_type": "markdown",
   "id": "c9901a02-b79a-4acb-b970-8e363cf6d06f",
   "metadata": {},
   "source": [
    "## 前処理"
   ]
  },
  {
   "cell_type": "markdown",
   "id": "91120bed-79cc-4d12-b978-40314b2a6d48",
   "metadata": {},
   "source": [
    "### 対象"
   ]
  },
  {
   "cell_type": "code",
   "execution_count": 126,
   "id": "e3612b5b-be58-45ce-b297-4c133a8b77d1",
   "metadata": {},
   "outputs": [],
   "source": [
    "ps_cm = {cm: glob.glob(f'{DIR_TMP}/*{cm}*/*') for cm in FNS_CM}"
   ]
  },
  {
   "cell_type": "code",
   "execution_count": 127,
   "id": "4fe1a172-c00a-45fc-b4f3-03722db278f2",
   "metadata": {},
   "outputs": [
    {
     "name": "stdout",
     "output_type": "stream",
     "text": [
      "{'cm102': ['../data/preprocess/tmp/metadata_cm-item_cm102_json/metadata_cm-item_cm102_json\\\\metadata_cm-item_cm102_00001.json',\n",
      "           '../data/preprocess/tmp/metadata_cm-item_cm102_json/metadata_cm-item_cm102_json\\\\metadata_cm-item_cm102_00002.json'],\n",
      " 'cm105': ['../data/preprocess/tmp/metadata_cm-col_cm105_json/metadata_cm-col_cm105_json\\\\metadata_cm-col_cm105_00001.json'],\n",
      " 'cm106': ['../data/preprocess/tmp/metadata_cm-col_cm106_json/metadata_cm-col_cm106_json\\\\metadata_cm-col_cm106_00001.json']}\n"
     ]
    }
   ],
   "source": [
    "pprint(ps_cm)"
   ]
  },
  {
   "cell_type": "markdown",
   "id": "b0a3e195-7a22-41cd-bdc9-f2cc84850d36",
   "metadata": {},
   "source": [
    "### `cm105`\n",
    "\n",
    "漫画雑誌に関するデータを整形し，分析対象のIDを特定．"
   ]
  },
  {
   "cell_type": "code",
   "execution_count": 128,
   "id": "08f6e24c-b69a-4a24-b7bc-c05a0f6730c0",
   "metadata": {},
   "outputs": [],
   "source": [
    "def format_magazine_name(name):\n",
    "    \"\"\"nameからpublished_nameを取得\"\"\"\n",
    "    for x in name:\n",
    "        if type(x) is str:\n",
    "            return x\n",
    "    raise Exception(f'No magazine name in {name}!')"
   ]
  },
  {
   "cell_type": "code",
   "execution_count": 129,
   "id": "ec86ecd0-3fac-47ce-9b69-b7ba9f714c73",
   "metadata": {},
   "outputs": [],
   "source": [
    "cm105 = read_json(ps_cm['cm105'][0])"
   ]
  },
  {
   "cell_type": "code",
   "execution_count": 130,
   "id": "c2263d63-183f-4f04-a740-eb67ba093729",
   "metadata": {},
   "outputs": [],
   "source": [
    "df_cm105 = pd.DataFrame(cm105['@graph'])[COL_CM105]"
   ]
  },
  {
   "cell_type": "code",
   "execution_count": 131,
   "id": "b67ee427-d60d-4532-9120-74c3235b0f5e",
   "metadata": {},
   "outputs": [],
   "source": [
    "# 雑誌名を取得\n",
    "df_cm105['mcname'] = df_cm105['name'].apply(\n",
    "    lambda x: format_magazine_name(x))"
   ]
  },
  {
   "cell_type": "code",
   "execution_count": 132,
   "id": "744a902f-ec10-46e5-9665-9bccd866c7ba",
   "metadata": {},
   "outputs": [],
   "source": [
    "MCNAMES = [\n",
    "    '週刊少年ジャンプ',\n",
    "    '週刊少年マガジン', \n",
    "    '週刊少年サンデー',\n",
    "]"
   ]
  },
  {
   "cell_type": "code",
   "execution_count": 134,
   "id": "a3a4b2c7-7874-4f69-bd94-992841353263",
   "metadata": {},
   "outputs": [
    {
     "data": {
      "text/html": [
       "<div>\n",
       "<style scoped>\n",
       "    .dataframe tbody tr th:only-of-type {\n",
       "        vertical-align: middle;\n",
       "    }\n",
       "\n",
       "    .dataframe tbody tr th {\n",
       "        vertical-align: top;\n",
       "    }\n",
       "\n",
       "    .dataframe thead th {\n",
       "        text-align: right;\n",
       "    }\n",
       "</style>\n",
       "<table border=\"1\" class=\"dataframe\">\n",
       "  <thead>\n",
       "    <tr style=\"text-align: right;\">\n",
       "      <th></th>\n",
       "      <th>148</th>\n",
       "      <th>1449</th>\n",
       "      <th>1828</th>\n",
       "    </tr>\n",
       "  </thead>\n",
       "  <tbody>\n",
       "    <tr>\n",
       "      <th>identifier</th>\n",
       "      <td>C117607</td>\n",
       "      <td>C119033</td>\n",
       "      <td>C119459</td>\n",
       "    </tr>\n",
       "    <tr>\n",
       "      <th>label</th>\n",
       "      <td>週刊少年サンデー</td>\n",
       "      <td>週刊少年マガジン</td>\n",
       "      <td>週刊少年ジャンプ</td>\n",
       "    </tr>\n",
       "    <tr>\n",
       "      <th>note</th>\n",
       "      <td>・創刊号の発売日は1959年3月17日　／　別タイトル：Weekly少年サンデー</td>\n",
       "      <td>『ぼくら』 - 1969年11月18日号より『週刊ぼくらマガジン』1971年6月まで - 『...</td>\n",
       "      <td>『少年ジャンプ』 - 『週刊少年ジャンプ』　／　・先行誌『少年ジャンプ』　／　新しい漫画新幹線</td>\n",
       "    </tr>\n",
       "    <tr>\n",
       "      <th>publicationPeriodicity</th>\n",
       "      <td>週刊</td>\n",
       "      <td>週刊</td>\n",
       "      <td>週刊</td>\n",
       "    </tr>\n",
       "    <tr>\n",
       "      <th>name</th>\n",
       "      <td>[{'@language': 'ja-hrkt', '@value': 'シュウカンショウネ...</td>\n",
       "      <td>[週刊少年マガジン, {'@language': 'ja-hrkt', '@value': ...</td>\n",
       "      <td>[週刊少年ジャンプ, {'@language': 'ja-hrkt', '@value': ...</td>\n",
       "    </tr>\n",
       "    <tr>\n",
       "      <th>publisher</th>\n",
       "      <td>小学館　∥　ショウガクカン</td>\n",
       "      <td>講談社　∥　コウダンシャ</td>\n",
       "      <td>集英社　∥　シュウエイシャ</td>\n",
       "    </tr>\n",
       "    <tr>\n",
       "      <th>dayPublishedFinal</th>\n",
       "      <td>NaN</td>\n",
       "      <td>NaN</td>\n",
       "      <td>NaN</td>\n",
       "    </tr>\n",
       "    <tr>\n",
       "      <th>mcname</th>\n",
       "      <td>週刊少年サンデー</td>\n",
       "      <td>週刊少年マガジン</td>\n",
       "      <td>週刊少年ジャンプ</td>\n",
       "    </tr>\n",
       "  </tbody>\n",
       "</table>\n",
       "</div>"
      ],
      "text/plain": [
       "                                                                     148   \\\n",
       "identifier                                                        C117607   \n",
       "label                                                            週刊少年サンデー   \n",
       "note                             ・創刊号の発売日は1959年3月17日　／　別タイトル：Weekly少年サンデー   \n",
       "publicationPeriodicity                                                 週刊   \n",
       "name                    [{'@language': 'ja-hrkt', '@value': 'シュウカンショウネ...   \n",
       "publisher                                                   小学館　∥　ショウガクカン   \n",
       "dayPublishedFinal                                                     NaN   \n",
       "mcname                                                           週刊少年サンデー   \n",
       "\n",
       "                                                                     1449  \\\n",
       "identifier                                                        C119033   \n",
       "label                                                            週刊少年マガジン   \n",
       "note                    『ぼくら』 - 1969年11月18日号より『週刊ぼくらマガジン』1971年6月まで - 『...   \n",
       "publicationPeriodicity                                                 週刊   \n",
       "name                    [週刊少年マガジン, {'@language': 'ja-hrkt', '@value': ...   \n",
       "publisher                                                    講談社　∥　コウダンシャ   \n",
       "dayPublishedFinal                                                     NaN   \n",
       "mcname                                                           週刊少年マガジン   \n",
       "\n",
       "                                                                     1828  \n",
       "identifier                                                        C119459  \n",
       "label                                                            週刊少年ジャンプ  \n",
       "note                      『少年ジャンプ』 - 『週刊少年ジャンプ』　／　・先行誌『少年ジャンプ』　／　新しい漫画新幹線  \n",
       "publicationPeriodicity                                                 週刊  \n",
       "name                    [週刊少年ジャンプ, {'@language': 'ja-hrkt', '@value': ...  \n",
       "publisher                                                   集英社　∥　シュウエイシャ  \n",
       "dayPublishedFinal                                                     NaN  \n",
       "mcname                                                           週刊少年ジャンプ  "
      ]
     },
     "execution_count": 134,
     "metadata": {},
     "output_type": "execute_result"
    }
   ],
   "source": [
    "# 所定の雑誌のmcidを取得\n",
    "df_cm105[df_cm105['mcname'].isin(MCNAMES)].T"
   ]
  },
  {
   "cell_type": "code",
   "execution_count": 135,
   "id": "48efc29b-fd37-493b-a7e8-8fa5c166f103",
   "metadata": {},
   "outputs": [],
   "source": [
    "mcids = \\\n",
    "    df_cm105[df_cm105['mcname'].isin(MCNAMES)]['identifier'].unique()"
   ]
  },
  {
   "cell_type": "markdown",
   "id": "ddd97708-fc25-4791-a326-206447de03e4",
   "metadata": {},
   "source": [
    "### `cm102`\n",
    "\n",
    "雑誌巻号およびマンガ作品に関するデータを整形し，一次保存．"
   ]
  },
  {
   "cell_type": "code",
   "execution_count": 136,
   "id": "60a48005-13d1-4384-b02c-f96575e38c86",
   "metadata": {},
   "outputs": [],
   "source": [
    "def format_cols(df, cols_rename):\n",
    "    \"\"\"cols_renameのcolのみを抽出し，renmae\"\"\"\n",
    "    df_new = df.copy()\n",
    "    df_new = df_new[cols_rename]\n",
    "    df_new = df_new.rename(columns=cols_rename)\n",
    "    return df_new"
   ]
  },
  {
   "cell_type": "code",
   "execution_count": 137,
   "id": "8d6cd070-465f-42de-823c-d62b0dd844de",
   "metadata": {},
   "outputs": [],
   "source": [
    "def get_items_by_genre(graph, genre):\n",
    "    \"\"\"graphから所定のgenreのアイテム群を取得\"\"\"\n",
    "    items = [\n",
    "        x for x in graph \n",
    "        if 'genre' in x.keys() and x['genre'] == genre]\n",
    "    return items"
   ]
  },
  {
   "cell_type": "code",
   "execution_count": 138,
   "id": "57d0c282-f4b8-4237-98a8-74d2f6287c7a",
   "metadata": {},
   "outputs": [],
   "source": [
    "def get_id_from_url(url):\n",
    "    \"\"\"url表記から末尾のidを取得\"\"\"\n",
    "    if url is np.nan:\n",
    "        return None\n",
    "    else:\n",
    "        return url.split('/')[-1]"
   ]
  },
  {
   "cell_type": "code",
   "execution_count": 139,
   "id": "819e4858-de3d-4f7c-8527-0da309dd9a0e",
   "metadata": {},
   "outputs": [],
   "source": [
    "def format_nop(numberOfPages):\n",
    "    \"\"\"numberOfPagesからpやPを除外\"\"\"\n",
    "    nop = numberOfPages\n",
    "    if nop is np.nan:\n",
    "        return None\n",
    "    else:\n",
    "        return int(nop.replace('p', '').replace('P', ''))"
   ]
  },
  {
   "cell_type": "code",
   "execution_count": 140,
   "id": "d9f9677e-7eaf-40c7-9a3c-52592f18eb20",
   "metadata": {},
   "outputs": [],
   "source": [
    "def format_price(price):\n",
    "    \"\"\"priceを整形\"\"\"\n",
    "    if price is np.nan:\n",
    "        return None\n",
    "    elif price == 'JUMPガラガラウなかも':\n",
    "        # M544740, 週刊少年ジャンプ 1971年 表示号数47\n",
    "        # price = 'JUMPガラガラウなかも'\n",
    "        return None\n",
    "    elif price == '238p':\n",
    "        # M542801, 週刊少年ジャンプ 2010年 表示号数42\n",
    "        # price = '238p'\n",
    "        return 238\n",
    "    else:\n",
    "        price_new = price.replace('円', '').replace('+税', '')\n",
    "        return int(price_new)"
   ]
  },
  {
   "cell_type": "code",
   "execution_count": 141,
   "id": "925cd017-7483-40c7-989c-2709262e4ccb",
   "metadata": {},
   "outputs": [],
   "source": [
    "def format_creator(creator):\n",
    "    \"\"\"creatorから著者名を取得\"\"\"\n",
    "    if creator is np.nan:\n",
    "        return None\n",
    "    for x in creator:\n",
    "        if type(x) is str:\n",
    "            return x\n",
    "    raise Exception('No creator name!')"
   ]
  },
  {
   "cell_type": "code",
   "execution_count": 142,
   "id": "2dbda479-0264-4ce0-9a36-a8ae576da12f",
   "metadata": {},
   "outputs": [],
   "source": [
    "def create_df_mis(mis, mcids):\n",
    "    \"\"\"辞書形式のmisからdf_misを構築\n",
    "    ただし，mcidsに含まれるデータのみ抽出\"\"\"\n",
    "    df_mis = pd.DataFrame(mis)\n",
    "    # 列を整理\n",
    "    df_mis = format_cols(df_mis, COLS_MIS)\n",
    "    # mcidを取得\n",
    "    df_mis['mcid'] = df_mis['mcid'].apply(\n",
    "        lambda x: get_id_from_url(x))\n",
    "    # 特定のmcidsに該当する行のみ抽出\n",
    "    df_mis = df_mis[df_mis['mcid'].isin(mcids)].reset_index(drop=True)\n",
    "    # datePublishedでソート\n",
    "    df_mis['datePublished'] = pd.to_datetime(df_mis['datePublished'])\n",
    "    df_mis  = df_mis.sort_values('datePublished', ignore_index=True)\n",
    "    # numberOfPagesを整形\n",
    "    df_mis['numberOfPages'] = df_mis['numberOfPages'].apply(\n",
    "        lambda x: format_nop(x))\n",
    "    # priceを整形\n",
    "    df_mis['price'] = df_mis['price'].apply(\n",
    "        lambda x: format_price(x))\n",
    "    return df_mis"
   ]
  },
  {
   "cell_type": "code",
   "execution_count": 143,
   "id": "13facd67-03d6-4c32-9c73-05ed5b6e4f2d",
   "metadata": {},
   "outputs": [],
   "source": [
    "def create_df_eps(eps, miids):\n",
    "    \"\"\"辞書形式のepsからdf_epsを構築\n",
    "    ただし，miidsに含まれるデータのみ抽出\"\"\"\n",
    "    df_eps = pd.DataFrame(eps)\n",
    "    # 列を整形\n",
    "    df_eps = format_cols(df_eps, COLS_EPS)\n",
    "    # url表記から各idを取得\n",
    "    df_eps['cid'] = df_eps['cid'].apply(lambda x: get_id_from_url(x))\n",
    "    df_eps['miid'] = df_eps['miid'].apply(lambda x: get_id_from_url(x))\n",
    "    # miidsに該当するepsのみ抽出\n",
    "    df_eps = df_eps[df_eps['miid'].isin(miids)].reset_index(drop=True)\n",
    "    # 著者名を取得\n",
    "    df_eps['creator'] = df_eps['creator'].apply(\n",
    "        lambda x: format_creator(x))\n",
    "    return df_eps"
   ]
  },
  {
   "cell_type": "code",
   "execution_count": null,
   "id": "01ef0655-444f-4839-94ff-4e87d2123095",
   "metadata": {},
   "outputs": [
    {
     "data": {
      "application/vnd.jupyter.widget-view+json": {
       "model_id": "9c1d8d0d96c346008d42a588898e57d7",
       "version_major": 2,
       "version_minor": 0
      },
      "text/plain": [
       "0it [00:00, ?it/s]"
      ]
     },
     "metadata": {},
     "output_type": "display_data"
    }
   ],
   "source": [
    "for i, p in tqdm(enumerate(ps_cm['cm102'])):\n",
    "    cm102 = read_json(p)\n",
    "    \n",
    "    # 各ジャンルのアイテム群を取得\n",
    "    mis = get_items_by_genre(cm102['@graph'], '雑誌巻号')\n",
    "    eps = get_items_by_genre(cm102['@graph'], 'マンガ作品')\n",
    "    del cm102\n",
    "    # pd.DataFrameとして整形\n",
    "    df_mis = create_df_mis(mis, mcids)\n",
    "    miids = set(df_mis['miid'].unique())\n",
    "    df_eps = create_df_eps(eps, miids)\n",
    "    del mis, eps\n",
    "    \n",
    "    # 保存\n",
    "    fn_mis = os.path.join(DIR_TMP, f'mis_{i+1:05}.csv')\n",
    "    fn_eps = os.path.join(DIR_TMP, f'eps_{i+1:05}.csv')\n",
    "    df_mis.to_csv(fn_mis, index=False)\n",
    "    df_eps.to_csv(fn_eps, index=False)"
   ]
  },
  {
   "cell_type": "code",
   "execution_count": null,
   "id": "b23f1f0b-4d65-4d99-9e41-be6e4569bf7d",
   "metadata": {},
   "outputs": [],
   "source": []
  },
  {
   "cell_type": "code",
   "execution_count": null,
   "id": "90994362-a9e3-4552-80a7-a170290f27df",
   "metadata": {},
   "outputs": [],
   "source": []
  },
  {
   "cell_type": "code",
   "execution_count": null,
   "id": "e8784822-2928-4503-a0a5-470d4b9b76ac",
   "metadata": {},
   "outputs": [],
   "source": []
  },
  {
   "cell_type": "markdown",
   "id": "8d8c2566-e0ec-4f79-aab7-a242c403f2f3",
   "metadata": {},
   "source": [
    "### `cm106`\n",
    "\n",
    "掲載作品に関するデータを整形し，一次保存．"
   ]
  },
  {
   "cell_type": "code",
   "execution_count": 40,
   "id": "c816d84b-396e-4888-883c-e5c3d79af89c",
   "metadata": {},
   "outputs": [],
   "source": [
    "def format_cname(cname):\n",
    "    \"\"\"cnameから著者名を取得\"\"\"\n",
    "    if cname is np.nan:\n",
    "        return None\n",
    "    for x in cname:\n",
    "        if type(x) is str:\n",
    "            return x\n",
    "    raise Exception('No comic name!')"
   ]
  },
  {
   "cell_type": "code",
   "execution_count": 30,
   "id": "3fc84e0a-97cf-4750-a5da-906d5b8d1c46",
   "metadata": {},
   "outputs": [],
   "source": [
    "cm106 = read_json(ps_cm['cm106'][0])"
   ]
  },
  {
   "cell_type": "code",
   "execution_count": 43,
   "id": "f1afe234-b372-48e3-b2d1-5c787489dbd4",
   "metadata": {},
   "outputs": [],
   "source": [
    "# 雑誌掲載ジャンルのアイテムを抽出\n",
    "cs = get_items_by_genre(cm106['@graph'], '雑誌掲載')\n",
    "# DataFrame化\n",
    "df_cs = pd.DataFrame(cs)\n",
    "# カラムを整理\n",
    "df_cs = format_cols(df_cs, COLS_CS)\n",
    "# cnameを整形\n",
    "df_cs['cname'] = df_cs['cname'].apply(\n",
    "    lambda x: format_cname(x))"
   ]
  },
  {
   "cell_type": "code",
   "execution_count": 45,
   "id": "4c27e6e8-f8a8-4e51-84dd-7d0665273bca",
   "metadata": {},
   "outputs": [],
   "source": [
    "# 保存\n",
    "df_cs.to_csv(os.path.join(DIR_TMP, 'cs.csv'), index=False)"
   ]
  },
  {
   "cell_type": "markdown",
   "id": "ccc98841-5697-4581-8dbf-09d3b21e5173",
   "metadata": {},
   "source": [
    "## 結合"
   ]
  },
  {
   "cell_type": "code",
   "execution_count": 53,
   "id": "fa5c40a0-4e08-461f-bab6-a860e768858a",
   "metadata": {},
   "outputs": [],
   "source": [
    "def read_and_concat_csvs(pathes):\n",
    "    \"\"\"pathesのcsvを順番に呼び出し，concat\"\"\"\n",
    "    df_all = pd.DataFrame()\n",
    "    for p in pathes:\n",
    "        df = pd.read_csv(p)\n",
    "        df_all = pd.concat([df_all, df], ignore_index=True)\n",
    "    return df_all"
   ]
  },
  {
   "cell_type": "code",
   "execution_count": 65,
   "id": "d672e6db-a3c4-4810-add1-2739c4d02a50",
   "metadata": {},
   "outputs": [],
   "source": [
    "def sort_date(df, col_date):\n",
    "    \"\"\"dfをcol_dateでソート\"\"\"\n",
    "    df_new = df.copy()\n",
    "    df_new[col_date] = pd.to_datetime(df_new[col_date])\n",
    "    df_new = df_new.sort_values(col_date, ignore_index=True)\n",
    "    return df_new"
   ]
  },
  {
   "cell_type": "code",
   "execution_count": 76,
   "id": "21d19a73-75f7-41d0-9751-3f4101653e02",
   "metadata": {},
   "outputs": [],
   "source": [
    "# 各ファイルのパスを抽出\n",
    "ps_mis = glob.glob(f'{DIR_TMP}/mis*.csv')\n",
    "ps_eps = glob.glob(f'{DIR_TMP}/eps*.csv')\n",
    "ps_cs = glob.glob(f'{DIR_TMP}/cs*.csv')"
   ]
  },
  {
   "cell_type": "code",
   "execution_count": 77,
   "id": "ecd33f53-c9be-4e16-8efa-7dcddca8c502",
   "metadata": {},
   "outputs": [],
   "source": [
    "# データの読み出し\n",
    "df_mis = read_and_concat_csvs(ps_mis)\n",
    "df_eps = read_and_concat_csvs(ps_eps)\n",
    "df_cs = read_and_concat_csvs(ps_cs)"
   ]
  },
  {
   "cell_type": "code",
   "execution_count": 81,
   "id": "3016e818-5a69-4780-a049-341db74752d9",
   "metadata": {},
   "outputs": [],
   "source": [
    "# 結合\n",
    "df_all = pd.merge(df_eps, df_cs, on='cid', how='left')\n",
    "df_all = pd.merge(df_all, df_mis, on='miid', how='left')"
   ]
  },
  {
   "cell_type": "code",
   "execution_count": 104,
   "id": "5ae04031-c64a-4b5d-8c15-0e40eca9f39b",
   "metadata": {},
   "outputs": [],
   "source": [
    "# ソート\n",
    "df_all['datePublished'] = pd.to_datetime(df_all['datePublished'])\n",
    "df_all = df_all.sort_values(['datePublished', 'pageStart'], ignore_index=False)"
   ]
  },
  {
   "cell_type": "code",
   "execution_count": 114,
   "id": "afa0506f-ff2b-41d1-94a0-c79c7c8c8c05",
   "metadata": {},
   "outputs": [],
   "source": [
    "# 保存\n",
    "df_all.to_csv(os.path.join(DIR_OUT, 'wj.csv'), index=False)"
   ]
  }
 ],
 "metadata": {
  "kernelspec": {
   "display_name": "Python 3 (ipykernel)",
   "language": "python",
   "name": "python3"
  },
  "language_info": {
   "codemirror_mode": {
    "name": "ipython",
    "version": 3
   },
   "file_extension": ".py",
   "mimetype": "text/x-python",
   "name": "python",
   "nbconvert_exporter": "python",
   "pygments_lexer": "ipython3",
   "version": "3.9.7"
  }
 },
 "nbformat": 4,
 "nbformat_minor": 5
}
