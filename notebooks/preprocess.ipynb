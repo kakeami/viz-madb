{
 "cells": [
  {
   "cell_type": "markdown",
   "id": "9d3e46da-27a0-4f36-8a23-2ced6c389dcc",
   "metadata": {},
   "source": [
    "# 前処理\n",
    "\n",
    "- `../madb/data`を前処理"
   ]
  },
  {
   "cell_type": "markdown",
   "id": "9205582f-05f7-483d-8877-040fe8d44663",
   "metadata": {},
   "source": [
    "## 環境構築"
   ]
  },
  {
   "cell_type": "code",
   "execution_count": 1,
   "id": "40b6b955-2152-474f-994b-852885bdb3c6",
   "metadata": {},
   "outputs": [],
   "source": [
    "# Notebook初期設定\n",
    "%matplotlib inline\n",
    "%config InlineBackend.figure_format = 'retina'\n",
    "\n",
    "import warnings\n",
    "warnings.filterwarnings('ignore')"
   ]
  },
  {
   "cell_type": "code",
   "execution_count": 2,
   "id": "19044bc4-9ca4-45a5-b0bc-d70988545e57",
   "metadata": {},
   "outputs": [],
   "source": [
    "# よく使うモジュール\n",
    "import datetime as dt\n",
    "import glob\n",
    "import itertools\n",
    "import json\n",
    "import logging\n",
    "import matplotlib.pyplot as plt\n",
    "import numpy as np\n",
    "import os\n",
    "import pandas as pd\n",
    "import seaborn as sns\n",
    "from tqdm import tqdm_notebook as tqdm\n",
    "\n",
    "sns.set_style(style='ticks')"
   ]
  },
  {
   "cell_type": "code",
   "execution_count": 3,
   "id": "84345f22-8587-4b7d-b51a-497a24a5fddb",
   "metadata": {},
   "outputs": [],
   "source": [
    "DIR_IN = '../madb/data/json-ld'\n",
    "DIR_TMP = '../data/preprocess/tmp'\n",
    "DIR_OUT = '../data/preprocess/out'"
   ]
  },
  {
   "cell_type": "code",
   "execution_count": null,
   "id": "f33ab1e3-19a9-4344-96a3-3a9b164611f0",
   "metadata": {},
   "outputs": [],
   "source": [
    "FN_"
   ]
  }
 ],
 "metadata": {
  "kernelspec": {
   "display_name": "Python 3 (ipykernel)",
   "language": "python",
   "name": "python3"
  },
  "language_info": {
   "codemirror_mode": {
    "name": "ipython",
    "version": 3
   },
   "file_extension": ".py",
   "mimetype": "text/x-python",
   "name": "python",
   "nbconvert_exporter": "python",
   "pygments_lexer": "ipython3",
   "version": "3.9.7"
  }
 },
 "nbformat": 4,
 "nbformat_minor": 5
}
