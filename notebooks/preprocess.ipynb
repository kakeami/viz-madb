{
 "cells": [
  {
   "cell_type": "markdown",
   "id": "9d3e46da-27a0-4f36-8a23-2ced6c389dcc",
   "metadata": {},
   "source": [
    "# 前処理\n",
    "\n",
    "- `../madb/data`を前処理"
   ]
  },
  {
   "cell_type": "markdown",
   "id": "9205582f-05f7-483d-8877-040fe8d44663",
   "metadata": {},
   "source": [
    "## 環境構築"
   ]
  },
  {
   "cell_type": "code",
   "execution_count": 13,
   "id": "40b6b955-2152-474f-994b-852885bdb3c6",
   "metadata": {},
   "outputs": [],
   "source": [
    "# Notebook初期設定\n",
    "%matplotlib inline\n",
    "%config InlineBackend.figure_format = 'retina'\n",
    "\n",
    "import warnings\n",
    "warnings.filterwarnings('ignore')"
   ]
  },
  {
   "cell_type": "code",
   "execution_count": 14,
   "id": "19044bc4-9ca4-45a5-b0bc-d70988545e57",
   "metadata": {},
   "outputs": [],
   "source": [
    "import glob\n",
    "import json\n",
    "import os\n",
    "import pandas as pd\n",
    "from tqdm import tqdm_notebook as tqdm\n",
    "import zipfile"
   ]
  },
  {
   "cell_type": "code",
   "execution_count": 15,
   "id": "84345f22-8587-4b7d-b51a-497a24a5fddb",
   "metadata": {},
   "outputs": [],
   "source": [
    "DIR_IN = '../madb/data/json-ld'\n",
    "DIR_TMP = '../data/preprocess/tmp'\n",
    "DIR_OUT = '../data/preprocess/out'"
   ]
  },
  {
   "cell_type": "code",
   "execution_count": 16,
   "id": "f33ab1e3-19a9-4344-96a3-3a9b164611f0",
   "metadata": {},
   "outputs": [
    {
     "name": "stdout",
     "output_type": "stream",
     "text": [
      "metadata_an-col_an207_json.zip\t metadata_cm-item_cm102_json.zip\n",
      "metadata_an-col_an208_json.zip\t metadata_cm-item_cm103_json.zip\n",
      "metadata_an-col_an210_json.zip\t metadata_co-curate_co504_json.zip\n",
      "metadata_an-item_an201_json.zip  metadata_co-curate_co505_json.zip\n",
      "metadata_an-item_an202_json.zip  metadata_gm-col_gm305_json.zip\n",
      "metadata_an-item_an205_json.zip  metadata_gm-col_gm306_json.zip\n",
      "metadata_cm-col_cm104_json.zip\t metadata_gm-item_gm301_json.zip\n",
      "metadata_cm-col_cm105_json.zip\t metadata_ma-col_ma408_json.zip\n",
      "metadata_cm-col_cm106_json.zip\t metadata_ma-item_ma401_json.zip\n",
      "metadata_cm-item_cm101_json.zip\n"
     ]
    }
   ],
   "source": [
    "!ls {DIR_IN}"
   ]
  },
  {
   "cell_type": "markdown",
   "id": "7590971e-faf0-4a1e-8b98-d813cacd707e",
   "metadata": {},
   "source": [
    "## 関数"
   ]
  },
  {
   "cell_type": "code",
   "execution_count": 7,
   "id": "9439aa5f-e8f5-49b7-bd2a-e2f48dae9953",
   "metadata": {},
   "outputs": [],
   "source": [
    "def read_json(path):\n",
    "    \"\"\"\n",
    "    jsonファイルを辞書として読み込む関数．\n",
    "\n",
    "    Params:\n",
    "        path (str): 読込対象ファイルパス\n",
    "    Returns:\n",
    "        dict: 辞書\n",
    "    \"\"\"\n",
    "    with open(path, 'r') as f:\n",
    "        dct = json.load(f)\n",
    "\n",
    "    return dct"
   ]
  },
  {
   "cell_type": "markdown",
   "id": "aaac0825-25dd-4a77-9df2-3b42461749d1",
   "metadata": {},
   "source": [
    "## 解凍\n",
    "\n",
    "マンガ系のデータ（`*cm*`）のみ`DIR_TMP`に解凍する．"
   ]
  },
  {
   "cell_type": "code",
   "execution_count": 6,
   "id": "95225621-1ed5-45cd-adb5-3835771f62c3",
   "metadata": {},
   "outputs": [],
   "source": [
    "ps_cm = glob.glob(f'{DIR_IN}/*_cm*')"
   ]
  },
  {
   "cell_type": "code",
   "execution_count": 12,
   "id": "28177155-9bd7-47b2-ad2a-7946dc6d0df0",
   "metadata": {},
   "outputs": [
    {
     "data": {
      "application/vnd.jupyter.widget-view+json": {
       "model_id": "be6915ec230d41aaae7bfd65a8de8ae5",
       "version_major": 2,
       "version_minor": 0
      },
      "text/plain": [
       "  0%|          | 0/6 [00:00<?, ?it/s]"
      ]
     },
     "metadata": {},
     "output_type": "display_data"
    }
   ],
   "source": [
    "for p_from in tqdm(ps_cm):\n",
    "    p_to = p_from.replace(DIR_IN, DIR_TMP).replace('.zip', '')\n",
    "    \n",
    "    with zipfile.ZipFile(p_from) as z:\n",
    "        z.extractall(p_to)"
   ]
  },
  {
   "cell_type": "markdown",
   "id": "c9901a02-b79a-4acb-b970-8e363cf6d06f",
   "metadata": {},
   "source": [
    "## 内容確認"
   ]
  },
  {
   "cell_type": "code",
   "execution_count": null,
   "id": "8c0689fb-af46-44c9-93ad-70e697d42612",
   "metadata": {},
   "outputs": [],
   "source": [
    "glob.glob"
   ]
  }
 ],
 "metadata": {
  "kernelspec": {
   "display_name": "Python 3 (ipykernel)",
   "language": "python",
   "name": "python3"
  },
  "language_info": {
   "codemirror_mode": {
    "name": "ipython",
    "version": 3
   },
   "file_extension": ".py",
   "mimetype": "text/x-python",
   "name": "python",
   "nbconvert_exporter": "python",
   "pygments_lexer": "ipython3",
   "version": "3.9.7"
  }
 },
 "nbformat": 4,
 "nbformat_minor": 5
}
