{
 "cells": [
  {
   "cell_type": "markdown",
   "id": "1cbf2f99-68f4-4448-9db4-3145656444a3",
   "metadata": {},
   "source": [
    "# Smooth line graph"
   ]
  },
  {
   "cell_type": "markdown",
   "id": "db3d9ced-a1d5-400c-93cf-07deb2ef6932",
   "metadata": {},
   "source": [
    "## 概要"
   ]
  },
  {
   "cell_type": "markdown",
   "id": "6e81c76e-2faf-4650-9b07-2c43451b7aad",
   "metadata": {},
   "source": [
    "## Plotlyによる作図方法"
   ]
  },
  {
   "cell_type": "markdown",
   "id": "45bd4ff5-81e0-41b2-b575-0343e0a0717c",
   "metadata": {},
   "source": [
    "## MADB Labを用いた作図例"
   ]
  },
  {
   "cell_type": "markdown",
   "id": "660f84a0-7e4b-4e45-bc0a-15d9eba3f73c",
   "metadata": {},
   "source": [
    "### 下準備"
   ]
  },
  {
   "cell_type": "code",
   "execution_count": null,
   "id": "5a96f004-5a20-4598-9ecb-64456c8eda12",
   "metadata": {},
   "outputs": [],
   "source": []
  }
 ],
 "metadata": {
  "kernelspec": {
   "display_name": "Python 3 (ipykernel)",
   "language": "python",
   "name": "python3"
  },
  "language_info": {
   "codemirror_mode": {
    "name": "ipython",
    "version": 3
   },
   "file_extension": ".py",
   "mimetype": "text/x-python",
   "name": "python",
   "nbconvert_exporter": "python",
   "pygments_lexer": "ipython3",
   "version": "3.9.7"
  }
 },
 "nbformat": 4,
 "nbformat_minor": 5
}
