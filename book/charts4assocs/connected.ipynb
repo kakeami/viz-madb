{
 "cells": [
  {
   "cell_type": "markdown",
   "id": "a96833ab-544e-4bf0-be48-170dd8c85af0",
   "metadata": {},
   "source": [
    "# Connected line graph"
   ]
  },
  {
   "cell_type": "markdown",
   "id": "91e52402-7165-4a5d-a01a-bc9e629d73d7",
   "metadata": {},
   "source": [
    "## 概要"
   ]
  },
  {
   "cell_type": "markdown",
   "id": "7219b0dd-8274-4526-83bd-5b2afd63c3d8",
   "metadata": {},
   "source": [
    "## Plotlyによる作図方法"
   ]
  },
  {
   "cell_type": "markdown",
   "id": "ef127ed4-4151-4cb8-a64a-8ef642ea74d4",
   "metadata": {},
   "source": [
    "## MADB Labを用いた作図例"
   ]
  },
  {
   "cell_type": "markdown",
   "id": "6403b108-8a12-4af4-bb52-d84ef75948ba",
   "metadata": {},
   "source": [
    "### 下準備"
   ]
  },
  {
   "cell_type": "code",
   "execution_count": null,
   "id": "a966ac18-47ca-434f-a142-25b4692fa175",
   "metadata": {},
   "outputs": [],
   "source": []
  }
 ],
 "metadata": {
  "kernelspec": {
   "display_name": "Python 3 (ipykernel)",
   "language": "python",
   "name": "python3"
  },
  "language_info": {
   "codemirror_mode": {
    "name": "ipython",
    "version": 3
   },
   "file_extension": ".py",
   "mimetype": "text/x-python",
   "name": "python",
   "nbconvert_exporter": "python",
   "pygments_lexer": "ipython3",
   "version": "3.9.7"
  }
 },
 "nbformat": 4,
 "nbformat_minor": 5
}
