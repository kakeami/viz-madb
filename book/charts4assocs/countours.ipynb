{
 "cells": [
  {
   "cell_type": "markdown",
   "id": "9be0a3a4-f182-4092-b4a5-f43a4694d690",
   "metadata": {},
   "source": [
    "# Density contours"
   ]
  },
  {
   "cell_type": "markdown",
   "id": "1db06e22-d933-4f3e-b651-efa59fc2210f",
   "metadata": {},
   "source": [
    "## 概要"
   ]
  },
  {
   "cell_type": "markdown",
   "id": "d58b47b1-26a5-41ca-a4be-9a573cfc25b4",
   "metadata": {},
   "source": [
    "## Plotlyによる作図方法"
   ]
  },
  {
   "cell_type": "markdown",
   "id": "38f83086-fb17-4500-aa56-a6c2e6a9c15f",
   "metadata": {},
   "source": [
    "## MADB Labを用いた作図例"
   ]
  },
  {
   "cell_type": "markdown",
   "id": "3b960060-c963-4696-8b44-f94e4277732f",
   "metadata": {},
   "source": [
    "### 下準備"
   ]
  },
  {
   "cell_type": "code",
   "execution_count": null,
   "id": "4f39e5ea-74f9-410d-8e27-17ca94191938",
   "metadata": {},
   "outputs": [],
   "source": []
  }
 ],
 "metadata": {
  "kernelspec": {
   "display_name": "Python 3 (ipykernel)",
   "language": "python",
   "name": "python3"
  },
  "language_info": {
   "codemirror_mode": {
    "name": "ipython",
    "version": 3
   },
   "file_extension": ".py",
   "mimetype": "text/x-python",
   "name": "python",
   "nbconvert_exporter": "python",
   "pygments_lexer": "ipython3",
   "version": "3.9.7"
  }
 },
 "nbformat": 4,
 "nbformat_minor": 5
}
