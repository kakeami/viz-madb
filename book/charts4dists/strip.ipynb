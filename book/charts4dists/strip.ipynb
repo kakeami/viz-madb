{
 "cells": [
  {
   "cell_type": "markdown",
   "id": "49f7073e-7afe-4ce1-935f-8658e03f0f87",
   "metadata": {},
   "source": [
    "# Strip charts"
   ]
  },
  {
   "cell_type": "markdown",
   "id": "72724cd2-098c-4cb3-b697-2a28b7dad9d3",
   "metadata": {},
   "source": [
    "## 概要"
   ]
  },
  {
   "cell_type": "markdown",
   "id": "70db952f-3a18-4ddc-8cca-1c4f553ce232",
   "metadata": {},
   "source": [
    "## Plotlyによる作図方法"
   ]
  },
  {
   "cell_type": "markdown",
   "id": "64b419e5-6c15-4921-976b-0ba30eec1d32",
   "metadata": {},
   "source": [
    "## MADB Labを用いた作図例"
   ]
  },
  {
   "cell_type": "markdown",
   "id": "c2cc8f62-b851-41e5-a749-d3899c57d8b8",
   "metadata": {},
   "source": [
    "### 下準備"
   ]
  },
  {
   "cell_type": "code",
   "execution_count": 1,
   "id": "f9e2c9ab-bed2-4a32-8fbe-128f4d88ae1b",
   "metadata": {},
   "outputs": [],
   "source": [
    "import pandas as pd\n",
    "import plotly.express as px\n",
    "\n",
    "import warnings\n",
    "warnings.filterwarnings('ignore')"
   ]
  },
  {
   "cell_type": "code",
   "execution_count": 2,
   "id": "651c8096-e761-49b5-ab74-a094fc7aa6dc",
   "metadata": {},
   "outputs": [],
   "source": [
    "# 前処理の結果，以下に分析対象ファイルが格納されていることを想定\n",
    "PATH_DATA = '../../data/preprocess/out/magazines.csv'\n",
    "# Jupyter Book用のPlotlyのrenderer\n",
    "RENDERER = 'plotly_mimetype+notebook'"
   ]
  },
  {
   "cell_type": "code",
   "execution_count": 3,
   "id": "03bf8be3-54a3-4455-8d04-0148b3391c20",
   "metadata": {},
   "outputs": [],
   "source": [
    "def show_fig(fig):\n",
    "    \"\"\"Jupyter Bookでも表示可能なようRendererを指定\"\"\"\n",
    "    fig.show(renderer=RENDERER)"
   ]
  },
  {
   "cell_type": "code",
   "execution_count": 4,
   "id": "274093d7-3b97-41a6-afbc-b109856e3c42",
   "metadata": {},
   "outputs": [],
   "source": [
    "df = pd.read_csv(PATH_DATA)"
   ]
  },
  {
   "cell_type": "markdown",
   "id": "771f8bf0-9ee9-42f1-adf0-e4a786491866",
   "metadata": {},
   "source": [
    "### 雑誌別・作品別の合計連載週数"
   ]
  },
  {
   "cell_type": "markdown",
   "id": "80a279e4-dd6d-438a-adbb-dd5dc1af0397",
   "metadata": {},
   "source": [
    "### 雑誌別・作者別の合計連載週数"
   ]
  },
  {
   "cell_type": "code",
   "execution_count": null,
   "id": "35d7b524-9cb8-4042-a651-3bec92b9d44c",
   "metadata": {},
   "outputs": [],
   "source": []
  }
 ],
 "metadata": {
  "kernelspec": {
   "display_name": "Python 3 (ipykernel)",
   "language": "python",
   "name": "python3"
  },
  "language_info": {
   "codemirror_mode": {
    "name": "ipython",
    "version": 3
   },
   "file_extension": ".py",
   "mimetype": "text/x-python",
   "name": "python",
   "nbconvert_exporter": "python",
   "pygments_lexer": "ipython3",
   "version": "3.9.7"
  }
 },
 "nbformat": 4,
 "nbformat_minor": 5
}
