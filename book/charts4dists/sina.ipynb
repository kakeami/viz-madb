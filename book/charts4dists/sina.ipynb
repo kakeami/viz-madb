{
 "cells": [
  {
   "cell_type": "markdown",
   "id": "cb17b92a-2d4c-4c41-91a0-7024b121f890",
   "metadata": {},
   "source": [
    "# Sina plots"
   ]
  },
  {
   "cell_type": "markdown",
   "id": "97ca1689-54fc-4c24-aea5-4792d38811b3",
   "metadata": {},
   "source": [
    "## 概要"
   ]
  },
  {
   "cell_type": "markdown",
   "id": "e046347b-8ed1-4474-97b5-cee009f6c660",
   "metadata": {},
   "source": [
    "## Plotlyによる作図方法"
   ]
  },
  {
   "cell_type": "markdown",
   "id": "1797cbc0-a213-4a02-9435-b16abb5d55c3",
   "metadata": {},
   "source": [
    "## MADB Labを用いた作図例"
   ]
  },
  {
   "cell_type": "markdown",
   "id": "7399c773-4d0b-47fa-8493-f7c5e192afd9",
   "metadata": {},
   "source": [
    "### 下準備"
   ]
  },
  {
   "cell_type": "code",
   "execution_count": 1,
   "id": "55a12058-97bb-42c0-b11c-83617531b324",
   "metadata": {},
   "outputs": [],
   "source": [
    "import pandas as pd\n",
    "import plotly.express as px\n",
    "\n",
    "import warnings\n",
    "warnings.filterwarnings('ignore')"
   ]
  },
  {
   "cell_type": "code",
   "execution_count": 2,
   "id": "f63b716b-3643-4eb1-bda0-821ff7480592",
   "metadata": {},
   "outputs": [],
   "source": [
    "# 前処理の結果，以下に分析対象ファイルが格納されていることを想定\n",
    "PATH_DATA = '../../data/preprocess/out/magazines.csv'\n",
    "# Jupyter Book用のPlotlyのrenderer\n",
    "RENDERER = 'plotly_mimetype+notebook'"
   ]
  },
  {
   "cell_type": "code",
   "execution_count": 3,
   "id": "2aa2a45f-8c7b-4266-af5d-dccffbcee80b",
   "metadata": {},
   "outputs": [],
   "source": [
    "def show_fig(fig):\n",
    "    \"\"\"Jupyter Bookでも表示可能なようRendererを指定\"\"\"\n",
    "    fig.show(renderer=RENDERER)"
   ]
  },
  {
   "cell_type": "code",
   "execution_count": 4,
   "id": "1a5dc808-98ef-43ea-a21c-20a30f7e7cab",
   "metadata": {},
   "outputs": [],
   "source": [
    "df = pd.read_csv(PATH_DATA)"
   ]
  },
  {
   "cell_type": "markdown",
   "id": "f3cdd7bd-0876-4928-a56f-3f764daa4f77",
   "metadata": {},
   "source": [
    "### 雑誌別・作品別の合計連載週数"
   ]
  },
  {
   "cell_type": "markdown",
   "id": "eb7142fb-ffa5-4948-a11f-c9ab53b4eb4e",
   "metadata": {},
   "source": [
    "### 雑誌別・作者別の合計連載週数"
   ]
  },
  {
   "cell_type": "code",
   "execution_count": null,
   "id": "aac6f5f6-574b-4cdb-9996-38eb5bc4b6da",
   "metadata": {},
   "outputs": [],
   "source": []
  }
 ],
 "metadata": {
  "kernelspec": {
   "display_name": "Python 3 (ipykernel)",
   "language": "python",
   "name": "python3"
  },
  "language_info": {
   "codemirror_mode": {
    "name": "ipython",
    "version": 3
   },
   "file_extension": ".py",
   "mimetype": "text/x-python",
   "name": "python",
   "nbconvert_exporter": "python",
   "pygments_lexer": "ipython3",
   "version": "3.9.7"
  }
 },
 "nbformat": 4,
 "nbformat_minor": 5
}
