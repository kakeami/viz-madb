{
 "cells": [
  {
   "cell_type": "markdown",
   "id": "cb17b92a-2d4c-4c41-91a0-7024b121f890",
   "metadata": {},
   "source": [
    "# Sina plots"
   ]
  },
  {
   "cell_type": "markdown",
   "id": "97ca1689-54fc-4c24-aea5-4792d38811b3",
   "metadata": {},
   "source": [
    "## 概要"
   ]
  },
  {
   "cell_type": "markdown",
   "id": "e046347b-8ed1-4474-97b5-cee009f6c660",
   "metadata": {},
   "source": [
    "## Plotlyによる作図方法"
   ]
  },
  {
   "cell_type": "markdown",
   "id": "1797cbc0-a213-4a02-9435-b16abb5d55c3",
   "metadata": {},
   "source": [
    "## MADB Labを用いた作図例"
   ]
  },
  {
   "cell_type": "code",
   "execution_count": null,
   "id": "ac8993a2-1167-4702-9027-cc9e84478532",
   "metadata": {},
   "outputs": [],
   "source": []
  }
 ],
 "metadata": {
  "kernelspec": {
   "display_name": "Python 3 (ipykernel)",
   "language": "python",
   "name": "python3"
  },
  "language_info": {
   "codemirror_mode": {
    "name": "ipython",
    "version": 3
   },
   "file_extension": ".py",
   "mimetype": "text/x-python",
   "name": "python",
   "nbconvert_exporter": "python",
   "pygments_lexer": "ipython3",
   "version": "3.9.7"
  }
 },
 "nbformat": 4,
 "nbformat_minor": 5
}
