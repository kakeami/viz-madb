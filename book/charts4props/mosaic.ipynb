{
 "cells": [
  {
   "cell_type": "markdown",
   "id": "4308a4e6-d3c8-469f-975c-dc62652290ef",
   "metadata": {},
   "source": [
    "# Mosaic plot"
   ]
  },
  {
   "cell_type": "markdown",
   "id": "f4d55a36-37bd-40fc-beec-9512e16945b4",
   "metadata": {},
   "source": [
    "## 概要"
   ]
  },
  {
   "cell_type": "markdown",
   "id": "965658fc-3f0d-4c34-8df8-da33002c1020",
   "metadata": {},
   "source": [
    "## Plotlyによる作図方法"
   ]
  },
  {
   "cell_type": "markdown",
   "id": "077c7425-9d99-4a9b-97fd-949e607666e3",
   "metadata": {},
   "source": [
    "https://plotly.com/python/bar-charts/"
   ]
  },
  {
   "cell_type": "markdown",
   "id": "075d68f2-3f15-4581-b190-58d0ca78b89f",
   "metadata": {},
   "source": [
    "上記を参考に作図可能"
   ]
  },
  {
   "cell_type": "markdown",
   "id": "f08da7c4-a8bc-4f48-b92b-e08306a70747",
   "metadata": {},
   "source": [
    "## MADB Labを用いた作図例"
   ]
  },
  {
   "cell_type": "code",
   "execution_count": null,
   "id": "4935f641-cfe0-4005-b503-87ccc9b13f20",
   "metadata": {},
   "outputs": [],
   "source": []
  }
 ],
 "metadata": {
  "kernelspec": {
   "display_name": "Python 3 (ipykernel)",
   "language": "python",
   "name": "python3"
  },
  "language_info": {
   "codemirror_mode": {
    "name": "ipython",
    "version": 3
   },
   "file_extension": ".py",
   "mimetype": "text/x-python",
   "name": "python",
   "nbconvert_exporter": "python",
   "pygments_lexer": "ipython3",
   "version": "3.9.7"
  }
 },
 "nbformat": 4,
 "nbformat_minor": 5
}
