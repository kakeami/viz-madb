{
 "cells": [
  {
   "cell_type": "markdown",
   "id": "cb17b92a-2d4c-4c41-91a0-7024b121f890",
   "metadata": {},
   "source": [
    "# Sina plots"
   ]
  },
  {
   "cell_type": "code",
   "execution_count": null,
   "id": "631b65af-4253-4fae-bb21-c38215bfe29c",
   "metadata": {},
   "outputs": [],
   "source": []
  }
 ],
 "metadata": {
  "kernelspec": {
   "display_name": "Python 3 (ipykernel)",
   "language": "python",
   "name": "python3"
  },
  "language_info": {
   "codemirror_mode": {
    "name": "ipython",
    "version": 3
   },
   "file_extension": ".py",
   "mimetype": "text/x-python",
   "name": "python",
   "nbconvert_exporter": "python",
   "pygments_lexer": "ipython3",
   "version": "3.9.7"
  }
 },
 "nbformat": 4,
 "nbformat_minor": 5
}