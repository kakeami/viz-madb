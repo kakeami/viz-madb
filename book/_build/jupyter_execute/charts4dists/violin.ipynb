{
 "cells": [
  {
   "cell_type": "markdown",
   "id": "941b1afa-a631-492a-9be1-5b27e061e652",
   "metadata": {},
   "source": [
    "# Violins"
   ]
  },
  {
   "cell_type": "markdown",
   "id": "e49ebf81-1b3b-4fc4-9b11-42c8a7626506",
   "metadata": {},
   "source": [
    "## 概要"
   ]
  },
  {
   "cell_type": "markdown",
   "id": "4df97258-bd7c-4d3b-bcee-32dc27a0d794",
   "metadata": {},
   "source": [
    "## Plotlyによる作図方法"
   ]
  },
  {
   "cell_type": "markdown",
   "id": "50f7d9d9-c49a-4ff1-b2cb-2169a089c806",
   "metadata": {},
   "source": [
    "## MADB Labを用いた作図例"
   ]
  },
  {
   "cell_type": "markdown",
   "id": "897b036b-ff53-4af4-bff9-98716d272ee0",
   "metadata": {},
   "source": [
    "### 下準備"
   ]
  },
  {
   "cell_type": "code",
   "execution_count": 1,
   "id": "128a4ddd-5149-410a-925e-0e1df10b9034",
   "metadata": {},
   "outputs": [],
   "source": [
    "import pandas as pd\n",
    "import plotly.express as px\n",
    "\n",
    "import warnings\n",
    "warnings.filterwarnings('ignore')"
   ]
  },
  {
   "cell_type": "code",
   "execution_count": 2,
   "id": "4eb838ea-972e-4d42-94ff-74f46fffbe40",
   "metadata": {},
   "outputs": [],
   "source": [
    "# 前処理の結果，以下に分析対象ファイルが格納されていることを想定\n",
    "PATH_DATA = '../../data/preprocess/out/magazines.csv'\n",
    "# Jupyter Book用のPlotlyのrenderer\n",
    "RENDERER = 'plotly_mimetype+notebook'"
   ]
  },
  {
   "cell_type": "code",
   "execution_count": 3,
   "id": "206a98b0-6f3f-4326-b3ff-0e2dba56c053",
   "metadata": {},
   "outputs": [],
   "source": [
    "def show_fig(fig):\n",
    "    \"\"\"Jupyter Bookでも表示可能なようRendererを指定\"\"\"\n",
    "    fig.show(renderer=RENDERER)"
   ]
  },
  {
   "cell_type": "code",
   "execution_count": 4,
   "id": "5e6ded87-b3f7-4aed-8fea-de79ac84d92b",
   "metadata": {},
   "outputs": [],
   "source": [
    "df = pd.read_csv(PATH_DATA)"
   ]
  },
  {
   "cell_type": "markdown",
   "id": "dd0a31e1-309c-4189-973f-c9414f311748",
   "metadata": {},
   "source": [
    "### 雑誌別・作品別の合計連載週数"
   ]
  },
  {
   "cell_type": "markdown",
   "id": "7cea1e12-1f15-4977-a3a9-49fd88c3217d",
   "metadata": {},
   "source": [
    "### 雑誌別・作者別の合計連載週数"
   ]
  },
  {
   "cell_type": "code",
   "execution_count": null,
   "id": "605eb3eb-0eee-431b-8a7a-03f674766c35",
   "metadata": {},
   "outputs": [],
   "source": []
  }
 ],
 "metadata": {
  "kernelspec": {
   "display_name": "Python 3 (ipykernel)",
   "language": "python",
   "name": "python3"
  },
  "language_info": {
   "codemirror_mode": {
    "name": "ipython",
    "version": 3
   },
   "file_extension": ".py",
   "mimetype": "text/x-python",
   "name": "python",
   "nbconvert_exporter": "python",
   "pygments_lexer": "ipython3",
   "version": "3.9.7"
  }
 },
 "nbformat": 4,
 "nbformat_minor": 5
}