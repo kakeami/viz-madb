{
 "cells": [
  {
   "cell_type": "markdown",
   "id": "0c220b63-f65a-4e0b-a70c-dfae4d58e825",
   "metadata": {},
   "source": [
    "# Box plot"
   ]
  },
  {
   "cell_type": "markdown",
   "id": "28612013-8016-4419-93d3-d036a7d3cea0",
   "metadata": {},
   "source": [
    "## 概要"
   ]
  },
  {
   "cell_type": "markdown",
   "id": "3c965419-fd27-494c-a53e-273c39036a7d",
   "metadata": {},
   "source": [
    "## Plotlyによる作図方法"
   ]
  },
  {
   "cell_type": "markdown",
   "id": "a1ba30a9-d196-43c7-a6fa-1baee6438ecf",
   "metadata": {},
   "source": [
    "## MADB Labを用いた作図例"
   ]
  },
  {
   "cell_type": "markdown",
   "id": "a7d7cf89-5605-43c6-a724-1d90b2793782",
   "metadata": {},
   "source": [
    "### 下準備"
   ]
  },
  {
   "cell_type": "code",
   "execution_count": 1,
   "id": "4416cb6d-eb23-4287-9ca1-414d7193f44e",
   "metadata": {},
   "outputs": [],
   "source": [
    "import pandas as pd\n",
    "import plotly.express as px\n",
    "\n",
    "import warnings\n",
    "warnings.filterwarnings('ignore')"
   ]
  },
  {
   "cell_type": "code",
   "execution_count": 2,
   "id": "15f4c994-bb6b-4c4b-ab9d-14be9b4fcc13",
   "metadata": {},
   "outputs": [],
   "source": [
    "# 前処理の結果，以下に分析対象ファイルが格納されていることを想定\n",
    "PATH_DATA = '../../data/preprocess/out/magazines.csv'\n",
    "# Jupyter Book用のPlotlyのrenderer\n",
    "RENDERER = 'plotly_mimetype+notebook'"
   ]
  },
  {
   "cell_type": "code",
   "execution_count": 3,
   "id": "0eff0eec-859f-43c2-93ae-0d429ccf7946",
   "metadata": {},
   "outputs": [],
   "source": [
    "def show_fig(fig):\n",
    "    \"\"\"Jupyter Bookでも表示可能なようRendererを指定\"\"\"\n",
    "    fig.show(renderer=RENDERER)"
   ]
  },
  {
   "cell_type": "code",
   "execution_count": 5,
   "id": "d3a57f86-8ceb-4f80-8449-83199b3fdca2",
   "metadata": {},
   "outputs": [],
   "source": [
    "df = pd.read_csv(PATH_DATA)"
   ]
  },
  {
   "cell_type": "markdown",
   "id": "df5c1f71-0341-437a-b180-136d137ce968",
   "metadata": {},
   "source": [
    "### 作品別の合計連載週数 "
   ]
  },
  {
   "cell_type": "markdown",
   "id": "bb2d11f6-3e7c-478c-81a4-028787dedd71",
   "metadata": {},
   "source": [
    "### 作者別の合計連載週数"
   ]
  },
  {
   "cell_type": "code",
   "execution_count": null,
   "id": "9fcac36e-9af6-4f48-a426-e3c9ca71fdae",
   "metadata": {},
   "outputs": [],
   "source": []
  }
 ],
 "metadata": {
  "kernelspec": {
   "display_name": "Python 3 (ipykernel)",
   "language": "python",
   "name": "python3"
  },
  "language_info": {
   "codemirror_mode": {
    "name": "ipython",
    "version": 3
   },
   "file_extension": ".py",
   "mimetype": "text/x-python",
   "name": "python",
   "nbconvert_exporter": "python",
   "pygments_lexer": "ipython3",
   "version": "3.9.7"
  }
 },
 "nbformat": 4,
 "nbformat_minor": 5
}