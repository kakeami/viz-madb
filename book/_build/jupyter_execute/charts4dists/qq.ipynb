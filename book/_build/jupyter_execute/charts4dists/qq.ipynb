{
 "cells": [
  {
   "cell_type": "markdown",
   "id": "16bbd8b2-6ac3-4b37-8dbb-d9a593b078ad",
   "metadata": {},
   "source": [
    "# Quantile-quantile plot"
   ]
  },
  {
   "cell_type": "code",
   "execution_count": null,
   "id": "afcee306-11bd-46fa-8a65-2ce6573bb5e0",
   "metadata": {},
   "outputs": [],
   "source": []
  }
 ],
 "metadata": {
  "kernelspec": {
   "display_name": "Python 3 (ipykernel)",
   "language": "python",
   "name": "python3"
  },
  "language_info": {
   "codemirror_mode": {
    "name": "ipython",
    "version": 3
   },
   "file_extension": ".py",
   "mimetype": "text/x-python",
   "name": "python",
   "nbconvert_exporter": "python",
   "pygments_lexer": "ipython3",
   "version": "3.9.7"
  }
 },
 "nbformat": 4,
 "nbformat_minor": 5
}