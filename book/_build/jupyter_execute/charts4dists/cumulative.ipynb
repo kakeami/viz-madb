{
 "cells": [
  {
   "cell_type": "markdown",
   "id": "c6b15470-770c-411b-b3a2-1dc1937ab560",
   "metadata": {},
   "source": [
    "# Cumulative density"
   ]
  },
  {
   "cell_type": "markdown",
   "id": "2084715c-9427-4a59-877b-802f323ef17d",
   "metadata": {},
   "source": [
    "## 概要"
   ]
  },
  {
   "cell_type": "markdown",
   "id": "0d463b04-770b-47a9-a7cf-5825cb19d80b",
   "metadata": {},
   "source": [
    "## Plotlyによる作図方法"
   ]
  },
  {
   "cell_type": "markdown",
   "id": "08e05875-66d0-4ffa-ba53-bf4211766869",
   "metadata": {},
   "source": [
    "## MADB Labを用いた作図例"
   ]
  },
  {
   "cell_type": "markdown",
   "id": "1e762a3e-3fe7-46e4-9e2b-6ddf5d9e2bcb",
   "metadata": {},
   "source": [
    "### 下準備"
   ]
  },
  {
   "cell_type": "code",
   "execution_count": 1,
   "id": "59e3f873-e72e-4336-b657-4e5f1777f7f9",
   "metadata": {},
   "outputs": [],
   "source": [
    "import pandas as pd\n",
    "import plotly.express as px\n",
    "\n",
    "import warnings\n",
    "warnings.filterwarnings('ignore')"
   ]
  },
  {
   "cell_type": "code",
   "execution_count": 2,
   "id": "0b8d1e3a-3134-4e33-8a1f-b4547a8f1ece",
   "metadata": {},
   "outputs": [],
   "source": [
    "# 前処理の結果，以下に分析対象ファイルが格納されていることを想定\n",
    "PATH_DATA = '../../data/preprocess/out/magazines.csv'\n",
    "# Jupyter Book用のPlotlyのrenderer\n",
    "RENDERER = 'plotly_mimetype+notebook'"
   ]
  },
  {
   "cell_type": "code",
   "execution_count": 3,
   "id": "96f64fae-9029-45e7-92bb-f8ce62d76ca9",
   "metadata": {},
   "outputs": [],
   "source": [
    "def show_fig(fig):\n",
    "    \"\"\"Jupyter Bookでも表示可能なようRendererを指定\"\"\"\n",
    "    fig.show(renderer=RENDERER)"
   ]
  },
  {
   "cell_type": "code",
   "execution_count": 4,
   "id": "8aae82dc-1ff0-40a9-b691-4ba005799a9a",
   "metadata": {},
   "outputs": [],
   "source": [
    "df = pd.read_csv(PATH_DATA)"
   ]
  },
  {
   "cell_type": "markdown",
   "id": "c4d4d6f2-da1f-4746-9686-fdbb1a6b6ee5",
   "metadata": {},
   "source": [
    "### 作品別の合計連載週数"
   ]
  },
  {
   "cell_type": "markdown",
   "id": "d60f0ebd-76c9-44ef-bc87-96e0e80e47a5",
   "metadata": {},
   "source": [
    "### 作者別の合計連載週数"
   ]
  },
  {
   "cell_type": "code",
   "execution_count": null,
   "id": "fce884ff-0deb-49ee-939f-7746bee713ac",
   "metadata": {},
   "outputs": [],
   "source": []
  }
 ],
 "metadata": {
  "kernelspec": {
   "display_name": "Python 3 (ipykernel)",
   "language": "python",
   "name": "python3"
  },
  "language_info": {
   "codemirror_mode": {
    "name": "ipython",
    "version": 3
   },
   "file_extension": ".py",
   "mimetype": "text/x-python",
   "name": "python",
   "nbconvert_exporter": "python",
   "pygments_lexer": "ipython3",
   "version": "3.9.7"
  }
 },
 "nbformat": 4,
 "nbformat_minor": 5
}