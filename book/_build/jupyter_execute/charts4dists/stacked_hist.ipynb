{
 "cells": [
  {
   "cell_type": "markdown",
   "id": "79464931-c3de-41bb-9c17-e837f70d645c",
   "metadata": {},
   "source": [
    "# Stacked histograms"
   ]
  },
  {
   "cell_type": "markdown",
   "id": "17c68fe7-6dd2-480f-b66d-36669219ebab",
   "metadata": {},
   "source": [
    "## 概要"
   ]
  },
  {
   "cell_type": "markdown",
   "id": "d7ac5b77-daeb-4904-8cb1-78fa255977cb",
   "metadata": {},
   "source": [
    "## Plotlyによる作図方法"
   ]
  },
  {
   "cell_type": "markdown",
   "id": "a3a1419f-a0ff-417a-ba7b-0cf817b3477a",
   "metadata": {},
   "source": [
    "## MADB Labを用いた作図例"
   ]
  },
  {
   "cell_type": "markdown",
   "id": "3f6d467a-c543-421d-8a6c-11ec2033ac18",
   "metadata": {},
   "source": [
    "### 下準備"
   ]
  },
  {
   "cell_type": "code",
   "execution_count": 1,
   "id": "1f534961-ebe7-4671-bbd5-819267a7860a",
   "metadata": {},
   "outputs": [],
   "source": [
    "import pandas as pd\n",
    "import plotly.express as px\n",
    "\n",
    "import warnings\n",
    "warnings.filterwarnings('ignore')"
   ]
  },
  {
   "cell_type": "code",
   "execution_count": 2,
   "id": "a923f34e-b980-435a-9389-ff013cc174af",
   "metadata": {},
   "outputs": [],
   "source": [
    "# 前処理の結果，以下に分析対象ファイルが格納されていることを想定\n",
    "PATH_DATA = '../../data/preprocess/out/magazines.csv'\n",
    "# Jupyter Book用のPlotlyのrenderer\n",
    "RENDERER = 'plotly_mimetype+notebook'"
   ]
  },
  {
   "cell_type": "code",
   "execution_count": 3,
   "id": "1d4e36fa-7a10-4fbf-a2d7-07b7d87f4bbd",
   "metadata": {},
   "outputs": [],
   "source": [
    "def show_fig(fig):\n",
    "    \"\"\"Jupyter Bookでも表示可能なようRendererを指定\"\"\"\n",
    "    fig.show(renderer=RENDERER)"
   ]
  },
  {
   "cell_type": "code",
   "execution_count": 4,
   "id": "ae38e3a0-a5d8-4cde-a08a-e8a51ee0c768",
   "metadata": {},
   "outputs": [],
   "source": [
    "df = pd.read_csv(PATH_DATA)"
   ]
  },
  {
   "cell_type": "markdown",
   "id": "96133c7b-4d6c-41cc-8a1a-23193da5933a",
   "metadata": {},
   "source": [
    "### 雑誌別・作品別の合計連載週数"
   ]
  },
  {
   "cell_type": "markdown",
   "id": "e9cdfb79-b37a-4b22-84e9-2f2145590d58",
   "metadata": {},
   "source": [
    "### 雑誌別・作品別の合計連載週数"
   ]
  },
  {
   "cell_type": "code",
   "execution_count": null,
   "id": "d9b068f6-f54e-4856-bd09-2cdd01cef8ce",
   "metadata": {},
   "outputs": [],
   "source": []
  }
 ],
 "metadata": {
  "kernelspec": {
   "display_name": "Python 3 (ipykernel)",
   "language": "python",
   "name": "python3"
  },
  "language_info": {
   "codemirror_mode": {
    "name": "ipython",
    "version": 3
   },
   "file_extension": ".py",
   "mimetype": "text/x-python",
   "name": "python",
   "nbconvert_exporter": "python",
   "pygments_lexer": "ipython3",
   "version": "3.9.7"
  }
 },
 "nbformat": 4,
 "nbformat_minor": 5
}