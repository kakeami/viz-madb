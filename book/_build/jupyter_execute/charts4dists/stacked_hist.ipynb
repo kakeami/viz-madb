{
 "cells": [
  {
   "cell_type": "markdown",
   "id": "79464931-c3de-41bb-9c17-e837f70d645c",
   "metadata": {},
   "source": [
    "# Stacked histograms"
   ]
  },
  {
   "cell_type": "code",
   "execution_count": null,
   "id": "baeee852-1e03-48ec-bbe4-541f64838a42",
   "metadata": {},
   "outputs": [],
   "source": []
  }
 ],
 "metadata": {
  "kernelspec": {
   "display_name": "Python 3 (ipykernel)",
   "language": "python",
   "name": "python3"
  },
  "language_info": {
   "codemirror_mode": {
    "name": "ipython",
    "version": 3
   },
   "file_extension": ".py",
   "mimetype": "text/x-python",
   "name": "python",
   "nbconvert_exporter": "python",
   "pygments_lexer": "ipython3",
   "version": "3.9.7"
  }
 },
 "nbformat": 4,
 "nbformat_minor": 5
}