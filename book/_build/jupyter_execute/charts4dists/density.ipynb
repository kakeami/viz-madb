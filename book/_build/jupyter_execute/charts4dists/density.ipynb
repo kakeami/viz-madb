{
 "cells": [
  {
   "cell_type": "markdown",
   "id": "42aa9e92-bb1e-4059-8a35-3a2e1f15d259",
   "metadata": {},
   "source": [
    "# Density plot"
   ]
  },
  {
   "cell_type": "code",
   "execution_count": null,
   "id": "5b3fe789-5fe7-4df3-8e7c-1796ab3a9f3f",
   "metadata": {},
   "outputs": [],
   "source": []
  }
 ],
 "metadata": {
  "kernelspec": {
   "display_name": "Python 3 (ipykernel)",
   "language": "python",
   "name": "python3"
  },
  "language_info": {
   "codemirror_mode": {
    "name": "ipython",
    "version": 3
   },
   "file_extension": ".py",
   "mimetype": "text/x-python",
   "name": "python",
   "nbconvert_exporter": "python",
   "pygments_lexer": "ipython3",
   "version": "3.9.7"
  }
 },
 "nbformat": 4,
 "nbformat_minor": 5
}