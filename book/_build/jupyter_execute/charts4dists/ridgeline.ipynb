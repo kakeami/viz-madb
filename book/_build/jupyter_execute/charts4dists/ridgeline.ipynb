{
 "cells": [
  {
   "cell_type": "markdown",
   "id": "9887000b-f195-4dd9-a871-e379eb1c5c12",
   "metadata": {},
   "source": [
    "# Ridgeline plot"
   ]
  },
  {
   "cell_type": "markdown",
   "id": "43afa68f-a4e9-419f-b667-409d8e3242b0",
   "metadata": {},
   "source": [
    "## 概要"
   ]
  },
  {
   "cell_type": "markdown",
   "id": "fc59810d-6312-4c73-ac1f-e369baadb16e",
   "metadata": {},
   "source": [
    "## Plotlyによる作図方法"
   ]
  },
  {
   "cell_type": "markdown",
   "id": "36bfecf6-859a-413c-8342-6f61d981d9fc",
   "metadata": {},
   "source": [
    "## MADB Labを用いた作図例"
   ]
  },
  {
   "cell_type": "markdown",
   "id": "4a202aec-f8f7-41c0-96c2-543fee720ca7",
   "metadata": {},
   "source": [
    "### 下準備"
   ]
  },
  {
   "cell_type": "code",
   "execution_count": 1,
   "id": "7bed1df1-f843-43bd-8aa1-d474f9bcca60",
   "metadata": {},
   "outputs": [],
   "source": [
    "import pandas as pd\n",
    "import plotly.express as px\n",
    "\n",
    "import warnings\n",
    "warnings.filterwarnings('ignore')"
   ]
  },
  {
   "cell_type": "code",
   "execution_count": 2,
   "id": "1c03426a-1aef-42ed-89e7-bf21e4fc2ad3",
   "metadata": {},
   "outputs": [],
   "source": [
    "# 前処理の結果，以下に分析対象ファイルが格納されていることを想定\n",
    "PATH_DATA = '../../data/preprocess/out/magazines.csv'\n",
    "# Jupyter Book用のPlotlyのrenderer\n",
    "RENDERER = 'plotly_mimetype+notebook'"
   ]
  },
  {
   "cell_type": "code",
   "execution_count": 3,
   "id": "76c2d1d0-063d-4cc4-b9e4-1dca09f8cf47",
   "metadata": {},
   "outputs": [],
   "source": [
    "def show_fig(fig):\n",
    "    \"\"\"Jupyter Bookでも表示可能なようRendererを指定\"\"\"\n",
    "    fig.show(renderer=RENDERER)"
   ]
  },
  {
   "cell_type": "code",
   "execution_count": 4,
   "id": "b3f5f0a6-e066-42ac-b246-27972d802b76",
   "metadata": {},
   "outputs": [],
   "source": [
    "df = pd.read_csv(PATH_DATA)"
   ]
  }
 ],
 "metadata": {
  "kernelspec": {
   "display_name": "Python 3 (ipykernel)",
   "language": "python",
   "name": "python3"
  },
  "language_info": {
   "codemirror_mode": {
    "name": "ipython",
    "version": 3
   },
   "file_extension": ".py",
   "mimetype": "text/x-python",
   "name": "python",
   "nbconvert_exporter": "python",
   "pygments_lexer": "ipython3",
   "version": "3.9.7"
  }
 },
 "nbformat": 4,
 "nbformat_minor": 5
}