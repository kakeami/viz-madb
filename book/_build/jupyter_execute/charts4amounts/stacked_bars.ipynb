{
 "cells": [
  {
   "cell_type": "markdown",
   "id": "27c406a8-d56a-4d0c-92fe-8a288e243d82",
   "metadata": {},
   "source": [
    "# Stacked bars"
   ]
  },
  {
   "cell_type": "code",
   "execution_count": null,
   "id": "066b569e-c0b7-4c5b-83a3-9e244eb5ec18",
   "metadata": {},
   "outputs": [],
   "source": []
  }
 ],
 "metadata": {
  "kernelspec": {
   "display_name": "Python 3 (ipykernel)",
   "language": "python",
   "name": "python3"
  },
  "language_info": {
   "codemirror_mode": {
    "name": "ipython",
    "version": 3
   },
   "file_extension": ".py",
   "mimetype": "text/x-python",
   "name": "python",
   "nbconvert_exporter": "python",
   "pygments_lexer": "ipython3",
   "version": "3.9.7"
  }
 },
 "nbformat": 4,
 "nbformat_minor": 5
}