{
 "cells": [
  {
   "cell_type": "markdown",
   "id": "b688ec71-7a30-49af-aa25-e01990cc933e",
   "metadata": {},
   "source": [
    "# Grouped bars"
   ]
  },
  {
   "cell_type": "code",
   "execution_count": null,
   "id": "fbb8459e-58a3-4c56-9bbe-5582aa31b40d",
   "metadata": {},
   "outputs": [],
   "source": []
  }
 ],
 "metadata": {
  "kernelspec": {
   "display_name": "Python 3 (ipykernel)",
   "language": "python",
   "name": "python3"
  },
  "language_info": {
   "codemirror_mode": {
    "name": "ipython",
    "version": 3
   },
   "file_extension": ".py",
   "mimetype": "text/x-python",
   "name": "python",
   "nbconvert_exporter": "python",
   "pygments_lexer": "ipython3",
   "version": "3.9.7"
  }
 },
 "nbformat": 4,
 "nbformat_minor": 5
}