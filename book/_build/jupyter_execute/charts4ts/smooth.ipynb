{
 "cells": [
  {
   "cell_type": "markdown",
   "id": "b4ef0a79-810d-4275-920d-729bf017a40c",
   "metadata": {},
   "source": [
    "# Smooth line graph"
   ]
  },
  {
   "cell_type": "code",
   "execution_count": null,
   "id": "0ecbb484-6e1b-48a0-95f6-0e5b8028881e",
   "metadata": {},
   "outputs": [],
   "source": []
  }
 ],
 "metadata": {
  "kernelspec": {
   "display_name": "Python 3 (ipykernel)",
   "language": "python",
   "name": "python3"
  },
  "language_info": {
   "name": ""
  }
 },
 "nbformat": 4,
 "nbformat_minor": 5
}