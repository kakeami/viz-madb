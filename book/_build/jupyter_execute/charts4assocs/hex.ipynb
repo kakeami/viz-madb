{
 "cells": [
  {
   "cell_type": "markdown",
   "id": "de45151b-b854-4bff-940b-ae092eb82eed",
   "metadata": {},
   "source": [
    "# Hex bins"
   ]
  },
  {
   "cell_type": "code",
   "execution_count": null,
   "id": "5f79f09b-2d5a-4ad7-9b4f-a299fc780679",
   "metadata": {},
   "outputs": [],
   "source": []
  }
 ],
 "metadata": {
  "kernelspec": {
   "display_name": "Python 3 (ipykernel)",
   "language": "python",
   "name": "python3"
  },
  "language_info": {
   "codemirror_mode": {
    "name": "ipython",
    "version": 3
   },
   "file_extension": ".py",
   "mimetype": "text/x-python",
   "name": "python",
   "nbconvert_exporter": "python",
   "pygments_lexer": "ipython3",
   "version": "3.9.7"
  }
 },
 "nbformat": 4,
 "nbformat_minor": 5
}