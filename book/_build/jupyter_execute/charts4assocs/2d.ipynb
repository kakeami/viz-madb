{
 "cells": [
  {
   "cell_type": "markdown",
   "id": "082aba6f-b7be-4cd8-a090-04aa43ec1538",
   "metadata": {},
   "source": [
    "# 2D bins"
   ]
  },
  {
   "cell_type": "markdown",
   "id": "c12b636e-ccaf-4b18-8002-c1275da04aee",
   "metadata": {},
   "source": [
    "## 概要"
   ]
  },
  {
   "cell_type": "markdown",
   "id": "a85f19dd-5a21-4a1d-8b6c-b21212fc7584",
   "metadata": {},
   "source": [
    "## Plotlyによる作図方法"
   ]
  },
  {
   "cell_type": "markdown",
   "id": "78ed1430-4003-432f-b2df-8914e4143f6f",
   "metadata": {},
   "source": [
    "## MADB Labを用いた作図例"
   ]
  },
  {
   "cell_type": "markdown",
   "id": "3c5778e2-28c2-4f74-88aa-55608dbacb06",
   "metadata": {},
   "source": [
    "### 下準備"
   ]
  },
  {
   "cell_type": "code",
   "execution_count": null,
   "id": "fc4fd014-2d22-49ca-9c45-5f28f1a81397",
   "metadata": {},
   "outputs": [],
   "source": []
  }
 ],
 "metadata": {
  "kernelspec": {
   "display_name": "Python 3 (ipykernel)",
   "language": "python",
   "name": "python3"
  },
  "language_info": {
   "codemirror_mode": {
    "name": "ipython",
    "version": 3
   },
   "file_extension": ".py",
   "mimetype": "text/x-python",
   "name": "python",
   "nbconvert_exporter": "python",
   "pygments_lexer": "ipython3",
   "version": "3.9.7"
  }
 },
 "nbformat": 4,
 "nbformat_minor": 5
}