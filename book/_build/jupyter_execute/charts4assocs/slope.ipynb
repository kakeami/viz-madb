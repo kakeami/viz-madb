{
 "cells": [
  {
   "cell_type": "markdown",
   "id": "3429ee35-2f40-4d6c-bc61-5168e62bad46",
   "metadata": {},
   "source": [
    "# Slopegraph"
   ]
  },
  {
   "cell_type": "markdown",
   "id": "3814006e-3cdb-42f6-9776-dd591419b66a",
   "metadata": {},
   "source": [
    "## 概要"
   ]
  },
  {
   "cell_type": "markdown",
   "id": "cb0e9ed7-753c-49f2-9c8a-a9ecfc806590",
   "metadata": {},
   "source": [
    "## Plotlyによる作図方法"
   ]
  },
  {
   "cell_type": "markdown",
   "id": "6d07ea2f-54c9-463c-8b23-1db651af2861",
   "metadata": {},
   "source": [
    "## MADB Labを用いた作図例"
   ]
  },
  {
   "cell_type": "markdown",
   "id": "b374b1a1-cf4d-4c1e-8dd6-7b491cc5a149",
   "metadata": {},
   "source": [
    "### 下準備"
   ]
  },
  {
   "cell_type": "code",
   "execution_count": null,
   "id": "7e3e0757-237d-4be6-b7c0-79ca19afc69e",
   "metadata": {},
   "outputs": [],
   "source": []
  }
 ],
 "metadata": {
  "kernelspec": {
   "display_name": "Python 3 (ipykernel)",
   "language": "python",
   "name": "python3"
  },
  "language_info": {
   "codemirror_mode": {
    "name": "ipython",
    "version": 3
   },
   "file_extension": ".py",
   "mimetype": "text/x-python",
   "name": "python",
   "nbconvert_exporter": "python",
   "pygments_lexer": "ipython3",
   "version": "3.9.7"
  }
 },
 "nbformat": 4,
 "nbformat_minor": 5
}