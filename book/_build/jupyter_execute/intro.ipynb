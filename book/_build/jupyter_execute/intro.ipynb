{
 "cells": [
  {
   "cell_type": "markdown",
   "id": "7b806da9-8556-4172-aaaf-f4885dbb086a",
   "metadata": {},
   "source": [
    "# はじめに"
   ]
  },
  {
   "cell_type": "markdown",
   "id": "289260d9-334a-43b4-92ad-5877247523e8",
   "metadata": {},
   "source": [
    "## 背景"
   ]
  },
  {
   "cell_type": "markdown",
   "id": "24894155-9013-4446-a5a8-60433b538867",
   "metadata": {},
   "source": [
    "## データ概要"
   ]
  },
  {
   "cell_type": "markdown",
   "id": "3ed17d9b-de37-43a9-8c43-0d8a4c0ec7ff",
   "metadata": {},
   "source": [
    "扱うデータの概要を説明します．"
   ]
  },
  {
   "cell_type": "markdown",
   "id": "98e6b0f2-951f-49be-ab10-a66820936538",
   "metadata": {},
   "source": [
    "## 構成"
   ]
  },
  {
   "cell_type": "code",
   "execution_count": null,
   "id": "06cab33d-27ae-4e47-af6f-35fcc8c46598",
   "metadata": {},
   "outputs": [],
   "source": []
  }
 ],
 "metadata": {
  "kernelspec": {
   "display_name": "Python 3 (ipykernel)",
   "language": "python",
   "name": "python3"
  },
  "language_info": {
   "codemirror_mode": {
    "name": "ipython",
    "version": 3
   },
   "file_extension": ".py",
   "mimetype": "text/x-python",
   "name": "python",
   "nbconvert_exporter": "python",
   "pygments_lexer": "ipython3",
   "version": "3.9.7"
  }
 },
 "nbformat": 4,
 "nbformat_minor": 5
}