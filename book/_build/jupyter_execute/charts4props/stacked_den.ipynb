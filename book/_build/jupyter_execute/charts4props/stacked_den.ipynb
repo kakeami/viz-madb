{
 "cells": [
  {
   "cell_type": "markdown",
   "id": "a75d4177-5e36-46af-8eb5-ef7c8a16030a",
   "metadata": {},
   "source": [
    "# Stacked densities"
   ]
  },
  {
   "cell_type": "code",
   "execution_count": null,
   "id": "5e062645-7195-4461-ae96-10603816e5e1",
   "metadata": {},
   "outputs": [],
   "source": []
  }
 ],
 "metadata": {
  "kernelspec": {
   "display_name": "Python 3 (ipykernel)",
   "language": "python",
   "name": "python3"
  },
  "language_info": {
   "codemirror_mode": {
    "name": "ipython",
    "version": 3
   },
   "file_extension": ".py",
   "mimetype": "text/x-python",
   "name": "python",
   "nbconvert_exporter": "python",
   "pygments_lexer": "ipython3",
   "version": "3.9.7"
  }
 },
 "nbformat": 4,
 "nbformat_minor": 5
}