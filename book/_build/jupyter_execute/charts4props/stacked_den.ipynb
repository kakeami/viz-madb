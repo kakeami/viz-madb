{
 "cells": [
  {
   "cell_type": "markdown",
   "id": "a75d4177-5e36-46af-8eb5-ef7c8a16030a",
   "metadata": {},
   "source": [
    "# Stacked densities"
   ]
  },
  {
   "cell_type": "markdown",
   "id": "61158f8a-1fc0-4aad-a908-92149d7d48b7",
   "metadata": {},
   "source": [
    "## 概要"
   ]
  },
  {
   "cell_type": "markdown",
   "id": "cd85ef85-4e37-4c93-8e9c-c0677d9c1cdf",
   "metadata": {},
   "source": [
    "## Plotlyによる作図方法"
   ]
  },
  {
   "cell_type": "markdown",
   "id": "c0f4b244-11d4-43e2-b85c-a701c8ffb786",
   "metadata": {},
   "source": [
    "## MADB Labを用いた作図例"
   ]
  }
 ],
 "metadata": {
  "kernelspec": {
   "display_name": "Python 3 (ipykernel)",
   "language": "python",
   "name": "python3"
  },
  "language_info": {
   "codemirror_mode": {
    "name": "ipython",
    "version": 3
   },
   "file_extension": ".py",
   "mimetype": "text/x-python",
   "name": "python",
   "nbconvert_exporter": "python",
   "pygments_lexer": "ipython3",
   "version": "3.9.7"
  }
 },
 "nbformat": 4,
 "nbformat_minor": 5
}