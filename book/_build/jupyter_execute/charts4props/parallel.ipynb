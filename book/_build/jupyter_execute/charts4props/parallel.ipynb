{
 "cells": [
  {
   "cell_type": "markdown",
   "id": "fbe8dda6-2457-4896-bb2f-d15bc84c274b",
   "metadata": {},
   "source": [
    "# Parallel sets"
   ]
  },
  {
   "cell_type": "code",
   "execution_count": null,
   "id": "c71e6c85-194d-495a-b71e-20e476f6c834",
   "metadata": {},
   "outputs": [],
   "source": []
  }
 ],
 "metadata": {
  "kernelspec": {
   "display_name": "Python 3 (ipykernel)",
   "language": "python",
   "name": "python3"
  },
  "language_info": {
   "codemirror_mode": {
    "name": "ipython",
    "version": 3
   },
   "file_extension": ".py",
   "mimetype": "text/x-python",
   "name": "python",
   "nbconvert_exporter": "python",
   "pygments_lexer": "ipython3",
   "version": "3.9.7"
  }
 },
 "nbformat": 4,
 "nbformat_minor": 5
}