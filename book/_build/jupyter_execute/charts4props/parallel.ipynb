{
 "cells": [
  {
   "cell_type": "markdown",
   "id": "fbe8dda6-2457-4896-bb2f-d15bc84c274b",
   "metadata": {},
   "source": [
    "# Parallel sets"
   ]
  },
  {
   "cell_type": "markdown",
   "id": "a65f8784-3098-421d-873b-70643da0d07d",
   "metadata": {},
   "source": [
    "## 概要"
   ]
  },
  {
   "cell_type": "markdown",
   "id": "0c035fed-1164-4bd8-ae89-f5a8c7b88f85",
   "metadata": {},
   "source": [
    "## Plotlyによる作図方法"
   ]
  },
  {
   "cell_type": "markdown",
   "id": "7214cde7-d31d-45ce-a7a7-dd133f8419bf",
   "metadata": {},
   "source": [
    "## MADB Labを用いた作図例"
   ]
  },
  {
   "cell_type": "markdown",
   "id": "1624ca00-6eee-42f6-8c2b-9d74ad1d9e00",
   "metadata": {},
   "source": [
    "### 下準備"
   ]
  },
  {
   "cell_type": "code",
   "execution_count": null,
   "id": "5a1f8685-e52d-4260-894d-52217e7d60f6",
   "metadata": {},
   "outputs": [],
   "source": []
  }
 ],
 "metadata": {
  "kernelspec": {
   "display_name": "Python 3 (ipykernel)",
   "language": "python",
   "name": "python3"
  },
  "language_info": {
   "codemirror_mode": {
    "name": "ipython",
    "version": 3
   },
   "file_extension": ".py",
   "mimetype": "text/x-python",
   "name": "python",
   "nbconvert_exporter": "python",
   "pygments_lexer": "ipython3",
   "version": "3.9.7"
  }
 },
 "nbformat": 4,
 "nbformat_minor": 5
}