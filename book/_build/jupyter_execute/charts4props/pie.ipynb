{
 "cells": [
  {
   "cell_type": "markdown",
   "id": "a17c557c-8b29-4495-8330-345bcadab4ee",
   "metadata": {},
   "source": [
    "# Pie chart"
   ]
  },
  {
   "cell_type": "markdown",
   "id": "2d5e0803-de4b-4a2e-a8ee-d41889ed673d",
   "metadata": {},
   "source": [
    "## 概要"
   ]
  },
  {
   "cell_type": "markdown",
   "id": "293e7b6c-e1c5-4d3e-8134-7df6245c5e7e",
   "metadata": {},
   "source": [
    "## Plotlyによる作図方法"
   ]
  },
  {
   "cell_type": "markdown",
   "id": "b01d46c7-5e39-4524-9266-d60fe1b78139",
   "metadata": {},
   "source": [
    "## MADB Labを用いた作図例"
   ]
  },
  {
   "cell_type": "code",
   "execution_count": null,
   "id": "fa7f4de1-8aa2-45e9-bf7b-437e78632b72",
   "metadata": {},
   "outputs": [],
   "source": []
  }
 ],
 "metadata": {
  "kernelspec": {
   "display_name": "Python 3 (ipykernel)",
   "language": "python",
   "name": "python3"
  },
  "language_info": {
   "codemirror_mode": {
    "name": "ipython",
    "version": 3
   },
   "file_extension": ".py",
   "mimetype": "text/x-python",
   "name": "python",
   "nbconvert_exporter": "python",
   "pygments_lexer": "ipython3",
   "version": "3.9.7"
  }
 },
 "nbformat": 4,
 "nbformat_minor": 5
}