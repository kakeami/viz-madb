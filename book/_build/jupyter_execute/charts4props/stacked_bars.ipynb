{
 "cells": [
  {
   "cell_type": "markdown",
   "id": "3f7cbf98-d43d-4edb-956a-e21c20b90c9d",
   "metadata": {},
   "source": [
    "# Stacked bars"
   ]
  },
  {
   "cell_type": "markdown",
   "id": "0e58488f-0fb6-4c8d-babc-1bddca9a2015",
   "metadata": {},
   "source": [
    "## 概要"
   ]
  },
  {
   "cell_type": "markdown",
   "id": "7f30693d-6a7c-4273-adf1-ed5cf16b8148",
   "metadata": {},
   "source": [
    "## Plotlyによる作図方法"
   ]
  },
  {
   "cell_type": "markdown",
   "id": "61ec0c1c-4947-4bf7-acfa-77aa70e79108",
   "metadata": {},
   "source": [
    "## MADB Labを用いた作図例"
   ]
  },
  {
   "cell_type": "markdown",
   "id": "ed8059d1-c178-4faa-8ae7-ca423c3c1dcb",
   "metadata": {},
   "source": [
    "### 下準備"
   ]
  }
 ],
 "metadata": {
  "kernelspec": {
   "display_name": "Python 3 (ipykernel)",
   "language": "python",
   "name": "python3"
  },
  "language_info": {
   "codemirror_mode": {
    "name": "ipython",
    "version": 3
   },
   "file_extension": ".py",
   "mimetype": "text/x-python",
   "name": "python",
   "nbconvert_exporter": "python",
   "pygments_lexer": "ipython3",
   "version": "3.9.7"
  }
 },
 "nbformat": 4,
 "nbformat_minor": 5
}