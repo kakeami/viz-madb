{
 "cells": [
  {
   "cell_type": "markdown",
   "id": "36294d51-961c-4f57-be0f-68e93ad9d167",
   "metadata": {},
   "source": [
    "# そもそもどんなデータを扱うの？"
   ]
  },
  {
   "cell_type": "markdown",
   "id": "d0695fd6-59da-414c-82a0-391078d0adaf",
   "metadata": {},
   "source": [
    "本サイトで扱うデータについてまとめます．"
   ]
  },
  {
   "cell_type": "markdown",
   "id": "6b2e4be7-ea49-4787-b9a4-7084b78bb22a",
   "metadata": {},
   "source": [
    "## 環境構築"
   ]
  },
  {
   "cell_type": "code",
   "execution_count": 1,
   "id": "e955b970-70b7-49e1-9c38-2632dc0fa1ca",
   "metadata": {},
   "outputs": [],
   "source": [
    "import pandas as pd"
   ]
  },
  {
   "cell_type": "code",
   "execution_count": 3,
   "id": "08a02d68-06bc-4dca-b64a-1458427de230",
   "metadata": {},
   "outputs": [],
   "source": [
    "PATH_DATA = '../../data/preprocess/out/magazines.csv'"
   ]
  },
  {
   "cell_type": "code",
   "execution_count": 7,
   "id": "e1494856-7fb4-4d74-b0df-0d9928bbb541",
   "metadata": {},
   "outputs": [],
   "source": [
    "df = pd.read_csv(PATH_DATA)"
   ]
  },
  {
   "cell_type": "markdown",
   "id": "0a6f1b60-277f-4a3e-99b7-a5a9eaa7d9c4",
   "metadata": {},
   "source": [
    "## 概要"
   ]
  },
  {
   "cell_type": "markdown",
   "id": "85b440b1-632a-4ec0-aaaf-784e01345312",
   "metadata": {},
   "source": [
    "まず，データサイズを見てみます．"
   ]
  },
  {
   "cell_type": "code",
   "execution_count": 5,
   "id": "cec53068-d43f-4039-97f7-9b5a02712c4e",
   "metadata": {},
   "outputs": [
    {
     "data": {
      "text/plain": [
       "(144885, 17)"
      ]
     },
     "execution_count": 5,
     "metadata": {},
     "output_type": "execute_result"
    }
   ],
   "source": [
    "df.shape"
   ]
  },
  {
   "cell_type": "markdown",
   "id": "5242a2a8-3b91-44ab-88c9-c8dad4cb2cf7",
   "metadata": {},
   "source": [
    "カラムは次のようなものです．"
   ]
  },
  {
   "cell_type": "code",
   "execution_count": 6,
   "id": "bca29095-8cb7-4509-8970-761650ebda9e",
   "metadata": {},
   "outputs": [
    {
     "data": {
      "text/plain": [
       "Index(['cid', 'creator', 'note', 'epname', 'pageStart', 'pageEnd', 'miid',\n",
       "       'cname', 'miname', 'datePublished', 'mcid', 'issueNumber',\n",
       "       'numberOfPages', 'publisher', 'volumeNumber', 'price', 'editor'],\n",
       "      dtype='object')"
      ]
     },
     "execution_count": 6,
     "metadata": {},
     "output_type": "execute_result"
    }
   ],
   "source": [
    "df.columns"
   ]
  },
  {
   "cell_type": "markdown",
   "id": "b92de7f1-ff11-4ee8-9b4b-bcc46fce8c2c",
   "metadata": {},
   "source": [
    "- `cid`: マンガ作品のID\n",
    "- `creator`: 作者名\n",
    "- `note`: 補足\n",
    "- `epname`: サブタイトル\n",
    "- `pageStart`: 雑誌掲載時の開始ページ数\n",
    "- `pageEnd`: 雑誌掲載時の終了ページ数\n",
    "- `miid`: 雑誌巻号のID\n",
    "- `cname`: マンガ作品名\n",
    "- `miname`: 雑誌巻号名\n",
    "- `datePublished`: 雑誌発行日\n",
    "- `mcid`: 雑誌のID\n",
    "- `issueNumber`:\n",
    "- `numberOfPages`\n",
    "- `publisher`\n",
    "- `volumeNumber`\n",
    "- `price`\n",
    "- `editor`"
   ]
  },
  {
   "cell_type": "code",
   "execution_count": 9,
   "id": "f4eb91ea-2b66-4b87-9528-90c031f9b39d",
   "metadata": {},
   "outputs": [
    {
     "name": "stdout",
     "output_type": "stream",
     "text": [
      "- `cid`\n",
      "- `creator`\n",
      "- `note`\n",
      "- `epname`\n",
      "- `pageStart`\n",
      "- `pageEnd`\n",
      "- `miid`\n",
      "- `cname`\n",
      "- `miname`\n",
      "- `datePublished`\n",
      "- `mcid`\n",
      "- `issueNumber`\n",
      "- `numberOfPages`\n",
      "- `publisher`\n",
      "- `volumeNumber`\n",
      "- `price`\n",
      "- `editor`\n"
     ]
    }
   ],
   "source": [
    "for c in df.columns:\n",
    "    print(f'- `{c}`')"
   ]
  },
  {
   "cell_type": "code",
   "execution_count": null,
   "id": "71c6658f-d54c-42ca-ac68-0da3312b5663",
   "metadata": {},
   "outputs": [],
   "source": []
  }
 ],
 "metadata": {
  "kernelspec": {
   "display_name": "Python 3 (ipykernel)",
   "language": "python",
   "name": "python3"
  },
  "language_info": {
   "codemirror_mode": {
    "name": "ipython",
    "version": 3
   },
   "file_extension": ".py",
   "mimetype": "text/x-python",
   "name": "python",
   "nbconvert_exporter": "python",
   "pygments_lexer": "ipython3",
   "version": "3.9.7"
  }
 },
 "nbformat": 4,
 "nbformat_minor": 5
}