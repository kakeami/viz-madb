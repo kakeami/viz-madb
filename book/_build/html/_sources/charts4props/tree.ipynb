{
 "cells": [
  {
   "cell_type": "markdown",
   "id": "e2d69151-c696-4231-abd5-573e35088c34",
   "metadata": {},
   "source": [
    "# Tree map"
   ]
  },
  {
   "cell_type": "code",
   "execution_count": null,
   "id": "326bc276-e46c-491f-8ad6-e307085b6d0e",
   "metadata": {},
   "outputs": [],
   "source": []
  }
 ],
 "metadata": {
  "kernelspec": {
   "display_name": "Python 3 (ipykernel)",
   "language": "python",
   "name": "python3"
  },
  "language_info": {
   "codemirror_mode": {
    "name": "ipython",
    "version": 3
   },
   "file_extension": ".py",
   "mimetype": "text/x-python",
   "name": "python",
   "nbconvert_exporter": "python",
   "pygments_lexer": "ipython3",
   "version": "3.9.7"
  }
 },
 "nbformat": 4,
 "nbformat_minor": 5
}
