{
 "cells": [
  {
   "cell_type": "markdown",
   "id": "49f7073e-7afe-4ce1-935f-8658e03f0f87",
   "metadata": {},
   "source": [
    "# Strip charts"
   ]
  },
  {
   "cell_type": "code",
   "execution_count": null,
   "id": "bd4b3b71-552a-49a2-b52e-f21f9f36e096",
   "metadata": {},
   "outputs": [],
   "source": []
  }
 ],
 "metadata": {
  "kernelspec": {
   "display_name": "Python 3 (ipykernel)",
   "language": "python",
   "name": "python3"
  },
  "language_info": {
   "codemirror_mode": {
    "name": "ipython",
    "version": 3
   },
   "file_extension": ".py",
   "mimetype": "text/x-python",
   "name": "python",
   "nbconvert_exporter": "python",
   "pygments_lexer": "ipython3",
   "version": "3.9.7"
  }
 },
 "nbformat": 4,
 "nbformat_minor": 5
}
