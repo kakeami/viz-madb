{
 "cells": [
  {
   "cell_type": "markdown",
   "id": "27c406a8-d56a-4d0c-92fe-8a288e243d82",
   "metadata": {},
   "source": [
    "# Stacked bars"
   ]
  },
  {
   "cell_type": "markdown",
   "id": "31effe20-0f8e-4a2e-9130-f4b438da2d1e",
   "metadata": {},
   "source": [
    "## 概要"
   ]
  },
  {
   "cell_type": "markdown",
   "id": "3a758ccd-29e0-442b-a4dc-fc1683d8e4ea",
   "metadata": {},
   "source": [
    "## Plotlyによる作図方法"
   ]
  },
  {
   "cell_type": "markdown",
   "id": "dc49d0e9-29e5-40b9-93a0-6d02da0d1dd4",
   "metadata": {},
   "source": [
    "## MADB Labを用いた作図例"
   ]
  },
  {
   "cell_type": "code",
   "execution_count": null,
   "id": "a55e6ba2-dd32-48c0-9dd6-bcd837068d41",
   "metadata": {},
   "outputs": [],
   "source": []
  }
 ],
 "metadata": {
  "kernelspec": {
   "display_name": "Python 3 (ipykernel)",
   "language": "python",
   "name": "python3"
  },
  "language_info": {
   "codemirror_mode": {
    "name": "ipython",
    "version": 3
   },
   "file_extension": ".py",
   "mimetype": "text/x-python",
   "name": "python",
   "nbconvert_exporter": "python",
   "pygments_lexer": "ipython3",
   "version": "3.9.7"
  }
 },
 "nbformat": 4,
 "nbformat_minor": 5
}
