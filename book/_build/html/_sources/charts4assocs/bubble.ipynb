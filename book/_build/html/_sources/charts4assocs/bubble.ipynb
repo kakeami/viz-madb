{
 "cells": [
  {
   "cell_type": "markdown",
   "id": "c44578db-b77e-4628-9269-a27073f89caa",
   "metadata": {},
   "source": [
    "# Bubble chart"
   ]
  },
  {
   "cell_type": "markdown",
   "id": "dbe8b1bd-8c70-4ba8-bf4d-b28889e43813",
   "metadata": {},
   "source": [
    "## 概要"
   ]
  },
  {
   "cell_type": "markdown",
   "id": "d67c00f8-d9ee-489f-b97a-b629735aa53a",
   "metadata": {},
   "source": [
    "## Plotlyによる作図方法"
   ]
  },
  {
   "cell_type": "markdown",
   "id": "3ce5bccc-dc13-4eec-845b-5a9e772411b2",
   "metadata": {},
   "source": [
    "## MADB Labを用いた作図例"
   ]
  },
  {
   "cell_type": "markdown",
   "id": "b6182375-a9ee-401e-973a-8b723dc57a61",
   "metadata": {},
   "source": [
    "### 下準備"
   ]
  },
  {
   "cell_type": "code",
   "execution_count": null,
   "id": "c66c559e-0fea-4b1f-a418-d11384e637fa",
   "metadata": {},
   "outputs": [],
   "source": []
  }
 ],
 "metadata": {
  "kernelspec": {
   "display_name": "Python 3 (ipykernel)",
   "language": "python",
   "name": "python3"
  },
  "language_info": {
   "codemirror_mode": {
    "name": "ipython",
    "version": 3
   },
   "file_extension": ".py",
   "mimetype": "text/x-python",
   "name": "python",
   "nbconvert_exporter": "python",
   "pygments_lexer": "ipython3",
   "version": "3.9.7"
  }
 },
 "nbformat": 4,
 "nbformat_minor": 5
}
