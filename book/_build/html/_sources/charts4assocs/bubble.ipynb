{
 "cells": [
  {
   "cell_type": "markdown",
   "id": "c44578db-b77e-4628-9269-a27073f89caa",
   "metadata": {},
   "source": [
    "# バブルチャート"
   ]
  },
  {
   "cell_type": "markdown",
   "id": "dbe8b1bd-8c70-4ba8-bf4d-b28889e43813",
   "metadata": {},
   "source": [
    "## 概要"
   ]
  },
  {
   "cell_type": "markdown",
   "id": "d67c00f8-d9ee-489f-b97a-b629735aa53a",
   "metadata": {},
   "source": [
    "## Plotlyによる作図方法"
   ]
  },
  {
   "cell_type": "markdown",
   "id": "3ce5bccc-dc13-4eec-845b-5a9e772411b2",
   "metadata": {},
   "source": [
    "## MADB Labを用いた作図例"
   ]
  },
  {
   "cell_type": "markdown",
   "id": "b6182375-a9ee-401e-973a-8b723dc57a61",
   "metadata": {},
   "source": [
    "### 下準備"
   ]
  },
  {
   "cell_type": "code",
   "execution_count": 1,
   "id": "c66c559e-0fea-4b1f-a418-d11384e637fa",
   "metadata": {},
   "outputs": [],
   "source": [
    "import pandas as pd\n",
    "import plotly.express as px\n",
    "\n",
    "import warnings\n",
    "warnings.filterwarnings('ignore')"
   ]
  },
  {
   "cell_type": "code",
   "execution_count": 2,
   "id": "f73f83ce-00de-4ab3-bd9e-1e44b0a93c00",
   "metadata": {},
   "outputs": [],
   "source": [
    "# 前処理の結果，以下に分析対象ファイルが格納されていることを想定\n",
    "PATH_DATA = '../../data/preprocess/out/episodes.csv'\n",
    "# Jupyter Book用のPlotlyのrenderer\n",
    "RENDERER = 'plotly_mimetype+notebook'"
   ]
  },
  {
   "cell_type": "code",
   "execution_count": 3,
   "id": "1f479278-9287-4983-800b-5e1a3f3d4188",
   "metadata": {},
   "outputs": [],
   "source": [
    "# 連載週数の最小値\n",
    "MIN_WEEKS = 5"
   ]
  },
  {
   "cell_type": "code",
   "execution_count": 4,
   "id": "8b772060-1bce-414a-9146-1696c44cc2f9",
   "metadata": {},
   "outputs": [],
   "source": [
    "def show_fig(fig):\n",
    "    \"\"\"Jupyter Bookでも表示可能なようRendererを指定\"\"\"\n",
    "    fig.update_layout(margin=dict(t=50, l=25, r=25, b=25))\n",
    "    fig.show(renderer=RENDERER)"
   ]
  },
  {
   "cell_type": "code",
   "execution_count": 5,
   "id": "0ddf6920-63a4-4f11-a4f1-d493932529f3",
   "metadata": {},
   "outputs": [],
   "source": [
    "df = pd.read_csv(PATH_DATA)"
   ]
  },
  {
   "cell_type": "code",
   "execution_count": null,
   "id": "b4e212b5-2651-4259-af53-9a5b2ebb384b",
   "metadata": {},
   "outputs": [],
   "source": []
  }
 ],
 "metadata": {
  "kernelspec": {
   "display_name": "Python 3 (ipykernel)",
   "language": "python",
   "name": "python3"
  },
  "language_info": {
   "codemirror_mode": {
    "name": "ipython",
    "version": 3
   },
   "file_extension": ".py",
   "mimetype": "text/x-python",
   "name": "python",
   "nbconvert_exporter": "python",
   "pygments_lexer": "ipython3",
   "version": "3.9.7"
  }
 },
 "nbformat": 4,
 "nbformat_minor": 5
}
