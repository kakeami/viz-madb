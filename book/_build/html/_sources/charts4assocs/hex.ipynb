{
 "cells": [
  {
   "cell_type": "markdown",
   "id": "de45151b-b854-4bff-940b-ae092eb82eed",
   "metadata": {},
   "source": [
    "# Hex bins"
   ]
  },
  {
   "cell_type": "markdown",
   "id": "eb3649fc-9577-4874-aa62-e7cd1f9e26e7",
   "metadata": {},
   "source": [
    "## 概要"
   ]
  },
  {
   "cell_type": "markdown",
   "id": "ec072aed-3842-4ac5-9032-cdf0f32f9993",
   "metadata": {},
   "source": [
    "## Plotlyによる作図方法"
   ]
  },
  {
   "cell_type": "markdown",
   "id": "0f9821dc-d70a-44ad-95c9-a9d766fa6c82",
   "metadata": {},
   "source": [
    "## MADB Labを用いた作図例"
   ]
  },
  {
   "cell_type": "code",
   "execution_count": null,
   "id": "d98f5367-70d1-47c7-8027-71dc21f61962",
   "metadata": {},
   "outputs": [],
   "source": []
  }
 ],
 "metadata": {
  "kernelspec": {
   "display_name": "Python 3 (ipykernel)",
   "language": "python",
   "name": "python3"
  },
  "language_info": {
   "codemirror_mode": {
    "name": "ipython",
    "version": 3
   },
   "file_extension": ".py",
   "mimetype": "text/x-python",
   "name": "python",
   "nbconvert_exporter": "python",
   "pygments_lexer": "ipython3",
   "version": "3.9.7"
  }
 },
 "nbformat": 4,
 "nbformat_minor": 5
}
