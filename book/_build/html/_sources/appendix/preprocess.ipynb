{
 "cells": [
  {
   "cell_type": "markdown",
   "id": "9d3e46da-27a0-4f36-8a23-2ced6c389dcc",
   "metadata": {},
   "source": [
    "# 前処理"
   ]
  },
  {
   "cell_type": "markdown",
   "id": "f9f742b1-a2b9-43ec-b3af-f88abe55f899",
   "metadata": {},
   "source": [
    "`madb`から必要なデータを抽出し，縦持ちのcsvに変換します．"
   ]
  },
  {
   "cell_type": "markdown",
   "id": "9205582f-05f7-483d-8877-040fe8d44663",
   "metadata": {},
   "source": [
    "## 環境構築"
   ]
  },
  {
   "cell_type": "code",
   "execution_count": 1,
   "id": "cbb1256a-f9ef-4409-bcb8-6837515e9a95",
   "metadata": {},
   "outputs": [],
   "source": [
    "import warnings\n",
    "warnings.filterwarnings('ignore')"
   ]
  },
  {
   "cell_type": "code",
   "execution_count": 2,
   "id": "6df0f619-98b3-43e4-94a1-316f7fb1e30a",
   "metadata": {
    "tags": []
   },
   "outputs": [
    {
     "name": "stdout",
     "output_type": "stream",
     "text": [
      "Requirement already satisfied: ijson in /opt/conda/lib/python3.9/site-packages (3.1.4)\n"
     ]
    }
   ],
   "source": [
    "!pip install ijson"
   ]
  },
  {
   "cell_type": "code",
   "execution_count": 3,
   "id": "19044bc4-9ca4-45a5-b0bc-d70988545e57",
   "metadata": {},
   "outputs": [],
   "source": [
    "import glob\n",
    "import ijson\n",
    "import json\n",
    "import numpy as np\n",
    "import os\n",
    "import pandas as pd\n",
    "from pprint import pprint\n",
    "from tqdm import tqdm_notebook as tqdm\n",
    "import zipfile"
   ]
  },
  {
   "cell_type": "code",
   "execution_count": 4,
   "id": "84345f22-8587-4b7d-b51a-497a24a5fddb",
   "metadata": {},
   "outputs": [],
   "source": [
    "DIR_IN = '../../madb/data/json-ld'\n",
    "DIR_TMP = '../../data/preprocess/tmp'\n",
    "DIR_OUT = '../../data/preprocess/out'"
   ]
  },
  {
   "cell_type": "code",
   "execution_count": 5,
   "id": "bfc6ee5b-2702-4a7d-a3a1-07e4bff81826",
   "metadata": {},
   "outputs": [],
   "source": [
    "FNS_CM = [\n",
    "    'cm102',\n",
    "    'cm105',\n",
    "    'cm106',\n",
    "]"
   ]
  },
  {
   "cell_type": "code",
   "execution_count": 6,
   "id": "6875529b-a937-4e36-86a4-9b6cce9aeb7d",
   "metadata": {},
   "outputs": [],
   "source": [
    "# 分析対象とする雑誌名\n",
    "MCNAMES = [\n",
    "    '週刊少年ジャンプ',\n",
    "    '週刊少年マガジン', \n",
    "    '週刊少年サンデー',\n",
    "    '週刊少年チャンピオン',\n",
    "]"
   ]
  },
  {
   "cell_type": "code",
   "execution_count": 7,
   "id": "111cef23-3abf-4be2-8178-a9d9a2328176",
   "metadata": {},
   "outputs": [],
   "source": [
    "COLS_CM105 = [\n",
    "    'identifier',\n",
    "    'label',\n",
    "    'name',\n",
    "]"
   ]
  },
  {
   "cell_type": "code",
   "execution_count": 8,
   "id": "f1f75bd2-8a3b-4a40-b63e-f89270e3583c",
   "metadata": {},
   "outputs": [],
   "source": [
    "# cm102, genre=='雑誌巻号'\n",
    "COLS_MIS = {\n",
    "    'identifier': 'miid',\n",
    "    'label': 'miname',\n",
    "    'datePublished': 'datePublished',\n",
    "    'isPartOf': 'mcid',\n",
    "    'issueNumber': 'issueNumber',\n",
    "    'numberOfPages': 'numberOfPages',\n",
    "    'publisher': 'publisher',\n",
    "    'volumeNumber': 'volumeNumber',\n",
    "    'price': 'price',\n",
    "    'editor': 'editor',\n",
    "}"
   ]
  },
  {
   "cell_type": "code",
   "execution_count": 9,
   "id": "86e96bd3-67ef-4fd7-bca6-79d74885730c",
   "metadata": {},
   "outputs": [],
   "source": [
    "# cm102, genre=='マンガ作品'\n",
    "COLS_EPS = {\n",
    "    'relatedCollection': 'cid',\n",
    "    'creator': 'creator',\n",
    "    'note': 'note',\n",
    "    'alternativeHeadline': 'epname',\n",
    "    'pageStart': 'pageStart',\n",
    "    'pageEnd': 'pageEnd',\n",
    "    'isPartOf': 'miid',\n",
    "}"
   ]
  },
  {
   "cell_type": "code",
   "execution_count": 10,
   "id": "b01279d5-ec58-43be-aead-0ce1e0da05c8",
   "metadata": {},
   "outputs": [],
   "source": [
    "# cm106\n",
    "COLS_CS = {\n",
    "    'identifier': 'cid', \n",
    "    'name': 'cname'\n",
    "}"
   ]
  },
  {
   "cell_type": "code",
   "execution_count": 12,
   "id": "196295fb-1a19-43be-8af7-e966fab32dd1",
   "metadata": {},
   "outputs": [],
   "source": [
    "# 最終的に出力するカラム\n",
    "COLS_OUT = [\n",
    "    'mcname', 'miid', 'miname', 'cid', 'cname', 'epname',\n",
    "    'creator', 'pageStart', 'pageEnd', 'numberOfPages',\n",
    "    'datePublished', 'price', 'publisher', 'editor',\n",
    "]"
   ]
  },
  {
   "cell_type": "code",
   "execution_count": 13,
   "id": "d4537456-9657-4d28-b1bd-0fdf7aedea32",
   "metadata": {},
   "outputs": [],
   "source": [
    "# 許容するpageEnd，pageStartの最大値\n",
    "MAX_PAGES = 1000"
   ]
  },
  {
   "cell_type": "markdown",
   "id": "7590971e-faf0-4a1e-8b98-d813cacd707e",
   "metadata": {},
   "source": [
    "## 関数"
   ]
  },
  {
   "cell_type": "code",
   "execution_count": 14,
   "id": "9439aa5f-e8f5-49b7-bd2a-e2f48dae9953",
   "metadata": {},
   "outputs": [],
   "source": [
    "def read_json(path):\n",
    "    \"\"\"\n",
    "    jsonファイルを辞書として読み込む関数．\n",
    "\n",
    "    Params:\n",
    "        path (str): 読込対象ファイルパス\n",
    "    Returns:\n",
    "        dict: 辞書\n",
    "    \"\"\"\n",
    "    with open(path, 'r') as f:\n",
    "        dct = json.load(f)\n",
    "\n",
    "    return dct"
   ]
  },
  {
   "cell_type": "code",
   "execution_count": 15,
   "id": "a1b33068-c9d8-4df2-9fd0-7de9aa14a9a3",
   "metadata": {},
   "outputs": [],
   "source": [
    "def save_json(path, dct):\n",
    "    \"\"\"\n",
    "    辞書をjson形式で保存する関数．\n",
    "\n",
    "    Params:\n",
    "        path (str): jsonファイルの保存先\n",
    "        dct (dict): 保存対象辞書\n",
    "    \"\"\"\n",
    "    with open(path, 'w') as f:\n",
    "        json.dump(dct, f, ensure_ascii=False, indent=4)"
   ]
  },
  {
   "cell_type": "code",
   "execution_count": 16,
   "id": "809f25b6-0af1-49eb-a5ac-e5fb7e4dbb41",
   "metadata": {},
   "outputs": [],
   "source": [
    "def read_json_w_filters(path, items, filters):\n",
    "    \"\"\"itemsのうち，filtersの条件を満たすもののみを抽出\n",
    "    path: jsonファイルのパス\n",
    "    items: jsonファイル中でitemsを取得するキー\n",
    "    filters: dict形式．item[key] in valueで条件づけする想定\n",
    "    \"\"\"\n",
    "    out = []\n",
    "    with open(path, 'r') as f:\n",
    "        parse = ijson.items(f, items)\n",
    "        for item in parse:\n",
    "            # filtersの条件をすべて満足するもの以外はbreak\n",
    "            for k, v in filters.items():\n",
    "                if k not in item.keys():\n",
    "                    break\n",
    "                if item[k] not in v:\n",
    "                    break\n",
    "            else:\n",
    "                # breakしなかった場合はoutに追加\n",
    "                out.append(item)\n",
    "    return out"
   ]
  },
  {
   "cell_type": "code",
   "execution_count": 17,
   "id": "5673dd0b-0cda-4f2c-aabe-bd8c32175e71",
   "metadata": {},
   "outputs": [],
   "source": [
    "def try_mkdirs(path) -> None:\n",
    "    \"\"\"mkdirsにtry\"\"\"\n",
    "    try:\n",
    "        os.makedirs(path)\n",
    "    except FileExistsError as e:\n",
    "        pass"
   ]
  },
  {
   "cell_type": "markdown",
   "id": "4a265ce6-6df2-4086-a529-3a07339199cb",
   "metadata": {},
   "source": [
    "### 出力フォルダの生成"
   ]
  },
  {
   "cell_type": "code",
   "execution_count": 18,
   "id": "fb235123-6ac3-4ebd-bf80-63c3f34aeec8",
   "metadata": {},
   "outputs": [],
   "source": [
    "try_mkdirs(DIR_TMP)\n",
    "try_mkdirs(DIR_OUT)"
   ]
  },
  {
   "cell_type": "markdown",
   "id": "aaac0825-25dd-4a77-9df2-3b42461749d1",
   "metadata": {},
   "source": [
    "## 解凍\n",
    "\n",
    "マンガ系のデータ（`*cm*`）のみ`DIR_TMP`に解凍する．"
   ]
  },
  {
   "cell_type": "code",
   "execution_count": 19,
   "id": "95225621-1ed5-45cd-adb5-3835771f62c3",
   "metadata": {},
   "outputs": [],
   "source": [
    "ps_cm = glob.glob(f'{DIR_IN}/*_cm*')"
   ]
  },
  {
   "cell_type": "code",
   "execution_count": 20,
   "id": "28177155-9bd7-47b2-ad2a-7946dc6d0df0",
   "metadata": {},
   "outputs": [
    {
     "data": {
      "application/vnd.jupyter.widget-view+json": {
       "model_id": "20eed2f28bb647f68a72b14f7ac849f8",
       "version_major": 2,
       "version_minor": 0
      },
      "text/plain": [
       "  0%|          | 0/6 [00:00<?, ?it/s]"
      ]
     },
     "metadata": {},
     "output_type": "display_data"
    }
   ],
   "source": [
    "for p_from in tqdm(ps_cm):\n",
    "    p_to = p_from.replace(DIR_IN, DIR_TMP).replace('.zip', '')\n",
    "    \n",
    "    with zipfile.ZipFile(p_from) as z:\n",
    "        z.extractall(p_to)"
   ]
  },
  {
   "cell_type": "markdown",
   "id": "c9901a02-b79a-4acb-b970-8e363cf6d06f",
   "metadata": {},
   "source": [
    "## 前処理"
   ]
  },
  {
   "cell_type": "markdown",
   "id": "91120bed-79cc-4d12-b978-40314b2a6d48",
   "metadata": {},
   "source": [
    "### 対象"
   ]
  },
  {
   "cell_type": "code",
   "execution_count": 21,
   "id": "e3612b5b-be58-45ce-b297-4c133a8b77d1",
   "metadata": {},
   "outputs": [],
   "source": [
    "ps_cm = {cm: glob.glob(f'{DIR_TMP}/*{cm}*/*') for cm in FNS_CM}"
   ]
  },
  {
   "cell_type": "code",
   "execution_count": 22,
   "id": "4fe1a172-c00a-45fc-b4f3-03722db278f2",
   "metadata": {},
   "outputs": [
    {
     "name": "stdout",
     "output_type": "stream",
     "text": [
      "{'cm102': ['../../data/preprocess/tmp/metadata_cm-item_cm102_json/metadata_cm-item_cm102_json\\\\metadata_cm-item_cm102_00001.json',\n",
      "           '../../data/preprocess/tmp/metadata_cm-item_cm102_json/metadata_cm-item_cm102_json\\\\metadata_cm-item_cm102_00002.json'],\n",
      " 'cm105': ['../../data/preprocess/tmp/metadata_cm-col_cm105_json/metadata_cm-col_cm105_json\\\\metadata_cm-col_cm105_00001.json'],\n",
      " 'cm106': ['../../data/preprocess/tmp/metadata_cm-col_cm106_json/metadata_cm-col_cm106_json\\\\metadata_cm-col_cm106_00001.json']}\n"
     ]
    }
   ],
   "source": [
    "pprint(ps_cm)"
   ]
  },
  {
   "cell_type": "markdown",
   "id": "b0a3e195-7a22-41cd-bdc9-f2cc84850d36",
   "metadata": {},
   "source": [
    "### `cm105`\n",
    "\n",
    "漫画雑誌に関するデータを整形し，分析対象のIDを特定．"
   ]
  },
  {
   "cell_type": "code",
   "execution_count": 23,
   "id": "08f6e24c-b69a-4a24-b7bc-c05a0f6730c0",
   "metadata": {},
   "outputs": [],
   "source": [
    "def format_magazine_name(name):\n",
    "    \"\"\"nameからpublished_nameを取得\"\"\"\n",
    "    for x in name:\n",
    "        if type(x) is str:\n",
    "            return x\n",
    "    raise Exception(f'No magazine name in {name}!')"
   ]
  },
  {
   "cell_type": "code",
   "execution_count": 24,
   "id": "ec86ecd0-3fac-47ce-9b69-b7ba9f714c73",
   "metadata": {},
   "outputs": [],
   "source": [
    "cm105 = read_json(ps_cm['cm105'][0])\n",
    "df_cm105 = pd.DataFrame(cm105['@graph'])[COLS_CM105]"
   ]
  },
  {
   "cell_type": "code",
   "execution_count": 25,
   "id": "b67ee427-d60d-4532-9120-74c3235b0f5e",
   "metadata": {},
   "outputs": [],
   "source": [
    "# 雑誌名を取得\n",
    "df_cm105['mcname'] = df_cm105['name'].apply(\n",
    "    lambda x: format_magazine_name(x))"
   ]
  },
  {
   "cell_type": "code",
   "execution_count": 26,
   "id": "a3a4b2c7-7874-4f69-bd94-992841353263",
   "metadata": {},
   "outputs": [
    {
     "data": {
      "text/html": [
       "<div>\n",
       "<style scoped>\n",
       "    .dataframe tbody tr th:only-of-type {\n",
       "        vertical-align: middle;\n",
       "    }\n",
       "\n",
       "    .dataframe tbody tr th {\n",
       "        vertical-align: top;\n",
       "    }\n",
       "\n",
       "    .dataframe thead th {\n",
       "        text-align: right;\n",
       "    }\n",
       "</style>\n",
       "<table border=\"1\" class=\"dataframe\">\n",
       "  <thead>\n",
       "    <tr style=\"text-align: right;\">\n",
       "      <th></th>\n",
       "      <th>148</th>\n",
       "      <th>1449</th>\n",
       "      <th>1828</th>\n",
       "      <th>2569</th>\n",
       "    </tr>\n",
       "  </thead>\n",
       "  <tbody>\n",
       "    <tr>\n",
       "      <th>identifier</th>\n",
       "      <td>C117607</td>\n",
       "      <td>C119033</td>\n",
       "      <td>C119459</td>\n",
       "      <td>C120282</td>\n",
       "    </tr>\n",
       "    <tr>\n",
       "      <th>label</th>\n",
       "      <td>週刊少年サンデー</td>\n",
       "      <td>週刊少年マガジン</td>\n",
       "      <td>週刊少年ジャンプ</td>\n",
       "      <td>週刊少年チャンピオン</td>\n",
       "    </tr>\n",
       "    <tr>\n",
       "      <th>name</th>\n",
       "      <td>[{'@language': 'ja-hrkt', '@value': 'シュウカンショウネ...</td>\n",
       "      <td>[週刊少年マガジン, {'@language': 'ja-hrkt', '@value': ...</td>\n",
       "      <td>[週刊少年ジャンプ, {'@language': 'ja-hrkt', '@value': ...</td>\n",
       "      <td>[{'@language': 'ja-hrkt', '@value': 'シュウカンショウネ...</td>\n",
       "    </tr>\n",
       "    <tr>\n",
       "      <th>mcname</th>\n",
       "      <td>週刊少年サンデー</td>\n",
       "      <td>週刊少年マガジン</td>\n",
       "      <td>週刊少年ジャンプ</td>\n",
       "      <td>週刊少年チャンピオン</td>\n",
       "    </tr>\n",
       "  </tbody>\n",
       "</table>\n",
       "</div>"
      ],
      "text/plain": [
       "                                                         148   \\\n",
       "identifier                                            C117607   \n",
       "label                                                週刊少年サンデー   \n",
       "name        [{'@language': 'ja-hrkt', '@value': 'シュウカンショウネ...   \n",
       "mcname                                               週刊少年サンデー   \n",
       "\n",
       "                                                         1449  \\\n",
       "identifier                                            C119033   \n",
       "label                                                週刊少年マガジン   \n",
       "name        [週刊少年マガジン, {'@language': 'ja-hrkt', '@value': ...   \n",
       "mcname                                               週刊少年マガジン   \n",
       "\n",
       "                                                         1828  \\\n",
       "identifier                                            C119459   \n",
       "label                                                週刊少年ジャンプ   \n",
       "name        [週刊少年ジャンプ, {'@language': 'ja-hrkt', '@value': ...   \n",
       "mcname                                               週刊少年ジャンプ   \n",
       "\n",
       "                                                         2569  \n",
       "identifier                                            C120282  \n",
       "label                                              週刊少年チャンピオン  \n",
       "name        [{'@language': 'ja-hrkt', '@value': 'シュウカンショウネ...  \n",
       "mcname                                             週刊少年チャンピオン  "
      ]
     },
     "execution_count": 26,
     "metadata": {},
     "output_type": "execute_result"
    }
   ],
   "source": [
    "# mcnameで抽出\n",
    "df_cm105[df_cm105['mcname'].isin(MCNAMES)].T"
   ]
  },
  {
   "cell_type": "code",
   "execution_count": 27,
   "id": "41006108-cc7e-4631-af8c-5fb6b84572ae",
   "metadata": {},
   "outputs": [],
   "source": [
    "# 雑誌ID:雑誌名\n",
    "mcid2mcname = \\\n",
    "    df_cm105[df_cm105['mcname'].isin(MCNAMES)].\\\n",
    "    groupby('identifier')['mcname'].first().to_dict()"
   ]
  },
  {
   "cell_type": "code",
   "execution_count": 28,
   "id": "67912ee2-8c99-49b5-8c16-5160b6199b1b",
   "metadata": {},
   "outputs": [],
   "source": [
    "# 保存\n",
    "save_json(os.path.join(DIR_TMP, 'mcid2mcname.json'), mcid2mcname)"
   ]
  },
  {
   "cell_type": "markdown",
   "id": "ddd97708-fc25-4791-a326-206447de03e4",
   "metadata": {},
   "source": [
    "### `cm102`\n",
    "\n",
    "雑誌巻号およびマンガ作品に関するデータを整形し，一次保存．"
   ]
  },
  {
   "cell_type": "code",
   "execution_count": 29,
   "id": "60a48005-13d1-4384-b02c-f96575e38c86",
   "metadata": {},
   "outputs": [],
   "source": [
    "def format_cols(df, cols_rename):\n",
    "    \"\"\"cols_renameのcolのみを抽出し，renmae\"\"\"\n",
    "    df_new = df.copy()\n",
    "    df_new = df_new[cols_rename.keys()]\n",
    "    df_new = df_new.rename(columns=cols_rename)\n",
    "    return df_new"
   ]
  },
  {
   "cell_type": "code",
   "execution_count": 30,
   "id": "8d6cd070-465f-42de-823c-d62b0dd844de",
   "metadata": {},
   "outputs": [],
   "source": [
    "def get_items_by_genre(graph, genre):\n",
    "    \"\"\"graphから所定のgenreのアイテム群を取得\"\"\"\n",
    "    items = [\n",
    "        x for x in graph \n",
    "        if 'genre' in x.keys() and x['genre'] == genre]\n",
    "    return items"
   ]
  },
  {
   "cell_type": "code",
   "execution_count": 31,
   "id": "57d0c282-f4b8-4237-98a8-74d2f6287c7a",
   "metadata": {},
   "outputs": [],
   "source": [
    "def get_id_from_url(url):\n",
    "    \"\"\"url表記から末尾のidを取得\"\"\"\n",
    "    if url is np.nan:\n",
    "        return None\n",
    "    else:\n",
    "        return url.split('/')[-1]"
   ]
  },
  {
   "cell_type": "code",
   "execution_count": 32,
   "id": "819e4858-de3d-4f7c-8527-0da309dd9a0e",
   "metadata": {},
   "outputs": [],
   "source": [
    "def format_nop(numberOfPages):\n",
    "    \"\"\"numberOfPagesからpやPを除外\"\"\"\n",
    "    nop = numberOfPages\n",
    "    if nop is np.nan:\n",
    "        return None\n",
    "    elif nop == '1冊' or nop == '1サツ':\n",
    "        # M577294, 週刊少年サンデー 2010年 表示号数17\n",
    "        # nop = '1冊'\n",
    "        return None\n",
    "    else:\n",
    "        return int(nop.replace('p', '').replace('P', ''))"
   ]
  },
  {
   "cell_type": "code",
   "execution_count": 33,
   "id": "d9f9677e-7eaf-40c7-9a3c-52592f18eb20",
   "metadata": {},
   "outputs": [],
   "source": [
    "def format_price(price):\n",
    "    \"\"\"priceを整形\"\"\"\n",
    "    if price is np.nan:\n",
    "        return None\n",
    "    elif price == 'JUMPガラガラウなかも':\n",
    "        # M544740, 週刊少年ジャンプ 1971年 表示号数47\n",
    "        # price = 'JUMPガラガラウなかも'\n",
    "        return None\n",
    "    elif price == '238p':\n",
    "        # M542801, 週刊少年ジャンプ 2010年 表示号数42\n",
    "        # price = '238p'\n",
    "        return 238\n",
    "    else:\n",
    "        price_new = price.replace('円', '').replace('+税', '')\n",
    "        return int(price_new)"
   ]
  },
  {
   "cell_type": "code",
   "execution_count": 34,
   "id": "925cd017-7483-40c7-989c-2709262e4ccb",
   "metadata": {},
   "outputs": [],
   "source": [
    "def format_creator(creator):\n",
    "    \"\"\"creatorから著者名を取得\"\"\"\n",
    "    if creator is np.nan:\n",
    "        return None\n",
    "    for x in creator:\n",
    "        if type(x) is str:\n",
    "            return x\n",
    "    raise Exception('No creator name!')"
   ]
  },
  {
   "cell_type": "code",
   "execution_count": 35,
   "id": "2dbda479-0264-4ce0-9a36-a8ae576da12f",
   "metadata": {},
   "outputs": [],
   "source": [
    "def create_df_mis(path, mcids):\n",
    "    \"\"\"pathとmcidsからdf_misを構築\"\"\"    \n",
    "    filters = {\n",
    "        'genre': ['雑誌巻号'],\n",
    "        'isPartOf': [\n",
    "            f'https://mediaarts-db.bunka.go.jp/id/{mcid}' for mcid in mcids],\n",
    "    }\n",
    "    mis = read_json_w_filters(path, '@graph.item', filters)\n",
    "    df_mis = pd.DataFrame(mis)\n",
    "    \n",
    "    # 列を整理\n",
    "    df_mis = format_cols(df_mis, COLS_MIS)\n",
    "    # mcidを取得\n",
    "    df_mis['mcid'] = df_mis['mcid'].apply(\n",
    "        lambda x: get_id_from_url(x))\n",
    "    # datePublishedでソート\n",
    "    df_mis['datePublished'] = pd.to_datetime(df_mis['datePublished'])\n",
    "    df_mis  = df_mis.sort_values('datePublished', ignore_index=True)\n",
    "    # numberOfPagesを整形\n",
    "    df_mis['numberOfPages'] = df_mis['numberOfPages'].apply(\n",
    "        lambda x: format_nop(x))\n",
    "    # priceを整形\n",
    "    df_mis['price'] = df_mis['price'].apply(\n",
    "        lambda x: format_price(x))\n",
    "    return df_mis"
   ]
  },
  {
   "cell_type": "code",
   "execution_count": 36,
   "id": "13facd67-03d6-4c32-9c73-05ed5b6e4f2d",
   "metadata": {},
   "outputs": [],
   "source": [
    "def create_df_eps(path, miids):\n",
    "    \"\"\"pathとmiidsからdf_epsを構築\"\"\"\n",
    "    filters = {\n",
    "        'genre': ['マンガ作品'],\n",
    "        'isPartOf': [\n",
    "            f'https://mediaarts-db.bunka.go.jp/id/{miid}' for miid in miids],\n",
    "    }\n",
    "    eps = read_json_w_filters(path, '@graph.item', filters)\n",
    "    df_eps = pd.DataFrame(eps)\n",
    "    \n",
    "    # 列を整形\n",
    "    df_eps = format_cols(df_eps, COLS_EPS)\n",
    "    # url表記から各idを取得\n",
    "    df_eps['cid'] = df_eps['cid'].apply(lambda x: get_id_from_url(x))\n",
    "    df_eps['miid'] = df_eps['miid'].apply(lambda x: get_id_from_url(x))\n",
    "    # 著者名を取得\n",
    "    df_eps['creator'] = df_eps['creator'].apply(\n",
    "        lambda x: format_creator(x))\n",
    "    return df_eps"
   ]
  },
  {
   "cell_type": "code",
   "execution_count": 37,
   "id": "01ef0655-444f-4839-94ff-4e87d2123095",
   "metadata": {
    "tags": []
   },
   "outputs": [
    {
     "data": {
      "application/vnd.jupyter.widget-view+json": {
       "model_id": "27dbc6f44ad24e3d96858565beddb490",
       "version_major": 2,
       "version_minor": 0
      },
      "text/plain": [
       "0it [00:00, ?it/s]"
      ]
     },
     "metadata": {},
     "output_type": "display_data"
    }
   ],
   "source": [
    "for i, p in tqdm(enumerate(ps_cm['cm102'])):\n",
    "    mcids = list(mcid2mcname.keys())\n",
    "    df_mis = create_df_mis(p, mcids)\n",
    "    # 雑誌巻号のmiidを取得し，epsの抽出に利用\n",
    "    miids = set(df_mis['miid'].unique())\n",
    "    df_eps = create_df_eps(p, miids)\n",
    "    \n",
    "    # 保存\n",
    "    fn_mis = os.path.join(DIR_TMP, f'mis_{i+1:05}.csv')\n",
    "    fn_eps = os.path.join(DIR_TMP, f'eps_{i+1:05}.csv')\n",
    "    df_mis.to_csv(fn_mis, index=False)\n",
    "    df_eps.to_csv(fn_eps, index=False)"
   ]
  },
  {
   "cell_type": "markdown",
   "id": "8d8c2566-e0ec-4f79-aab7-a242c403f2f3",
   "metadata": {},
   "source": [
    "### `cm106`\n",
    "\n",
    "掲載作品に関するデータを整形し，一次保存．"
   ]
  },
  {
   "cell_type": "code",
   "execution_count": 38,
   "id": "c816d84b-396e-4888-883c-e5c3d79af89c",
   "metadata": {},
   "outputs": [],
   "source": [
    "def format_cname(cname):\n",
    "    \"\"\"cnameから著者名を取得\"\"\"\n",
    "    if cname is np.nan:\n",
    "        return None\n",
    "    for x in cname:\n",
    "        if type(x) is str:\n",
    "            return x\n",
    "    raise Exception('No comic name!')"
   ]
  },
  {
   "cell_type": "code",
   "execution_count": 39,
   "id": "3fc84e0a-97cf-4750-a5da-906d5b8d1c46",
   "metadata": {},
   "outputs": [],
   "source": [
    "cm106 = read_json(ps_cm['cm106'][0])"
   ]
  },
  {
   "cell_type": "code",
   "execution_count": 40,
   "id": "f1afe234-b372-48e3-b2d1-5c787489dbd4",
   "metadata": {},
   "outputs": [],
   "source": [
    "# 雑誌掲載ジャンルのアイテムを抽出\n",
    "cs = get_items_by_genre(cm106['@graph'], '雑誌掲載')\n",
    "# DataFrame化\n",
    "df_cs = pd.DataFrame(cs)\n",
    "# カラムを整理\n",
    "df_cs = format_cols(df_cs, COLS_CS)\n",
    "# cnameを整形\n",
    "df_cs['cname'] = df_cs['cname'].apply(\n",
    "    lambda x: format_cname(x))"
   ]
  },
  {
   "cell_type": "code",
   "execution_count": 41,
   "id": "4c27e6e8-f8a8-4e51-84dd-7d0665273bca",
   "metadata": {},
   "outputs": [],
   "source": [
    "# 保存\n",
    "df_cs.to_csv(os.path.join(DIR_TMP, 'cs.csv'), index=False)"
   ]
  },
  {
   "cell_type": "markdown",
   "id": "ccc98841-5697-4581-8dbf-09d3b21e5173",
   "metadata": {},
   "source": [
    "## 加工"
   ]
  },
  {
   "cell_type": "markdown",
   "id": "50c30d9f-daf4-4e37-9b9d-61840dcb716b",
   "metadata": {},
   "source": [
    "### 結合"
   ]
  },
  {
   "cell_type": "code",
   "execution_count": 42,
   "id": "fa5c40a0-4e08-461f-bab6-a860e768858a",
   "metadata": {},
   "outputs": [],
   "source": [
    "def read_and_concat_csvs(pathes):\n",
    "    \"\"\"pathesのcsvを順番に呼び出し，concat\"\"\"\n",
    "    df_all = pd.DataFrame()\n",
    "    for p in pathes:\n",
    "        df = pd.read_csv(p)\n",
    "        df_all = pd.concat([df_all, df], ignore_index=True)\n",
    "    return df_all"
   ]
  },
  {
   "cell_type": "code",
   "execution_count": 43,
   "id": "d672e6db-a3c4-4810-add1-2739c4d02a50",
   "metadata": {},
   "outputs": [],
   "source": [
    "def sort_date(df, col_date):\n",
    "    \"\"\"dfをcol_dateでソート\"\"\"\n",
    "    df_new = df.copy()\n",
    "    df_new[col_date] = pd.to_datetime(df_new[col_date])\n",
    "    df_new = df_new.sort_values(col_date, ignore_index=True)\n",
    "    return df_new"
   ]
  },
  {
   "cell_type": "code",
   "execution_count": 44,
   "id": "21d19a73-75f7-41d0-9751-3f4101653e02",
   "metadata": {},
   "outputs": [],
   "source": [
    "# 各ファイルのパスを抽出\n",
    "ps_mis = glob.glob(f'{DIR_TMP}/mis*.csv')\n",
    "ps_eps = glob.glob(f'{DIR_TMP}/eps*.csv')\n",
    "ps_cs = glob.glob(f'{DIR_TMP}/cs*.csv')"
   ]
  },
  {
   "cell_type": "code",
   "execution_count": 45,
   "id": "ecd33f53-c9be-4e16-8efa-7dcddca8c502",
   "metadata": {},
   "outputs": [],
   "source": [
    "# データの読み出し\n",
    "df_mis = read_and_concat_csvs(ps_mis)\n",
    "df_eps = read_and_concat_csvs(ps_eps)\n",
    "df_cs = read_and_concat_csvs(ps_cs)\n",
    "mcid2mcname = read_json(os.path.join(DIR_TMP, 'mcid2mcname.json'))"
   ]
  },
  {
   "cell_type": "code",
   "execution_count": 46,
   "id": "3016e818-5a69-4780-a049-341db74752d9",
   "metadata": {},
   "outputs": [],
   "source": [
    "# 結合\n",
    "df_all = pd.merge(df_eps, df_cs, on='cid', how='left')\n",
    "df_all = pd.merge(df_all, df_mis, on='miid', how='left')\n",
    "df_all['mcname'] = df_all['mcid'].apply(\n",
    "    lambda x: mcid2mcname[x])"
   ]
  },
  {
   "cell_type": "code",
   "execution_count": 47,
   "id": "c23e7adf-9dc9-4c55-bbe6-aa7aed6b23d5",
   "metadata": {},
   "outputs": [],
   "source": [
    "# 必要な列のみ抽出\n",
    "df_all = df_all[COLS_OUT]"
   ]
  },
  {
   "cell_type": "code",
   "execution_count": 48,
   "id": "5ae04031-c64a-4b5d-8c15-0e40eca9f39b",
   "metadata": {},
   "outputs": [],
   "source": [
    "# ソート\n",
    "df_all['datePublished'] = pd.to_datetime(df_all['datePublished'])\n",
    "df_all = df_all.sort_values(['datePublished', 'pageStart'], ignore_index=True)"
   ]
  },
  {
   "cell_type": "markdown",
   "id": "b2d8d96a-e8fc-4d74-a952-47a287b14c3b",
   "metadata": {},
   "source": [
    "### 各雑誌の`datePublished`を統一"
   ]
  },
  {
   "cell_type": "code",
   "execution_count": 49,
   "id": "54be4e8c-a88a-42d8-8b22-641e2fb43d54",
   "metadata": {},
   "outputs": [
    {
     "data": {
      "text/plain": [
       "mcname\n",
       "週刊少年サンデー     1959-04-05\n",
       "週刊少年ジャンプ     1969-11-03\n",
       "週刊少年チャンピオン   1970-07-27\n",
       "週刊少年マガジン     1959-03-26\n",
       "Name: datePublished, dtype: datetime64[ns]"
      ]
     },
     "execution_count": 49,
     "metadata": {},
     "output_type": "execute_result"
    }
   ],
   "source": [
    "df_all.groupby('mcname')['datePublished'].min()"
   ]
  },
  {
   "cell_type": "code",
   "execution_count": 50,
   "id": "bc6424ba-5e35-4cbd-af8a-f6807af4e1b1",
   "metadata": {},
   "outputs": [
    {
     "data": {
      "text/plain": [
       "mcname\n",
       "週刊少年サンデー     2017-07-12\n",
       "週刊少年ジャンプ     2017-07-31\n",
       "週刊少年チャンピオン   2017-07-13\n",
       "週刊少年マガジン     2017-07-26\n",
       "Name: datePublished, dtype: datetime64[ns]"
      ]
     },
     "execution_count": 50,
     "metadata": {},
     "output_type": "execute_result"
    }
   ],
   "source": [
    "df_all.groupby('mcname')['datePublished'].max()"
   ]
  },
  {
   "cell_type": "code",
   "execution_count": 51,
   "id": "ddf5bce3-ab69-4fec-ac98-d7d237235a91",
   "metadata": {},
   "outputs": [],
   "source": [
    "# 全雑誌のうちDBに存在する期間が最も短いものに合わせる\n",
    "date_min = df_all.groupby('mcname')['datePublished'].min().max()\n",
    "date_max = df_all.groupby('mcname')['datePublished'].max().min()\n",
    "df_all = df_all[\n",
    "    (df_all['datePublished']>=date_min)&\\\n",
    "    (df_all['datePublished']<=date_max)].reset_index(drop=True)"
   ]
  },
  {
   "cell_type": "code",
   "execution_count": 52,
   "id": "16d3911e-9c5d-43bc-9e00-e9e1778bd170",
   "metadata": {},
   "outputs": [
    {
     "data": {
      "text/plain": [
       "mcname\n",
       "週刊少年サンデー     1970-08-02\n",
       "週刊少年ジャンプ     1970-07-27\n",
       "週刊少年チャンピオン   1970-07-27\n",
       "週刊少年マガジン     1970-08-02\n",
       "Name: datePublished, dtype: datetime64[ns]"
      ]
     },
     "execution_count": 52,
     "metadata": {},
     "output_type": "execute_result"
    }
   ],
   "source": [
    "df_all.groupby('mcname')['datePublished'].min()"
   ]
  },
  {
   "cell_type": "code",
   "execution_count": 53,
   "id": "6a79aa46-4ffc-440d-948a-113e8ba40f68",
   "metadata": {},
   "outputs": [
    {
     "data": {
      "text/plain": [
       "mcname\n",
       "週刊少年サンデー     2017-07-12\n",
       "週刊少年ジャンプ     2017-07-10\n",
       "週刊少年チャンピオン   2017-07-06\n",
       "週刊少年マガジン     2017-07-12\n",
       "Name: datePublished, dtype: datetime64[ns]"
      ]
     },
     "execution_count": 53,
     "metadata": {},
     "output_type": "execute_result"
    }
   ],
   "source": [
    "df_all.groupby('mcname')['datePublished'].max()"
   ]
  },
  {
   "cell_type": "code",
   "execution_count": 54,
   "id": "53085226-a048-46fd-87f3-3e62e2caf7c4",
   "metadata": {},
   "outputs": [
    {
     "data": {
      "text/plain": [
       "mcname\n",
       "週刊少年サンデー      46179\n",
       "週刊少年チャンピオン    45426\n",
       "週刊少年マガジン      45318\n",
       "週刊少年ジャンプ      43045\n",
       "dtype: int64"
      ]
     },
     "execution_count": 54,
     "metadata": {},
     "output_type": "execute_result"
    }
   ],
   "source": [
    "df_all.value_counts('mcname')"
   ]
  },
  {
   "cell_type": "markdown",
   "id": "65e0b972-04c9-43fe-be01-43794dcca395",
   "metadata": {},
   "source": [
    "### 適切な`pageStart`/`pageEnd`を持つ行のみ抽出"
   ]
  },
  {
   "cell_type": "code",
   "execution_count": 55,
   "id": "2807579c-c61f-4a76-a08d-7925f76dad0c",
   "metadata": {},
   "outputs": [],
   "source": [
    "# pageStartがpageEndより小さい値であること\n",
    "asst_ps_pe = df_all['pageStart'] <= df_all['pageEnd']\n",
    "# pageEndがMAX_PAGES内であること\n",
    "asst_pe = df_all['pageEnd'] <= MAX_PAGES"
   ]
  },
  {
   "cell_type": "code",
   "execution_count": 56,
   "id": "c48872c7-af01-46e3-9fa4-0cdc37075683",
   "metadata": {},
   "outputs": [],
   "source": [
    "# 抽出後のデータ\n",
    "df_new = df_all[\n",
    "    (asst_ps_pe&asst_pe)].reset_index(drop=True)\n",
    "# 除外したデータ\n",
    "df_drop = df_all[\n",
    "    ~(asst_ps_pe&asst_pe)].reset_index(drop=True)"
   ]
  },
  {
   "cell_type": "code",
   "execution_count": 57,
   "id": "ba17f1eb-2756-4688-9264-2e8573a4888b",
   "metadata": {},
   "outputs": [],
   "source": [
    "# 検証\n",
    "assert df_all.shape[0] == df_new.shape[0] + df_drop.shape[0]"
   ]
  },
  {
   "cell_type": "markdown",
   "id": "cdb401f6-8ac4-4bcd-81f2-968da48592cf",
   "metadata": {},
   "source": [
    "除外したデータの一覧．"
   ]
  },
  {
   "cell_type": "code",
   "execution_count": 58,
   "id": "d8ea668c-e654-43f7-9af5-611a23de86c1",
   "metadata": {},
   "outputs": [
    {
     "data": {
      "text/html": [
       "<div>\n",
       "<style scoped>\n",
       "    .dataframe tbody tr th:only-of-type {\n",
       "        vertical-align: middle;\n",
       "    }\n",
       "\n",
       "    .dataframe tbody tr th {\n",
       "        vertical-align: top;\n",
       "    }\n",
       "\n",
       "    .dataframe thead th {\n",
       "        text-align: right;\n",
       "    }\n",
       "</style>\n",
       "<table border=\"1\" class=\"dataframe\">\n",
       "  <thead>\n",
       "    <tr style=\"text-align: right;\">\n",
       "      <th></th>\n",
       "      <th>mcname</th>\n",
       "      <th>miid</th>\n",
       "      <th>miname</th>\n",
       "      <th>cid</th>\n",
       "      <th>cname</th>\n",
       "      <th>epname</th>\n",
       "      <th>creator</th>\n",
       "      <th>pageStart</th>\n",
       "      <th>pageEnd</th>\n",
       "      <th>numberOfPages</th>\n",
       "      <th>datePublished</th>\n",
       "      <th>price</th>\n",
       "      <th>publisher</th>\n",
       "      <th>editor</th>\n",
       "    </tr>\n",
       "  </thead>\n",
       "  <tbody>\n",
       "    <tr>\n",
       "      <th>0</th>\n",
       "      <td>週刊少年ジャンプ</td>\n",
       "      <td>M544705</td>\n",
       "      <td>週刊少年ジャンプ 1972年 表示号数30</td>\n",
       "      <td>C88437</td>\n",
       "      <td>くそ坊主ガン鉄</td>\n",
       "      <td>母よどこにの巻</td>\n",
       "      <td>手無功</td>\n",
       "      <td>220.0</td>\n",
       "      <td>219.0</td>\n",
       "      <td>308.0</td>\n",
       "      <td>1972-07-17</td>\n",
       "      <td>100.0</td>\n",
       "      <td>集英社　∥　シュウエイシャ</td>\n",
       "      <td>長野規</td>\n",
       "    </tr>\n",
       "    <tr>\n",
       "      <th>1</th>\n",
       "      <td>週刊少年ジャンプ</td>\n",
       "      <td>M544697</td>\n",
       "      <td>週刊少年ジャンプ 1972年 表示号数39</td>\n",
       "      <td>C88021</td>\n",
       "      <td>あらし!三匹</td>\n",
       "      <td>水上スキーの巻</td>\n",
       "      <td>池沢さとし</td>\n",
       "      <td>290.0</td>\n",
       "      <td>289.0</td>\n",
       "      <td>316.0</td>\n",
       "      <td>1972-09-11</td>\n",
       "      <td>100.0</td>\n",
       "      <td>集英社</td>\n",
       "      <td>長野規</td>\n",
       "    </tr>\n",
       "    <tr>\n",
       "      <th>2</th>\n",
       "      <td>週刊少年ジャンプ</td>\n",
       "      <td>M544696</td>\n",
       "      <td>週刊少年ジャンプ 1972年 表示号数40</td>\n",
       "      <td>C89703</td>\n",
       "      <td>燃えて走れ!</td>\n",
       "      <td>NaN</td>\n",
       "      <td>村上もとか</td>\n",
       "      <td>107.0</td>\n",
       "      <td>106.0</td>\n",
       "      <td>316.0</td>\n",
       "      <td>1972-09-18</td>\n",
       "      <td>100.0</td>\n",
       "      <td>集英社　∥　シュウエイシャ</td>\n",
       "      <td>長野規</td>\n",
       "    </tr>\n",
       "    <tr>\n",
       "      <th>3</th>\n",
       "      <td>週刊少年サンデー</td>\n",
       "      <td>M579126</td>\n",
       "      <td>週刊少年サンデー 1973年 表示号数44</td>\n",
       "      <td>C92856</td>\n",
       "      <td>ダメおやじ</td>\n",
       "      <td>NaN</td>\n",
       "      <td>古谷三敏</td>\n",
       "      <td>189.0</td>\n",
       "      <td>150.0</td>\n",
       "      <td>334.0</td>\n",
       "      <td>1973-10-21</td>\n",
       "      <td>120.0</td>\n",
       "      <td>小学館　∥　ショウガクカン</td>\n",
       "      <td>井上敬三</td>\n",
       "    </tr>\n",
       "    <tr>\n",
       "      <th>4</th>\n",
       "      <td>週刊少年ジャンプ</td>\n",
       "      <td>M544561</td>\n",
       "      <td>週刊少年ジャンプ 1975年 表示号数20</td>\n",
       "      <td>C88276</td>\n",
       "      <td>学ちゃんとメリー</td>\n",
       "      <td>NaN</td>\n",
       "      <td>大画としゆき</td>\n",
       "      <td>52.0</td>\n",
       "      <td>1.0</td>\n",
       "      <td>268.0</td>\n",
       "      <td>1975-05-19</td>\n",
       "      <td>130.0</td>\n",
       "      <td>集英社　∥　シュウエイシャ</td>\n",
       "      <td>中野祐介</td>\n",
       "    </tr>\n",
       "    <tr>\n",
       "      <th>5</th>\n",
       "      <td>週刊少年サンデー</td>\n",
       "      <td>M578825</td>\n",
       "      <td>週刊少年サンデー 1979年 表示号数37</td>\n",
       "      <td>C92118</td>\n",
       "      <td>あばれ大海</td>\n",
       "      <td>にわかライダーの巻</td>\n",
       "      <td>六田登</td>\n",
       "      <td>265.0</td>\n",
       "      <td>232.0</td>\n",
       "      <td>380.0</td>\n",
       "      <td>1979-09-09</td>\n",
       "      <td>170.0</td>\n",
       "      <td>小学館</td>\n",
       "      <td>田中一喜</td>\n",
       "    </tr>\n",
       "    <tr>\n",
       "      <th>6</th>\n",
       "      <td>週刊少年ジャンプ</td>\n",
       "      <td>M544336</td>\n",
       "      <td>週刊少年ジャンプ 1979年 表示号数44</td>\n",
       "      <td>C89510</td>\n",
       "      <td>ふたりのダービー</td>\n",
       "      <td>NaN</td>\n",
       "      <td>田中つかさ</td>\n",
       "      <td>5.0</td>\n",
       "      <td>0.0</td>\n",
       "      <td>344.0</td>\n",
       "      <td>1979-10-29</td>\n",
       "      <td>150.0</td>\n",
       "      <td>集英社　∥　シュウエイシャ</td>\n",
       "      <td>西村繁男</td>\n",
       "    </tr>\n",
       "    <tr>\n",
       "      <th>7</th>\n",
       "      <td>週刊少年ジャンプ</td>\n",
       "      <td>M544335</td>\n",
       "      <td>週刊少年ジャンプ 1979年 表示号数45</td>\n",
       "      <td>C89510</td>\n",
       "      <td>ふたりのダービー</td>\n",
       "      <td>NaN</td>\n",
       "      <td>田中つかさ</td>\n",
       "      <td>67.0</td>\n",
       "      <td>NaN</td>\n",
       "      <td>336.0</td>\n",
       "      <td>1979-11-05</td>\n",
       "      <td>150.0</td>\n",
       "      <td>集英社　∥　シュウエイシャ</td>\n",
       "      <td>西村繁男</td>\n",
       "    </tr>\n",
       "    <tr>\n",
       "      <th>8</th>\n",
       "      <td>週刊少年ジャンプ</td>\n",
       "      <td>M544334</td>\n",
       "      <td>週刊少年ジャンプ 1979年 表示号数46</td>\n",
       "      <td>C89510</td>\n",
       "      <td>ふたりのダービー</td>\n",
       "      <td>NaN</td>\n",
       "      <td>田中つかさ</td>\n",
       "      <td>165.0</td>\n",
       "      <td>NaN</td>\n",
       "      <td>336.0</td>\n",
       "      <td>1979-11-12</td>\n",
       "      <td>150.0</td>\n",
       "      <td>集英社　∥　シュウエイシャ</td>\n",
       "      <td>西村繁男</td>\n",
       "    </tr>\n",
       "    <tr>\n",
       "      <th>9</th>\n",
       "      <td>週刊少年ジャンプ</td>\n",
       "      <td>M544331</td>\n",
       "      <td>週刊少年ジャンプ 1979年 表示号数48</td>\n",
       "      <td>C89510</td>\n",
       "      <td>ふたりのダービー</td>\n",
       "      <td>NaN</td>\n",
       "      <td>田中つかさ</td>\n",
       "      <td>235.0</td>\n",
       "      <td>0.0</td>\n",
       "      <td>382.0</td>\n",
       "      <td>1979-11-26</td>\n",
       "      <td>170.0</td>\n",
       "      <td>集英社　∥　シュウエイシャ</td>\n",
       "      <td>西村繁男</td>\n",
       "    </tr>\n",
       "    <tr>\n",
       "      <th>10</th>\n",
       "      <td>週刊少年ジャンプ</td>\n",
       "      <td>M544330</td>\n",
       "      <td>週刊少年ジャンプ 1979年 表示号数49</td>\n",
       "      <td>C89510</td>\n",
       "      <td>ふたりのダービー</td>\n",
       "      <td>NaN</td>\n",
       "      <td>田中つかさ</td>\n",
       "      <td>143.0</td>\n",
       "      <td>NaN</td>\n",
       "      <td>336.0</td>\n",
       "      <td>1979-12-03</td>\n",
       "      <td>150.0</td>\n",
       "      <td>集英社　∥　シュウエイシャ</td>\n",
       "      <td>西村繁男</td>\n",
       "    </tr>\n",
       "    <tr>\n",
       "      <th>11</th>\n",
       "      <td>週刊少年ジャンプ</td>\n",
       "      <td>M544328</td>\n",
       "      <td>週刊少年ジャンプ 1979年 表示号数51</td>\n",
       "      <td>C89510</td>\n",
       "      <td>ふたりのダービー</td>\n",
       "      <td>NaN</td>\n",
       "      <td>田中つかさ</td>\n",
       "      <td>223.0</td>\n",
       "      <td>NaN</td>\n",
       "      <td>336.0</td>\n",
       "      <td>1979-12-17</td>\n",
       "      <td>150.0</td>\n",
       "      <td>集英社　∥　シュウエイシャ</td>\n",
       "      <td>西村繁男</td>\n",
       "    </tr>\n",
       "    <tr>\n",
       "      <th>12</th>\n",
       "      <td>週刊少年ジャンプ</td>\n",
       "      <td>M544327</td>\n",
       "      <td>週刊少年ジャンプ 1979年 表示号数52</td>\n",
       "      <td>C89510</td>\n",
       "      <td>ふたりのダービー</td>\n",
       "      <td>NaN</td>\n",
       "      <td>田中つかさ</td>\n",
       "      <td>187.0</td>\n",
       "      <td>NaN</td>\n",
       "      <td>384.0</td>\n",
       "      <td>1979-12-24</td>\n",
       "      <td>170.0</td>\n",
       "      <td>集英社　∥　シュウエイシャ</td>\n",
       "      <td>西村繁男</td>\n",
       "    </tr>\n",
       "    <tr>\n",
       "      <th>13</th>\n",
       "      <td>週刊少年ジャンプ</td>\n",
       "      <td>M544324</td>\n",
       "      <td>週刊少年ジャンプ 1980年 表示号数3</td>\n",
       "      <td>C88057</td>\n",
       "      <td>いずみちゃんグラフィティー</td>\n",
       "      <td>NaN</td>\n",
       "      <td>金井たつお</td>\n",
       "      <td>60.0</td>\n",
       "      <td>0.0</td>\n",
       "      <td>416.0</td>\n",
       "      <td>1980-01-21</td>\n",
       "      <td>170.0</td>\n",
       "      <td>集英社　∥　シュウエイシャ</td>\n",
       "      <td>西村繁男</td>\n",
       "    </tr>\n",
       "    <tr>\n",
       "      <th>14</th>\n",
       "      <td>週刊少年ジャンプ</td>\n",
       "      <td>M544324</td>\n",
       "      <td>週刊少年ジャンプ 1980年 表示号数3</td>\n",
       "      <td>C89510</td>\n",
       "      <td>ふたりのダービー</td>\n",
       "      <td>NaN</td>\n",
       "      <td>田中つかさ</td>\n",
       "      <td>319.0</td>\n",
       "      <td>0.0</td>\n",
       "      <td>416.0</td>\n",
       "      <td>1980-01-21</td>\n",
       "      <td>170.0</td>\n",
       "      <td>集英社　∥　シュウエイシャ</td>\n",
       "      <td>西村繁男</td>\n",
       "    </tr>\n",
       "    <tr>\n",
       "      <th>15</th>\n",
       "      <td>週刊少年サンデー</td>\n",
       "      <td>M578803</td>\n",
       "      <td>週刊少年サンデー 1980年 表示号数9</td>\n",
       "      <td>C93296</td>\n",
       "      <td>ドロファイター</td>\n",
       "      <td>NaN</td>\n",
       "      <td>村上もとか</td>\n",
       "      <td>247.0</td>\n",
       "      <td>246.0</td>\n",
       "      <td>380.0</td>\n",
       "      <td>1980-02-24</td>\n",
       "      <td>170.0</td>\n",
       "      <td>小学館　∥　ショウガクカン</td>\n",
       "      <td>田中一喜</td>\n",
       "    </tr>\n",
       "    <tr>\n",
       "      <th>16</th>\n",
       "      <td>週刊少年サンデー</td>\n",
       "      <td>M578597</td>\n",
       "      <td>週刊少年サンデー 1984年 表示号数5</td>\n",
       "      <td>C93515</td>\n",
       "      <td>ラブZ</td>\n",
       "      <td>D 愛せない　⑭</td>\n",
       "      <td>やまさき拓味</td>\n",
       "      <td>221.0</td>\n",
       "      <td>0.0</td>\n",
       "      <td>388.0</td>\n",
       "      <td>1984-01-18</td>\n",
       "      <td>190.0</td>\n",
       "      <td>小学館　∥　ショウガクカン</td>\n",
       "      <td>田中一喜</td>\n",
       "    </tr>\n",
       "    <tr>\n",
       "      <th>17</th>\n",
       "      <td>週刊少年マガジン</td>\n",
       "      <td>M536783</td>\n",
       "      <td>週刊少年マガジン 1984年 表示号数11</td>\n",
       "      <td>C90685</td>\n",
       "      <td>コンポラ先生</td>\n",
       "      <td>オンボロバスが大変身!?の巻</td>\n",
       "      <td>もとはしまさひで</td>\n",
       "      <td>139.0</td>\n",
       "      <td>1578.0</td>\n",
       "      <td>348.0</td>\n",
       "      <td>1984-02-29</td>\n",
       "      <td>180.0</td>\n",
       "      <td>講談社　∥　コウダンシャ</td>\n",
       "      <td>三樹創作</td>\n",
       "    </tr>\n",
       "    <tr>\n",
       "      <th>18</th>\n",
       "      <td>週刊少年チャンピオン</td>\n",
       "      <td>M557460</td>\n",
       "      <td>週刊少年チャンピオン 1986年 表示号数22</td>\n",
       "      <td>C94728</td>\n",
       "      <td>たつみ!センセーション</td>\n",
       "      <td>NaN</td>\n",
       "      <td>ゆめおい</td>\n",
       "      <td>319.0</td>\n",
       "      <td>38.0</td>\n",
       "      <td>348.0</td>\n",
       "      <td>1986-05-09</td>\n",
       "      <td>180.0</td>\n",
       "      <td>秋田書店　∥　アキタショテン</td>\n",
       "      <td>壁村耐三</td>\n",
       "    </tr>\n",
       "    <tr>\n",
       "      <th>19</th>\n",
       "      <td>週刊少年チャンピオン</td>\n",
       "      <td>M557411</td>\n",
       "      <td>週刊少年チャンピオン 1987年 表示号数21</td>\n",
       "      <td>C94102</td>\n",
       "      <td>4P田中くん</td>\n",
       "      <td>第41話 実力発揮、春日高校</td>\n",
       "      <td>川三番地</td>\n",
       "      <td>49.0</td>\n",
       "      <td>48.0</td>\n",
       "      <td>364.0</td>\n",
       "      <td>1987-05-01</td>\n",
       "      <td>180.0</td>\n",
       "      <td>秋田書店　∥　アキタショテン</td>\n",
       "      <td>壁村耐三</td>\n",
       "    </tr>\n",
       "    <tr>\n",
       "      <th>20</th>\n",
       "      <td>週刊少年マガジン</td>\n",
       "      <td>M536541</td>\n",
       "      <td>週刊少年マガジン 1988年 表示号数46</td>\n",
       "      <td>C90588</td>\n",
       "      <td>激烈バカ</td>\n",
       "      <td>第36話 前夜祭!!!　／　ガンバレ日本!!!　／　強引!なんちゃって野郎!!　／　鎌倉野郎...</td>\n",
       "      <td>斉藤富士夫</td>\n",
       "      <td>359.0</td>\n",
       "      <td>261.0</td>\n",
       "      <td>396.0</td>\n",
       "      <td>1988-10-26</td>\n",
       "      <td>180.0</td>\n",
       "      <td>講談社　∥　コウダンシャ</td>\n",
       "      <td>五十嵐隆夫</td>\n",
       "    </tr>\n",
       "    <tr>\n",
       "      <th>21</th>\n",
       "      <td>週刊少年チャンピオン</td>\n",
       "      <td>M557113</td>\n",
       "      <td>週刊少年チャンピオン 1993年 表示号数16</td>\n",
       "      <td>C94561</td>\n",
       "      <td>グラップラー刃牙</td>\n",
       "      <td>第73話 長老</td>\n",
       "      <td>板垣恵介</td>\n",
       "      <td>9999.0</td>\n",
       "      <td>30.0</td>\n",
       "      <td>412.0</td>\n",
       "      <td>1993-04-01</td>\n",
       "      <td>200.0</td>\n",
       "      <td>秋田書店　∥　アキタショテン</td>\n",
       "      <td>岡本三司</td>\n",
       "    </tr>\n",
       "    <tr>\n",
       "      <th>22</th>\n",
       "      <td>週刊少年チャンピオン</td>\n",
       "      <td>M557112</td>\n",
       "      <td>週刊少年チャンピオン 1993年 表示号数17</td>\n",
       "      <td>C93997</td>\n",
       "      <td>俺たち鶴高ラグビー部</td>\n",
       "      <td>タックル〔□14〕キャプテンシー!!</td>\n",
       "      <td>山本幸四郎</td>\n",
       "      <td>359.0</td>\n",
       "      <td>358.0</td>\n",
       "      <td>412.0</td>\n",
       "      <td>1993-04-08</td>\n",
       "      <td>200.0</td>\n",
       "      <td>秋田書店　∥　アキタショテン</td>\n",
       "      <td>岡本三司</td>\n",
       "    </tr>\n",
       "    <tr>\n",
       "      <th>23</th>\n",
       "      <td>週刊少年チャンピオン</td>\n",
       "      <td>M557103</td>\n",
       "      <td>週刊少年チャンピオン 1993年 表示号数27</td>\n",
       "      <td>C95825</td>\n",
       "      <td>女郎</td>\n",
       "      <td>〔○52〕時間目 タタリじゃあ～</td>\n",
       "      <td>笠原倫</td>\n",
       "      <td>63.0</td>\n",
       "      <td>0.0</td>\n",
       "      <td>412.0</td>\n",
       "      <td>1993-06-17</td>\n",
       "      <td>200.0</td>\n",
       "      <td>秋田書店　∥　アキタショテン</td>\n",
       "      <td>岡本三司</td>\n",
       "    </tr>\n",
       "    <tr>\n",
       "      <th>24</th>\n",
       "      <td>週刊少年サンデー</td>\n",
       "      <td>M578069</td>\n",
       "      <td>週刊少年サンデー 1994年 表示号数24</td>\n",
       "      <td>C92071</td>\n",
       "      <td>FCレッドカード</td>\n",
       "      <td>GOAL39　／　美しさは罪　／　心うらはら　／　プライド　／　だまされた!　／　謎の指サイ...</td>\n",
       "      <td>しろうず秀明</td>\n",
       "      <td>248.0</td>\n",
       "      <td>247.0</td>\n",
       "      <td>420.0</td>\n",
       "      <td>1994-06-01</td>\n",
       "      <td>200.0</td>\n",
       "      <td>小学館　∥　ショウガクカン</td>\n",
       "      <td>平山隆</td>\n",
       "    </tr>\n",
       "    <tr>\n",
       "      <th>25</th>\n",
       "      <td>週刊少年サンデー</td>\n",
       "      <td>M578067</td>\n",
       "      <td>週刊少年サンデー 1994年 表示号数26</td>\n",
       "      <td>C92627</td>\n",
       "      <td>川添孝一のJリーグカルチョクラブ</td>\n",
       "      <td>Kick off23 前期優勝チームは、はたして…</td>\n",
       "      <td>NaN</td>\n",
       "      <td>156.0</td>\n",
       "      <td>155.0</td>\n",
       "      <td>408.0</td>\n",
       "      <td>1994-06-15</td>\n",
       "      <td>200.0</td>\n",
       "      <td>小学館　∥　ショウガクカン</td>\n",
       "      <td>平山隆</td>\n",
       "    </tr>\n",
       "    <tr>\n",
       "      <th>26</th>\n",
       "      <td>週刊少年ジャンプ</td>\n",
       "      <td>M543567</td>\n",
       "      <td>週刊少年ジャンプ 1995年 表示号数1</td>\n",
       "      <td>C88491</td>\n",
       "      <td>ジョジョの奇妙な冒険</td>\n",
       "      <td>思い出したぞ!</td>\n",
       "      <td>荒木飛呂彦</td>\n",
       "      <td>2275.0</td>\n",
       "      <td>293.0</td>\n",
       "      <td>470.0</td>\n",
       "      <td>1995-01-01</td>\n",
       "      <td>200.0</td>\n",
       "      <td>集英社　∥　シュウエイシャ</td>\n",
       "      <td>堀江信彦</td>\n",
       "    </tr>\n",
       "    <tr>\n",
       "      <th>27</th>\n",
       "      <td>週刊少年マガジン</td>\n",
       "      <td>M536070</td>\n",
       "      <td>週刊少年マガジン 1998年 表示号数16</td>\n",
       "      <td>C91434</td>\n",
       "      <td>はじめの一歩</td>\n",
       "      <td>Round386　弱点</td>\n",
       "      <td>森川ジョージ</td>\n",
       "      <td>171.0</td>\n",
       "      <td>NaN</td>\n",
       "      <td>468.0</td>\n",
       "      <td>1998-04-01</td>\n",
       "      <td>220.0</td>\n",
       "      <td>講談社　∥　コウダンシャ</td>\n",
       "      <td>野内雅宏</td>\n",
       "    </tr>\n",
       "    <tr>\n",
       "      <th>28</th>\n",
       "      <td>週刊少年ジャンプ</td>\n",
       "      <td>M543400</td>\n",
       "      <td>週刊少年ジャンプ 1998年 表示号数25</td>\n",
       "      <td>C89166</td>\n",
       "      <td>封神演義</td>\n",
       "      <td>第90回 趙公明攻略Ⅵ-蝉玉・ストーカー被害-</td>\n",
       "      <td>藤崎竜</td>\n",
       "      <td>359.0</td>\n",
       "      <td>349.0</td>\n",
       "      <td>456.0</td>\n",
       "      <td>1998-06-01</td>\n",
       "      <td>220.0</td>\n",
       "      <td>集英社　∥　シュウエイシャ</td>\n",
       "      <td>鳥嶋和彦</td>\n",
       "    </tr>\n",
       "    <tr>\n",
       "      <th>29</th>\n",
       "      <td>週刊少年マガジン</td>\n",
       "      <td>M536060</td>\n",
       "      <td>週刊少年マガジン 1998年 表示号数27</td>\n",
       "      <td>C89971</td>\n",
       "      <td>Dreams</td>\n",
       "      <td>第81話　特訓の成果</td>\n",
       "      <td>川三番地</td>\n",
       "      <td>233.0</td>\n",
       "      <td>232.0</td>\n",
       "      <td>470.0</td>\n",
       "      <td>1998-06-17</td>\n",
       "      <td>230.0</td>\n",
       "      <td>講談社　∥　コウダンシャ</td>\n",
       "      <td>野内雅宏</td>\n",
       "    </tr>\n",
       "    <tr>\n",
       "      <th>30</th>\n",
       "      <td>週刊少年ジャンプ</td>\n",
       "      <td>M543372</td>\n",
       "      <td>週刊少年ジャンプ 1999年 表示号数2</td>\n",
       "      <td>C89162</td>\n",
       "      <td>ホイッスル!</td>\n",
       "      <td>俺の居場所!の巻</td>\n",
       "      <td>樋口大輔</td>\n",
       "      <td>343.0</td>\n",
       "      <td>341.0</td>\n",
       "      <td>452.0</td>\n",
       "      <td>1999-01-08</td>\n",
       "      <td>230.0</td>\n",
       "      <td>集英社　∥　シュウエイシャ</td>\n",
       "      <td>鳥島和彦</td>\n",
       "    </tr>\n",
       "    <tr>\n",
       "      <th>31</th>\n",
       "      <td>週刊少年ジャンプ</td>\n",
       "      <td>M543371</td>\n",
       "      <td>週刊少年ジャンプ 1999年 表示号数4</td>\n",
       "      <td>C87726</td>\n",
       "      <td>I''s</td>\n",
       "      <td>ウラ目ウラ目</td>\n",
       "      <td>桂正和</td>\n",
       "      <td>281.0</td>\n",
       "      <td>207.0</td>\n",
       "      <td>512.0</td>\n",
       "      <td>1999-01-15</td>\n",
       "      <td>230.0</td>\n",
       "      <td>集英社　∥　シュウエイシャ</td>\n",
       "      <td>鳥島和彦</td>\n",
       "    </tr>\n",
       "    <tr>\n",
       "      <th>32</th>\n",
       "      <td>週刊少年チャンピオン</td>\n",
       "      <td>M556789</td>\n",
       "      <td>週刊少年チャンピオン 1999年 表示号数48</td>\n",
       "      <td>C94192</td>\n",
       "      <td>O-HA-YO</td>\n",
       "      <td>にらめっこ　／　秋の高座　／　卵を割る娘　／　メロンの恋人たち　／　恋愛小説　／　石庭　／　...</td>\n",
       "      <td>川島よしお</td>\n",
       "      <td>198.0</td>\n",
       "      <td>101.0</td>\n",
       "      <td>444.0</td>\n",
       "      <td>1999-11-04</td>\n",
       "      <td>220.0</td>\n",
       "      <td>秋田書店　∥　アキタショテン</td>\n",
       "      <td>大塚公平</td>\n",
       "    </tr>\n",
       "    <tr>\n",
       "      <th>33</th>\n",
       "      <td>週刊少年ジャンプ</td>\n",
       "      <td>M543308</td>\n",
       "      <td>週刊少年ジャンプ 2000年 表示号数20</td>\n",
       "      <td>C88492</td>\n",
       "      <td>ジョジョの奇妙な冒険 Part6 ストーンオーシャン</td>\n",
       "      <td>捕獲計画</td>\n",
       "      <td>荒木飛呂彦</td>\n",
       "      <td>289.0</td>\n",
       "      <td>208.0</td>\n",
       "      <td>450.0</td>\n",
       "      <td>2000-05-01</td>\n",
       "      <td>220.0</td>\n",
       "      <td>集英社　∥　シュウエイシャ</td>\n",
       "      <td>鳥嶋和彦</td>\n",
       "    </tr>\n",
       "    <tr>\n",
       "      <th>34</th>\n",
       "      <td>週刊少年マガジン</td>\n",
       "      <td>M535433</td>\n",
       "      <td>週刊少年マガジン 2011年 表示号数18</td>\n",
       "      <td>C89995</td>\n",
       "      <td>GTO</td>\n",
       "      <td>SHONAN 14DAYS LESSON.60 この手につかんだ未来地図</td>\n",
       "      <td>藤沢とおる</td>\n",
       "      <td>345.0</td>\n",
       "      <td>264.0</td>\n",
       "      <td>479.0</td>\n",
       "      <td>2011-04-13</td>\n",
       "      <td>248.0</td>\n",
       "      <td>講談社　∥　コウダンシャ</td>\n",
       "      <td>森田浩章</td>\n",
       "    </tr>\n",
       "    <tr>\n",
       "      <th>35</th>\n",
       "      <td>週刊少年マガジン</td>\n",
       "      <td>M675760</td>\n",
       "      <td>週刊少年マガジン 2015年 表示号数16</td>\n",
       "      <td>C110993</td>\n",
       "      <td>リアルアカウント</td>\n",
       "      <td>account 13 Real ＆ Virtual</td>\n",
       "      <td>渡辺静</td>\n",
       "      <td>374.0</td>\n",
       "      <td>298.0</td>\n",
       "      <td>236.0</td>\n",
       "      <td>2015-04-01</td>\n",
       "      <td>260.0</td>\n",
       "      <td>NaN</td>\n",
       "      <td>菅原喜一郎</td>\n",
       "    </tr>\n",
       "    <tr>\n",
       "      <th>36</th>\n",
       "      <td>週刊少年サンデー</td>\n",
       "      <td>M675826</td>\n",
       "      <td>週刊少年サンデー 2015年 表示号数35</td>\n",
       "      <td>C110901</td>\n",
       "      <td>戦争劇場</td>\n",
       "      <td>第48戦:手を出したら最後…</td>\n",
       "      <td>土星フジコ</td>\n",
       "      <td>601.0</td>\n",
       "      <td>308.0</td>\n",
       "      <td>506.0</td>\n",
       "      <td>2015-07-29</td>\n",
       "      <td>270.0</td>\n",
       "      <td>NaN</td>\n",
       "      <td>市原武法</td>\n",
       "    </tr>\n",
       "  </tbody>\n",
       "</table>\n",
       "</div>"
      ],
      "text/plain": [
       "        mcname     miid                   miname      cid  \\\n",
       "0     週刊少年ジャンプ  M544705    週刊少年ジャンプ 1972年 表示号数30   C88437   \n",
       "1     週刊少年ジャンプ  M544697    週刊少年ジャンプ 1972年 表示号数39   C88021   \n",
       "2     週刊少年ジャンプ  M544696    週刊少年ジャンプ 1972年 表示号数40   C89703   \n",
       "3     週刊少年サンデー  M579126    週刊少年サンデー 1973年 表示号数44   C92856   \n",
       "4     週刊少年ジャンプ  M544561    週刊少年ジャンプ 1975年 表示号数20   C88276   \n",
       "5     週刊少年サンデー  M578825    週刊少年サンデー 1979年 表示号数37   C92118   \n",
       "6     週刊少年ジャンプ  M544336    週刊少年ジャンプ 1979年 表示号数44   C89510   \n",
       "7     週刊少年ジャンプ  M544335    週刊少年ジャンプ 1979年 表示号数45   C89510   \n",
       "8     週刊少年ジャンプ  M544334    週刊少年ジャンプ 1979年 表示号数46   C89510   \n",
       "9     週刊少年ジャンプ  M544331    週刊少年ジャンプ 1979年 表示号数48   C89510   \n",
       "10    週刊少年ジャンプ  M544330    週刊少年ジャンプ 1979年 表示号数49   C89510   \n",
       "11    週刊少年ジャンプ  M544328    週刊少年ジャンプ 1979年 表示号数51   C89510   \n",
       "12    週刊少年ジャンプ  M544327    週刊少年ジャンプ 1979年 表示号数52   C89510   \n",
       "13    週刊少年ジャンプ  M544324     週刊少年ジャンプ 1980年 表示号数3   C88057   \n",
       "14    週刊少年ジャンプ  M544324     週刊少年ジャンプ 1980年 表示号数3   C89510   \n",
       "15    週刊少年サンデー  M578803     週刊少年サンデー 1980年 表示号数9   C93296   \n",
       "16    週刊少年サンデー  M578597     週刊少年サンデー 1984年 表示号数5   C93515   \n",
       "17    週刊少年マガジン  M536783    週刊少年マガジン 1984年 表示号数11   C90685   \n",
       "18  週刊少年チャンピオン  M557460  週刊少年チャンピオン 1986年 表示号数22   C94728   \n",
       "19  週刊少年チャンピオン  M557411  週刊少年チャンピオン 1987年 表示号数21   C94102   \n",
       "20    週刊少年マガジン  M536541    週刊少年マガジン 1988年 表示号数46   C90588   \n",
       "21  週刊少年チャンピオン  M557113  週刊少年チャンピオン 1993年 表示号数16   C94561   \n",
       "22  週刊少年チャンピオン  M557112  週刊少年チャンピオン 1993年 表示号数17   C93997   \n",
       "23  週刊少年チャンピオン  M557103  週刊少年チャンピオン 1993年 表示号数27   C95825   \n",
       "24    週刊少年サンデー  M578069    週刊少年サンデー 1994年 表示号数24   C92071   \n",
       "25    週刊少年サンデー  M578067    週刊少年サンデー 1994年 表示号数26   C92627   \n",
       "26    週刊少年ジャンプ  M543567     週刊少年ジャンプ 1995年 表示号数1   C88491   \n",
       "27    週刊少年マガジン  M536070    週刊少年マガジン 1998年 表示号数16   C91434   \n",
       "28    週刊少年ジャンプ  M543400    週刊少年ジャンプ 1998年 表示号数25   C89166   \n",
       "29    週刊少年マガジン  M536060    週刊少年マガジン 1998年 表示号数27   C89971   \n",
       "30    週刊少年ジャンプ  M543372     週刊少年ジャンプ 1999年 表示号数2   C89162   \n",
       "31    週刊少年ジャンプ  M543371     週刊少年ジャンプ 1999年 表示号数4   C87726   \n",
       "32  週刊少年チャンピオン  M556789  週刊少年チャンピオン 1999年 表示号数48   C94192   \n",
       "33    週刊少年ジャンプ  M543308    週刊少年ジャンプ 2000年 表示号数20   C88492   \n",
       "34    週刊少年マガジン  M535433    週刊少年マガジン 2011年 表示号数18   C89995   \n",
       "35    週刊少年マガジン  M675760    週刊少年マガジン 2015年 表示号数16  C110993   \n",
       "36    週刊少年サンデー  M675826    週刊少年サンデー 2015年 表示号数35  C110901   \n",
       "\n",
       "                         cname  \\\n",
       "0                      くそ坊主ガン鉄   \n",
       "1                       あらし!三匹   \n",
       "2                       燃えて走れ!   \n",
       "3                        ダメおやじ   \n",
       "4                     学ちゃんとメリー   \n",
       "5                        あばれ大海   \n",
       "6                     ふたりのダービー   \n",
       "7                     ふたりのダービー   \n",
       "8                     ふたりのダービー   \n",
       "9                     ふたりのダービー   \n",
       "10                    ふたりのダービー   \n",
       "11                    ふたりのダービー   \n",
       "12                    ふたりのダービー   \n",
       "13               いずみちゃんグラフィティー   \n",
       "14                    ふたりのダービー   \n",
       "15                     ドロファイター   \n",
       "16                         ラブZ   \n",
       "17                      コンポラ先生   \n",
       "18                 たつみ!センセーション   \n",
       "19                      4P田中くん   \n",
       "20                        激烈バカ   \n",
       "21                    グラップラー刃牙   \n",
       "22                  俺たち鶴高ラグビー部   \n",
       "23                          女郎   \n",
       "24                    FCレッドカード   \n",
       "25            川添孝一のJリーグカルチョクラブ   \n",
       "26                  ジョジョの奇妙な冒険   \n",
       "27                      はじめの一歩   \n",
       "28                        封神演義   \n",
       "29                      Dreams   \n",
       "30                      ホイッスル!   \n",
       "31                        I''s   \n",
       "32                     O-HA-YO   \n",
       "33  ジョジョの奇妙な冒険 Part6 ストーンオーシャン   \n",
       "34                         GTO   \n",
       "35                    リアルアカウント   \n",
       "36                        戦争劇場   \n",
       "\n",
       "                                               epname   creator  pageStart  \\\n",
       "0                                             母よどこにの巻       手無功      220.0   \n",
       "1                                             水上スキーの巻     池沢さとし      290.0   \n",
       "2                                                 NaN     村上もとか      107.0   \n",
       "3                                                 NaN      古谷三敏      189.0   \n",
       "4                                                 NaN    大画としゆき       52.0   \n",
       "5                                           にわかライダーの巻       六田登      265.0   \n",
       "6                                                 NaN     田中つかさ        5.0   \n",
       "7                                                 NaN     田中つかさ       67.0   \n",
       "8                                                 NaN     田中つかさ      165.0   \n",
       "9                                                 NaN     田中つかさ      235.0   \n",
       "10                                                NaN     田中つかさ      143.0   \n",
       "11                                                NaN     田中つかさ      223.0   \n",
       "12                                                NaN     田中つかさ      187.0   \n",
       "13                                                NaN     金井たつお       60.0   \n",
       "14                                                NaN     田中つかさ      319.0   \n",
       "15                                                NaN     村上もとか      247.0   \n",
       "16                                           D 愛せない　⑭    やまさき拓味      221.0   \n",
       "17                                     オンボロバスが大変身!?の巻  もとはしまさひで      139.0   \n",
       "18                                                NaN      ゆめおい      319.0   \n",
       "19                                     第41話 実力発揮、春日高校      川三番地       49.0   \n",
       "20  第36話 前夜祭!!!　／　ガンバレ日本!!!　／　強引!なんちゃって野郎!!　／　鎌倉野郎...     斉藤富士夫      359.0   \n",
       "21                                            第73話 長老      板垣恵介     9999.0   \n",
       "22                                 タックル〔□14〕キャプテンシー!!     山本幸四郎      359.0   \n",
       "23                                   〔○52〕時間目 タタリじゃあ～       笠原倫       63.0   \n",
       "24  GOAL39　／　美しさは罪　／　心うらはら　／　プライド　／　だまされた!　／　謎の指サイ...    しろうず秀明      248.0   \n",
       "25                          Kick off23 前期優勝チームは、はたして…       NaN      156.0   \n",
       "26                                            思い出したぞ!     荒木飛呂彦     2275.0   \n",
       "27                                        Round386　弱点    森川ジョージ      171.0   \n",
       "28                            第90回 趙公明攻略Ⅵ-蝉玉・ストーカー被害-       藤崎竜      359.0   \n",
       "29                                         第81話　特訓の成果      川三番地      233.0   \n",
       "30                                           俺の居場所!の巻      樋口大輔      343.0   \n",
       "31                                             ウラ目ウラ目       桂正和      281.0   \n",
       "32  にらめっこ　／　秋の高座　／　卵を割る娘　／　メロンの恋人たち　／　恋愛小説　／　石庭　／　...     川島よしお      198.0   \n",
       "33                                               捕獲計画     荒木飛呂彦      289.0   \n",
       "34               SHONAN 14DAYS LESSON.60 この手につかんだ未来地図     藤沢とおる      345.0   \n",
       "35                          account 13 Real ＆ Virtual       渡辺静      374.0   \n",
       "36                                     第48戦:手を出したら最後…     土星フジコ      601.0   \n",
       "\n",
       "    pageEnd  numberOfPages datePublished  price       publisher editor  \n",
       "0     219.0          308.0    1972-07-17  100.0   集英社　∥　シュウエイシャ    長野規  \n",
       "1     289.0          316.0    1972-09-11  100.0             集英社    長野規  \n",
       "2     106.0          316.0    1972-09-18  100.0   集英社　∥　シュウエイシャ    長野規  \n",
       "3     150.0          334.0    1973-10-21  120.0   小学館　∥　ショウガクカン   井上敬三  \n",
       "4       1.0          268.0    1975-05-19  130.0   集英社　∥　シュウエイシャ   中野祐介  \n",
       "5     232.0          380.0    1979-09-09  170.0             小学館   田中一喜  \n",
       "6       0.0          344.0    1979-10-29  150.0   集英社　∥　シュウエイシャ   西村繁男  \n",
       "7       NaN          336.0    1979-11-05  150.0   集英社　∥　シュウエイシャ   西村繁男  \n",
       "8       NaN          336.0    1979-11-12  150.0   集英社　∥　シュウエイシャ   西村繁男  \n",
       "9       0.0          382.0    1979-11-26  170.0   集英社　∥　シュウエイシャ   西村繁男  \n",
       "10      NaN          336.0    1979-12-03  150.0   集英社　∥　シュウエイシャ   西村繁男  \n",
       "11      NaN          336.0    1979-12-17  150.0   集英社　∥　シュウエイシャ   西村繁男  \n",
       "12      NaN          384.0    1979-12-24  170.0   集英社　∥　シュウエイシャ   西村繁男  \n",
       "13      0.0          416.0    1980-01-21  170.0   集英社　∥　シュウエイシャ   西村繁男  \n",
       "14      0.0          416.0    1980-01-21  170.0   集英社　∥　シュウエイシャ   西村繁男  \n",
       "15    246.0          380.0    1980-02-24  170.0   小学館　∥　ショウガクカン   田中一喜  \n",
       "16      0.0          388.0    1984-01-18  190.0   小学館　∥　ショウガクカン   田中一喜  \n",
       "17   1578.0          348.0    1984-02-29  180.0    講談社　∥　コウダンシャ   三樹創作  \n",
       "18     38.0          348.0    1986-05-09  180.0  秋田書店　∥　アキタショテン   壁村耐三  \n",
       "19     48.0          364.0    1987-05-01  180.0  秋田書店　∥　アキタショテン   壁村耐三  \n",
       "20    261.0          396.0    1988-10-26  180.0    講談社　∥　コウダンシャ  五十嵐隆夫  \n",
       "21     30.0          412.0    1993-04-01  200.0  秋田書店　∥　アキタショテン   岡本三司  \n",
       "22    358.0          412.0    1993-04-08  200.0  秋田書店　∥　アキタショテン   岡本三司  \n",
       "23      0.0          412.0    1993-06-17  200.0  秋田書店　∥　アキタショテン   岡本三司  \n",
       "24    247.0          420.0    1994-06-01  200.0   小学館　∥　ショウガクカン    平山隆  \n",
       "25    155.0          408.0    1994-06-15  200.0   小学館　∥　ショウガクカン    平山隆  \n",
       "26    293.0          470.0    1995-01-01  200.0   集英社　∥　シュウエイシャ   堀江信彦  \n",
       "27      NaN          468.0    1998-04-01  220.0    講談社　∥　コウダンシャ   野内雅宏  \n",
       "28    349.0          456.0    1998-06-01  220.0   集英社　∥　シュウエイシャ   鳥嶋和彦  \n",
       "29    232.0          470.0    1998-06-17  230.0    講談社　∥　コウダンシャ   野内雅宏  \n",
       "30    341.0          452.0    1999-01-08  230.0   集英社　∥　シュウエイシャ   鳥島和彦  \n",
       "31    207.0          512.0    1999-01-15  230.0   集英社　∥　シュウエイシャ   鳥島和彦  \n",
       "32    101.0          444.0    1999-11-04  220.0  秋田書店　∥　アキタショテン   大塚公平  \n",
       "33    208.0          450.0    2000-05-01  220.0   集英社　∥　シュウエイシャ   鳥嶋和彦  \n",
       "34    264.0          479.0    2011-04-13  248.0    講談社　∥　コウダンシャ   森田浩章  \n",
       "35    298.0          236.0    2015-04-01  260.0             NaN  菅原喜一郎  \n",
       "36    308.0          506.0    2015-07-29  270.0             NaN   市原武法  "
      ]
     },
     "execution_count": 58,
     "metadata": {},
     "output_type": "execute_result"
    }
   ],
   "source": [
    "df_drop"
   ]
  },
  {
   "cell_type": "markdown",
   "id": "028f4155-9f64-41b7-b51b-6413059c48b8",
   "metadata": {},
   "source": [
    "### 各`episode`のページ数`pages`をカラムに追加"
   ]
  },
  {
   "cell_type": "code",
   "execution_count": 59,
   "id": "4574770d-7c4d-474e-b265-41ac93926391",
   "metadata": {},
   "outputs": [],
   "source": [
    "df_new['pages'] = df_new['pageEnd'] - df_new['pageStart'] + 1"
   ]
  },
  {
   "cell_type": "markdown",
   "id": "59ca993f-60a0-49d1-aafa-05d3b4ab4b82",
   "metadata": {},
   "source": [
    "### 各雑誌巻号の最終ページ`pageEndMax`をカラムに追加"
   ]
  },
  {
   "cell_type": "code",
   "execution_count": 60,
   "id": "33a8bdbb-6c06-4041-a2c4-4136bbb4f253",
   "metadata": {},
   "outputs": [],
   "source": [
    "# 各雑誌巻号の最終ページ\n",
    "miname2page = df_new.groupby('miname')['pageEnd'].max().to_dict()\n",
    "\n",
    "df_new['pageEndMax'] = df_new['miname'].apply(\n",
    "    lambda x: miname2page[x])"
   ]
  },
  {
   "cell_type": "markdown",
   "id": "8914ad7e-f717-4e79-b99a-5302095c1bf1",
   "metadata": {},
   "source": [
    "### 各episodeの掲載位置`pageStartPosition`をカラムに追加"
   ]
  },
  {
   "cell_type": "code",
   "execution_count": 61,
   "id": "83d4a7d4-6aef-47be-b1a8-e96ca73b67fd",
   "metadata": {},
   "outputs": [],
   "source": [
    "df_new['pageStartPosition'] = \\\n",
    "    df_new['pageStart'] / df_new['pageEndMax']"
   ]
  },
  {
   "cell_type": "code",
   "execution_count": 62,
   "id": "31aac952-eb0c-4211-8212-caf3efc7f125",
   "metadata": {},
   "outputs": [
    {
     "data": {
      "text/plain": [
       "count    179931.000000\n",
       "mean          0.514837\n",
       "std           0.283146\n",
       "min           0.002045\n",
       "25%           0.274840\n",
       "50%           0.520588\n",
       "75%           0.759626\n",
       "max           1.000000\n",
       "Name: pageStartPosition, dtype: float64"
      ]
     },
     "execution_count": 62,
     "metadata": {},
     "output_type": "execute_result"
    }
   ],
   "source": [
    "df_new['pageStartPosition'].describe()"
   ]
  },
  {
   "cell_type": "markdown",
   "id": "3f87a9a9-5abd-435e-8984-ed7a393c437f",
   "metadata": {},
   "source": [
    "### 保存"
   ]
  },
  {
   "cell_type": "code",
   "execution_count": 63,
   "id": "36de0b4b-d399-42be-97bf-d98318c6bdde",
   "metadata": {},
   "outputs": [],
   "source": [
    "# 全データ\n",
    "df_new.to_csv(\n",
    "    os.path.join(DIR_OUT, 'episodes.csv'), index=False,\n",
    "    encoding='utf_8_sig')\n",
    "# 除外したデータ\n",
    "df_new.to_csv(os.path.join(DIR_OUT, 'droped_episodes.csv'), index=False)"
   ]
  },
  {
   "cell_type": "code",
   "execution_count": null,
   "id": "0c0f3860-e41a-4b72-b0c7-46eafb489c58",
   "metadata": {},
   "outputs": [],
   "source": []
  }
 ],
 "metadata": {
  "kernelspec": {
   "display_name": "Python 3 (ipykernel)",
   "language": "python",
   "name": "python3"
  },
  "language_info": {
   "codemirror_mode": {
    "name": "ipython",
    "version": 3
   },
   "file_extension": ".py",
   "mimetype": "text/x-python",
   "name": "python",
   "nbconvert_exporter": "python",
   "pygments_lexer": "ipython3",
   "version": "3.9.7"
  }
 },
 "nbformat": 4,
 "nbformat_minor": 5
}
